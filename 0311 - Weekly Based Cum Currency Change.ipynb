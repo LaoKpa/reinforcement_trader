{
 "cells": [
  {
   "cell_type": "code",
   "execution_count": 11,
   "metadata": {},
   "outputs": [],
   "source": [
    "import pandas as pd\n",
    "import numpy as np\n",
    "from os import path\n",
    "from CSVUtils import *\n",
    "import ta\n",
    "import matplotlib.pyplot as plt\n",
    "import seaborn as sn\n",
    "import calendar\n",
    "from pprint import pprint"
   ]
  },
  {
   "cell_type": "code",
   "execution_count": 12,
   "metadata": {},
   "outputs": [],
   "source": [
    "DIR = \"./from github/Stock-Trading-Environment/data\"\n",
    "nameList = [\"^BVSP\", \"^TWII\", \"^IXIC\"]\n",
    "df_list = []\n",
    "startDate = pd.to_datetime(\"2015-01-01\")\n",
    "endDate = pd.to_datetime(\"2019-12-31\")\n",
    "\n",
    "for name in nameList:\n",
    "    df = csv2df(csv_path=DIR, csv_name=name+\".csv\", source=\"yahoo\")\n",
    "    df['Date'] = pd.to_datetime(df['Date'])\n",
    "    df = df.dropna()\n",
    "    df_list.append(df)"
   ]
  },
  {
   "cell_type": "code",
   "execution_count": 13,
   "metadata": {},
   "outputs": [],
   "source": [
    "twd_df = pd.read_csv(\"./input/currency/TWD_1995-2020.csv\")\n",
    "brl_df = pd.read_csv(\"./input/currency/BRL_1995-2020.csv\")\n",
    "\n",
    "twd_df['Date'] = pd.to_datetime(twd_df['Date'])\n",
    "brl_df['Date'] = pd.to_datetime(brl_df['Date'])"
   ]
  },
  {
   "cell_type": "code",
   "execution_count": 14,
   "metadata": {},
   "outputs": [],
   "source": [
    "twd_change = twd_df[['Date','Change']]\n",
    "brl_change = brl_df[['Date','Change']]"
   ]
  },
  {
   "cell_type": "code",
   "execution_count": 15,
   "metadata": {},
   "outputs": [],
   "source": [
    "def stem_df(df, intersect_dates, startDate, endDate):\n",
    "    df.dropna(inplace = True)\n",
    "    df = df[df['Date'].isin(intersect_dates)].reset_index(drop=True)\n",
    "    df = df[(df['Date'] >= startDate) & (df['Date'] <= endDate)]\n",
    "    df = df.reset_index(drop=True)\n",
    "    return df"
   ]
  },
  {
   "cell_type": "code",
   "execution_count": 16,
   "metadata": {},
   "outputs": [
    {
     "name": "stderr",
     "output_type": "stream",
     "text": [
      "/Users/lzcai/anaconda3/lib/python3.6/site-packages/ipykernel_launcher.py:3: SettingWithCopyWarning: \n",
      "A value is trying to be set on a copy of a slice from a DataFrame\n",
      "\n",
      "See the caveats in the documentation: http://pandas.pydata.org/pandas-docs/stable/user_guide/indexing.html#returning-a-view-versus-a-copy\n",
      "  This is separate from the ipykernel package so we can avoid doing imports until\n"
     ]
    }
   ],
   "source": [
    "intersect_dates = df_list[0]['Date']\n",
    "for df in df_list[1:]+[twd_change,brl_change]:\n",
    "    df.dropna(inplace = True)\n",
    "    intersect_dates = np.intersect1d(intersect_dates, df['Date'])"
   ]
  },
  {
   "cell_type": "code",
   "execution_count": 17,
   "metadata": {},
   "outputs": [
    {
     "name": "stderr",
     "output_type": "stream",
     "text": [
      "/Users/lzcai/anaconda3/lib/python3.6/site-packages/ipykernel_launcher.py:2: SettingWithCopyWarning: \n",
      "A value is trying to be set on a copy of a slice from a DataFrame\n",
      "\n",
      "See the caveats in the documentation: http://pandas.pydata.org/pandas-docs/stable/user_guide/indexing.html#returning-a-view-versus-a-copy\n",
      "  \n"
     ]
    }
   ],
   "source": [
    "for i, df in enumerate(df_list):\n",
    "    df_list[i] = stem_df(df, intersect_dates, startDate - pd.Timedelta(days=365), endDate)\n",
    "twd_change = stem_df(twd_change, intersect_dates, startDate - pd.Timedelta(days=365), endDate)\n",
    "brl_change = stem_df(brl_change, intersect_dates, startDate - pd.Timedelta(days=365), endDate)"
   ]
  },
  {
   "cell_type": "code",
   "execution_count": 18,
   "metadata": {},
   "outputs": [],
   "source": [
    "df_list[0]['FX Change'] = brl_change['Change']\n",
    "df_list[1]['FX Change'] = twd_change['Change']\n",
    "df_list[2]['FX Change'] = 0"
   ]
  },
  {
   "cell_type": "code",
   "execution_count": 19,
   "metadata": {
    "scrolled": true
   },
   "outputs": [],
   "source": [
    "for i, df in enumerate(df_list):\n",
    "    df['Cum FX Change'] = (df['FX Change']+1).cumprod()\n",
    "    df['Actual Price'] = df['Price']*df['Cum FX Change']"
   ]
  },
  {
   "cell_type": "code",
   "execution_count": 22,
   "metadata": {},
   "outputs": [
    {
     "data": {
      "text/html": [
       "<div>\n",
       "<style scoped>\n",
       "    .dataframe tbody tr th:only-of-type {\n",
       "        vertical-align: middle;\n",
       "    }\n",
       "\n",
       "    .dataframe tbody tr th {\n",
       "        vertical-align: top;\n",
       "    }\n",
       "\n",
       "    .dataframe thead th {\n",
       "        text-align: right;\n",
       "    }\n",
       "</style>\n",
       "<table border=\"1\" class=\"dataframe\">\n",
       "  <thead>\n",
       "    <tr style=\"text-align: right;\">\n",
       "      <th></th>\n",
       "      <th>Date</th>\n",
       "      <th>Open</th>\n",
       "      <th>High</th>\n",
       "      <th>Low</th>\n",
       "      <th>Price</th>\n",
       "      <th>Vol</th>\n",
       "      <th>Change</th>\n",
       "      <th>FX Change</th>\n",
       "      <th>Cum FX Change</th>\n",
       "      <th>Actual Price</th>\n",
       "    </tr>\n",
       "  </thead>\n",
       "  <tbody>\n",
       "    <tr>\n",
       "      <th>0</th>\n",
       "      <td>2014-01-02</td>\n",
       "      <td>4160.029785</td>\n",
       "      <td>4160.959961</td>\n",
       "      <td>4131.790039</td>\n",
       "      <td>4143.069824</td>\n",
       "      <td>1738820000</td>\n",
       "      <td>-0.008026</td>\n",
       "      <td>0</td>\n",
       "      <td>1</td>\n",
       "      <td>4143.069824</td>\n",
       "    </tr>\n",
       "    <tr>\n",
       "      <th>1</th>\n",
       "      <td>2014-01-03</td>\n",
       "      <td>4148.560059</td>\n",
       "      <td>4152.959961</td>\n",
       "      <td>4124.959961</td>\n",
       "      <td>4131.910156</td>\n",
       "      <td>1667480000</td>\n",
       "      <td>-0.002694</td>\n",
       "      <td>0</td>\n",
       "      <td>1</td>\n",
       "      <td>4131.910156</td>\n",
       "    </tr>\n",
       "    <tr>\n",
       "      <th>2</th>\n",
       "      <td>2014-01-06</td>\n",
       "      <td>4137.029785</td>\n",
       "      <td>4139.779785</td>\n",
       "      <td>4103.750000</td>\n",
       "      <td>4113.680176</td>\n",
       "      <td>2292840000</td>\n",
       "      <td>-0.004412</td>\n",
       "      <td>0</td>\n",
       "      <td>1</td>\n",
       "      <td>4113.680176</td>\n",
       "    </tr>\n",
       "    <tr>\n",
       "      <th>3</th>\n",
       "      <td>2014-01-07</td>\n",
       "      <td>4128.569824</td>\n",
       "      <td>4158.180176</td>\n",
       "      <td>4126.479980</td>\n",
       "      <td>4153.180176</td>\n",
       "      <td>2278220000</td>\n",
       "      <td>0.009602</td>\n",
       "      <td>0</td>\n",
       "      <td>1</td>\n",
       "      <td>4153.180176</td>\n",
       "    </tr>\n",
       "    <tr>\n",
       "      <th>4</th>\n",
       "      <td>2014-01-08</td>\n",
       "      <td>4154.279785</td>\n",
       "      <td>4171.750000</td>\n",
       "      <td>4145.000000</td>\n",
       "      <td>4165.609863</td>\n",
       "      <td>2345220000</td>\n",
       "      <td>0.002993</td>\n",
       "      <td>0</td>\n",
       "      <td>1</td>\n",
       "      <td>4165.609863</td>\n",
       "    </tr>\n",
       "  </tbody>\n",
       "</table>\n",
       "</div>"
      ],
      "text/plain": [
       "        Date         Open         High          Low        Price         Vol  \\\n",
       "0 2014-01-02  4160.029785  4160.959961  4131.790039  4143.069824  1738820000   \n",
       "1 2014-01-03  4148.560059  4152.959961  4124.959961  4131.910156  1667480000   \n",
       "2 2014-01-06  4137.029785  4139.779785  4103.750000  4113.680176  2292840000   \n",
       "3 2014-01-07  4128.569824  4158.180176  4126.479980  4153.180176  2278220000   \n",
       "4 2014-01-08  4154.279785  4171.750000  4145.000000  4165.609863  2345220000   \n",
       "\n",
       "     Change  FX Change  Cum FX Change  Actual Price  \n",
       "0 -0.008026          0              1   4143.069824  \n",
       "1 -0.002694          0              1   4131.910156  \n",
       "2 -0.004412          0              1   4113.680176  \n",
       "3  0.009602          0              1   4153.180176  \n",
       "4  0.002993          0              1   4165.609863  "
      ]
     },
     "execution_count": 22,
     "metadata": {},
     "output_type": "execute_result"
    }
   ],
   "source": [
    "df_list[2].head()"
   ]
  },
  {
   "cell_type": "code",
   "execution_count": 23,
   "metadata": {},
   "outputs": [],
   "source": [
    "for i, df in enumerate(df_list):\n",
    "    df.to_csv(path.join(DIR, nameList[i]+\"_new.csv\"), index=False)"
   ]
  },
  {
   "cell_type": "code",
   "execution_count": null,
   "metadata": {},
   "outputs": [],
   "source": []
  },
  {
   "cell_type": "code",
   "execution_count": null,
   "metadata": {},
   "outputs": [],
   "source": []
  },
  {
   "cell_type": "code",
   "execution_count": null,
   "metadata": {},
   "outputs": [],
   "source": []
  },
  {
   "cell_type": "code",
   "execution_count": null,
   "metadata": {},
   "outputs": [],
   "source": []
  },
  {
   "cell_type": "code",
   "execution_count": null,
   "metadata": {},
   "outputs": [],
   "source": []
  },
  {
   "cell_type": "code",
   "execution_count": null,
   "metadata": {},
   "outputs": [],
   "source": []
  },
  {
   "cell_type": "code",
   "execution_count": null,
   "metadata": {},
   "outputs": [],
   "source": []
  },
  {
   "cell_type": "code",
   "execution_count": null,
   "metadata": {},
   "outputs": [],
   "source": []
  },
  {
   "cell_type": "code",
   "execution_count": null,
   "metadata": {},
   "outputs": [],
   "source": []
  }
 ],
 "metadata": {
  "kernelspec": {
   "display_name": "Python 3",
   "language": "python",
   "name": "python3"
  },
  "language_info": {
   "codemirror_mode": {
    "name": "ipython",
    "version": 3
   },
   "file_extension": ".py",
   "mimetype": "text/x-python",
   "name": "python",
   "nbconvert_exporter": "python",
   "pygments_lexer": "ipython3",
   "version": "3.6.9"
  }
 },
 "nbformat": 4,
 "nbformat_minor": 2
}
