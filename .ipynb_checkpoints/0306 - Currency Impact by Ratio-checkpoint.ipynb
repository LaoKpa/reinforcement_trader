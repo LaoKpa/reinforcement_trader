{
 "cells": [
  {
   "cell_type": "code",
   "execution_count": 1,
   "metadata": {},
   "outputs": [],
   "source": [
    "import pandas as pd\n",
    "import numpy as np\n",
    "from os import path\n",
    "from CSVUtils import *\n",
    "import ta\n",
    "import matplotlib.pyplot as plt\n",
    "import seaborn as sn\n",
    "import calendar\n",
    "from pprint import pprint"
   ]
  },
  {
   "cell_type": "code",
   "execution_count": 2,
   "metadata": {},
   "outputs": [],
   "source": [
    "DIR = \"./from github/Stock-Trading-Environment/data\"\n",
    "nameList = [\"^BVSP\", \"^TWII\", \"^IXIC\"]\n",
    "df_list = []\n",
    "startDate = pd.to_datetime(\"2000-01-01\")\n",
    "endDate = pd.to_datetime(\"2020-01-31\")\n",
    "\n",
    "for name in nameList:\n",
    "    df = csv2df(csv_path=DIR, csv_name=name+\".csv\", source=\"yahoo\")\n",
    "    df['Date'] = pd.to_datetime(df['Date'])\n",
    "    df = df.dropna()\n",
    "    df_list.append(df)"
   ]
  },
  {
   "cell_type": "code",
   "execution_count": 3,
   "metadata": {},
   "outputs": [],
   "source": [
    "twd_df = pd.read_csv(\"./input/currency/TWD_1995-2020.csv\")\n",
    "brl_df = pd.read_csv(\"./input/currency/BRL_1995-2020.csv\")\n",
    "\n",
    "twd_df['Date'] = pd.to_datetime(twd_df['Date'])\n",
    "brl_df['Date'] = pd.to_datetime(brl_df['Date'])"
   ]
  },
  {
   "cell_type": "code",
   "execution_count": 4,
   "metadata": {},
   "outputs": [],
   "source": [
    "twd_change = twd_df[['Date','Change']]\n",
    "brl_change = brl_df[['Date','Change']]"
   ]
  },
  {
   "cell_type": "code",
   "execution_count": 5,
   "metadata": {},
   "outputs": [],
   "source": [
    "def stem_df(df, intersect_dates, startDate, endDate):\n",
    "    df.dropna(inplace = True)\n",
    "    df = df[df['Date'].isin(intersect_dates)].reset_index(drop=True)\n",
    "    df = df[(df['Date'] >= startDate) & (df['Date'] <= endDate)]\n",
    "    df = df.reset_index(drop=True)\n",
    "    return df"
   ]
  },
  {
   "cell_type": "code",
   "execution_count": 6,
   "metadata": {},
   "outputs": [
    {
     "name": "stderr",
     "output_type": "stream",
     "text": [
      "C:\\Users\\lzcai\\Anaconda3\\lib\\site-packages\\ipykernel_launcher.py:3: SettingWithCopyWarning: \n",
      "A value is trying to be set on a copy of a slice from a DataFrame\n",
      "\n",
      "See the caveats in the documentation: http://pandas.pydata.org/pandas-docs/stable/user_guide/indexing.html#returning-a-view-versus-a-copy\n",
      "  This is separate from the ipykernel package so we can avoid doing imports until\n"
     ]
    }
   ],
   "source": [
    "intersect_dates = df_list[0]['Date']\n",
    "for df in df_list[1:]+[twd_change,brl_change]:\n",
    "    df.dropna(inplace = True)\n",
    "    intersect_dates = np.intersect1d(intersect_dates, df['Date'])"
   ]
  },
  {
   "cell_type": "code",
   "execution_count": 7,
   "metadata": {},
   "outputs": [
    {
     "name": "stderr",
     "output_type": "stream",
     "text": [
      "C:\\Users\\lzcai\\Anaconda3\\lib\\site-packages\\ipykernel_launcher.py:2: SettingWithCopyWarning: \n",
      "A value is trying to be set on a copy of a slice from a DataFrame\n",
      "\n",
      "See the caveats in the documentation: http://pandas.pydata.org/pandas-docs/stable/user_guide/indexing.html#returning-a-view-versus-a-copy\n",
      "  \n"
     ]
    }
   ],
   "source": [
    "for i, df in enumerate(df_list):\n",
    "    df_list[i] = stem_df(df, intersect_dates, startDate, endDate)\n",
    "twd_change = stem_df(twd_change, intersect_dates, startDate, endDate)\n",
    "brl_change = stem_df(brl_change, intersect_dates, startDate, endDate)"
   ]
  },
  {
   "cell_type": "code",
   "execution_count": 8,
   "metadata": {},
   "outputs": [],
   "source": [
    "df_list[0]['FX Change'] = brl_change['Change']\n",
    "df_list[1]['FX Change'] = twd_change['Change']\n",
    "df_list[2]['FX Change'] = 0"
   ]
  },
  {
   "cell_type": "code",
   "execution_count": 9,
   "metadata": {
    "scrolled": true
   },
   "outputs": [],
   "source": [
    "for i, df in enumerate(df_list):\n",
    "    df['Cum FX Change'] = (df['FX Change']+1).cumprod()\n",
    "    df['Actual Price'] = df['Price']*df['Cum FX Change']"
   ]
  },
  {
   "cell_type": "code",
   "execution_count": 10,
   "metadata": {},
   "outputs": [
    {
     "data": {
      "text/html": [
       "<div>\n",
       "<style scoped>\n",
       "    .dataframe tbody tr th:only-of-type {\n",
       "        vertical-align: middle;\n",
       "    }\n",
       "\n",
       "    .dataframe tbody tr th {\n",
       "        vertical-align: top;\n",
       "    }\n",
       "\n",
       "    .dataframe thead th {\n",
       "        text-align: right;\n",
       "    }\n",
       "</style>\n",
       "<table border=\"1\" class=\"dataframe\">\n",
       "  <thead>\n",
       "    <tr style=\"text-align: right;\">\n",
       "      <th></th>\n",
       "      <th>Date</th>\n",
       "      <th>Open</th>\n",
       "      <th>High</th>\n",
       "      <th>Low</th>\n",
       "      <th>Price</th>\n",
       "      <th>Vol</th>\n",
       "      <th>Change</th>\n",
       "      <th>FX Change</th>\n",
       "      <th>Cum FX Change</th>\n",
       "      <th>Actual Price</th>\n",
       "    </tr>\n",
       "  </thead>\n",
       "  <tbody>\n",
       "    <tr>\n",
       "      <th>0</th>\n",
       "      <td>2000-01-04</td>\n",
       "      <td>16908.0</td>\n",
       "      <td>16908.0</td>\n",
       "      <td>15851.0</td>\n",
       "      <td>15851.0</td>\n",
       "      <td>0.0</td>\n",
       "      <td>-0.063733</td>\n",
       "      <td>-0.0157</td>\n",
       "      <td>0.984300</td>\n",
       "      <td>15602.139300</td>\n",
       "    </tr>\n",
       "    <tr>\n",
       "      <th>1</th>\n",
       "      <td>2000-01-05</td>\n",
       "      <td>15871.0</td>\n",
       "      <td>16302.0</td>\n",
       "      <td>15350.0</td>\n",
       "      <td>16245.0</td>\n",
       "      <td>0.0</td>\n",
       "      <td>0.024856</td>\n",
       "      <td>0.0061</td>\n",
       "      <td>0.990304</td>\n",
       "      <td>16087.492216</td>\n",
       "    </tr>\n",
       "    <tr>\n",
       "      <th>2</th>\n",
       "      <td>2000-01-06</td>\n",
       "      <td>16237.0</td>\n",
       "      <td>16499.0</td>\n",
       "      <td>15977.0</td>\n",
       "      <td>16107.0</td>\n",
       "      <td>0.0</td>\n",
       "      <td>-0.008495</td>\n",
       "      <td>-0.0017</td>\n",
       "      <td>0.988621</td>\n",
       "      <td>15923.713821</td>\n",
       "    </tr>\n",
       "    <tr>\n",
       "      <th>3</th>\n",
       "      <td>2000-01-07</td>\n",
       "      <td>16125.0</td>\n",
       "      <td>16449.0</td>\n",
       "      <td>16125.0</td>\n",
       "      <td>16309.0</td>\n",
       "      <td>0.0</td>\n",
       "      <td>0.012541</td>\n",
       "      <td>0.0074</td>\n",
       "      <td>0.995937</td>\n",
       "      <td>16242.728478</td>\n",
       "    </tr>\n",
       "    <tr>\n",
       "      <th>4</th>\n",
       "      <td>2000-01-10</td>\n",
       "      <td>16325.0</td>\n",
       "      <td>17057.0</td>\n",
       "      <td>16325.0</td>\n",
       "      <td>17022.0</td>\n",
       "      <td>0.0</td>\n",
       "      <td>0.043718</td>\n",
       "      <td>0.0075</td>\n",
       "      <td>1.003406</td>\n",
       "      <td>17079.977441</td>\n",
       "    </tr>\n",
       "  </tbody>\n",
       "</table>\n",
       "</div>"
      ],
      "text/plain": [
       "        Date     Open     High      Low    Price  Vol    Change  FX Change  \\\n",
       "0 2000-01-04  16908.0  16908.0  15851.0  15851.0  0.0 -0.063733    -0.0157   \n",
       "1 2000-01-05  15871.0  16302.0  15350.0  16245.0  0.0  0.024856     0.0061   \n",
       "2 2000-01-06  16237.0  16499.0  15977.0  16107.0  0.0 -0.008495    -0.0017   \n",
       "3 2000-01-07  16125.0  16449.0  16125.0  16309.0  0.0  0.012541     0.0074   \n",
       "4 2000-01-10  16325.0  17057.0  16325.0  17022.0  0.0  0.043718     0.0075   \n",
       "\n",
       "   Cum FX Change  Actual Price  \n",
       "0       0.984300  15602.139300  \n",
       "1       0.990304  16087.492216  \n",
       "2       0.988621  15923.713821  \n",
       "3       0.995937  16242.728478  \n",
       "4       1.003406  17079.977441  "
      ]
     },
     "execution_count": 10,
     "metadata": {},
     "output_type": "execute_result"
    }
   ],
   "source": [
    "df_list[0].head()"
   ]
  },
  {
   "cell_type": "code",
   "execution_count": 11,
   "metadata": {},
   "outputs": [],
   "source": [
    "df_list[0].to_csv(\"./from github\\\\Stock-Trading-Environment\\\\data\\\\^BVSP_new.csv\", index=False)\n",
    "df_list[1].to_csv(\"./from github\\\\Stock-Trading-Environment\\\\data\\\\^TWII_new.csv\", index=False)\n",
    "df_list[2].to_csv(\"./from github\\\\Stock-Trading-Environment\\\\data\\\\^IXIC_new.csv\", index=False)"
   ]
  },
  {
   "cell_type": "code",
   "execution_count": null,
   "metadata": {},
   "outputs": [],
   "source": []
  },
  {
   "cell_type": "code",
   "execution_count": null,
   "metadata": {},
   "outputs": [],
   "source": []
  },
  {
   "cell_type": "code",
   "execution_count": null,
   "metadata": {},
   "outputs": [],
   "source": []
  },
  {
   "cell_type": "code",
   "execution_count": null,
   "metadata": {},
   "outputs": [],
   "source": []
  },
  {
   "cell_type": "code",
   "execution_count": null,
   "metadata": {},
   "outputs": [],
   "source": []
  },
  {
   "cell_type": "code",
   "execution_count": null,
   "metadata": {},
   "outputs": [],
   "source": []
  },
  {
   "cell_type": "code",
   "execution_count": null,
   "metadata": {},
   "outputs": [],
   "source": []
  },
  {
   "cell_type": "code",
   "execution_count": null,
   "metadata": {},
   "outputs": [],
   "source": []
  },
  {
   "cell_type": "code",
   "execution_count": null,
   "metadata": {},
   "outputs": [],
   "source": []
  }
 ],
 "metadata": {
  "kernelspec": {
   "display_name": "Python 3",
   "language": "python",
   "name": "python3"
  },
  "language_info": {
   "codemirror_mode": {
    "name": "ipython",
    "version": 3
   },
   "file_extension": ".py",
   "mimetype": "text/x-python",
   "name": "python",
   "nbconvert_exporter": "python",
   "pygments_lexer": "ipython3",
   "version": "3.6.5"
  }
 },
 "nbformat": 4,
 "nbformat_minor": 2
}
