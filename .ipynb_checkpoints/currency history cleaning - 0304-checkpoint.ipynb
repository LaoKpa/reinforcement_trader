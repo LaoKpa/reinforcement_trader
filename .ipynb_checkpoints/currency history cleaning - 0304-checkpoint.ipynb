{
 "cells": [
  {
   "cell_type": "code",
   "execution_count": 4,
   "metadata": {},
   "outputs": [],
   "source": [
    "from CSVUtils import *\n",
    "import pandas as pd\n",
    "import numpy as np\n",
    "from os import path"
   ]
  },
  {
   "cell_type": "code",
   "execution_count": 10,
   "metadata": {},
   "outputs": [],
   "source": [
    "DIR = \"./input/currency\"\n",
    "name_prefix = [\"BRL_USD\", \"TWD_USD\"]\n",
    "name_suffix = ['1995-2009','2010-2020']\n",
    "df_list = []\n",
    "for prefix in name_prefix:\n",
    "    tmp_df_list = []\n",
    "    for suffix in name_suffix:\n",
    "        filename = prefix+\" Historical Data_\"+suffix+\".csv\"\n",
    "        df = csv2df(DIR, filename, source=\"investing\")\n",
    "        tmp_df_list.append(df)\n",
    "    df_list.append(tmp_df_list)"
   ]
  },
  {
   "cell_type": "code",
   "execution_count": 16,
   "metadata": {},
   "outputs": [],
   "source": [
    "df = df.sort_values('Date').reset_index(drop=True)"
   ]
  },
  {
   "cell_type": "code",
   "execution_count": 26,
   "metadata": {
    "scrolled": true
   },
   "outputs": [
    {
     "data": {
      "text/plain": [
       "{'BRL_USD':            Date   Price    Open    High     Low  Change\n",
       " 0    1995-01-02  9.3123  9.3020  9.3123  9.3020 -0.0072\n",
       " 1    1995-01-03  9.3106  9.3003  9.3106  9.3003 -0.0002\n",
       " 2    1995-01-04  9.3518  9.3415  9.3518  9.3415  0.0044\n",
       " 3    1995-01-05  9.2882  9.2780  9.2882  9.2780 -0.0068\n",
       " 4    1995-01-06  9.2929  9.2878  9.2929  9.2878  0.0005\n",
       " ...         ...     ...     ...     ...     ...     ...\n",
       " 6494 2020-02-26  0.2247  0.2278  0.2279  0.2244 -0.0140\n",
       " 6495 2020-02-27  0.2229  0.2247  0.2248  0.2221 -0.0080\n",
       " 6496 2020-02-28  0.2235  0.2220  0.2240  0.2215  0.0027\n",
       " 6497 2020-03-02  0.2235  0.2225  0.2238  0.2219  0.0000\n",
       " 6498 2020-03-03  0.2215  0.2234  0.2246  0.2214 -0.0090\n",
       " \n",
       " [6499 rows x 6 columns],\n",
       " 'TWD_USD':            Date    Price     Open     High      Low  Change\n",
       " 0    2005-08-23  0.03110  0.03110  0.03120  0.03100  0.0000\n",
       " 1    2005-08-24  0.03090  0.03100  0.03110  0.03090 -0.0064\n",
       " 2    2005-08-25  0.03090  0.03090  0.03110  0.03090  0.0000\n",
       " 3    2005-08-26  0.03110  0.03090  0.03110  0.03080  0.0065\n",
       " 4    2005-08-29  0.03070  0.03090  0.03090  0.03070 -0.0129\n",
       " ...         ...      ...      ...      ...      ...     ...\n",
       " 3787 2020-02-27  0.03300  0.03300  0.03320  0.03290  0.0000\n",
       " 3788 2020-02-28  0.03320  0.03300  0.03320  0.03290  0.0061\n",
       " 3789 2020-03-02  0.03350  0.03320  0.03350  0.03310  0.0090\n",
       " 3790 2020-03-03  0.03352  0.03355  0.03360  0.03328  0.0005\n",
       " 3791 2020-03-04  0.03342  0.03346  0.03352  0.03333 -0.0029\n",
       " \n",
       " [3792 rows x 6 columns]}"
      ]
     },
     "execution_count": 26,
     "metadata": {},
     "output_type": "execute_result"
    }
   ],
   "source": [
    "result_dict = {}\n",
    "for i, country_list in enumerate(df_list):\n",
    "    result = pd.concat([country_list[0], country_list[1]], ignore_index=True).sort_values('Date').reset_index(drop=True)\n",
    "    result_dict[name_prefix[i]] = result\n",
    "result_dict \n"
   ]
  },
  {
   "cell_type": "code",
   "execution_count": 30,
   "metadata": {},
   "outputs": [
    {
     "data": {
      "text/html": [
       "<div>\n",
       "<style scoped>\n",
       "    .dataframe tbody tr th:only-of-type {\n",
       "        vertical-align: middle;\n",
       "    }\n",
       "\n",
       "    .dataframe tbody tr th {\n",
       "        vertical-align: top;\n",
       "    }\n",
       "\n",
       "    .dataframe thead th {\n",
       "        text-align: right;\n",
       "    }\n",
       "</style>\n",
       "<table border=\"1\" class=\"dataframe\">\n",
       "  <thead>\n",
       "    <tr style=\"text-align: right;\">\n",
       "      <th></th>\n",
       "      <th>Date</th>\n",
       "      <th>Price</th>\n",
       "      <th>Open</th>\n",
       "      <th>High</th>\n",
       "      <th>Low</th>\n",
       "      <th>Change</th>\n",
       "    </tr>\n",
       "  </thead>\n",
       "  <tbody>\n",
       "    <tr>\n",
       "      <th>93</th>\n",
       "      <td>2005-08-23</td>\n",
       "      <td>0.031128</td>\n",
       "      <td>0.031172</td>\n",
       "      <td>0.031056</td>\n",
       "      <td>0.031192</td>\n",
       "      <td>0.0003</td>\n",
       "    </tr>\n",
       "  </tbody>\n",
       "</table>\n",
       "</div>"
      ],
      "text/plain": [
       "         Date     Price      Open      High       Low  Change\n",
       "93 2005-08-23  0.031128  0.031172  0.031056  0.031192  0.0003"
      ]
     },
     "execution_count": 30,
     "metadata": {},
     "output_type": "execute_result"
    }
   ],
   "source": [
    "DIR = \"./input/currency\"\n",
    "filename = \"USD_TWD Historical Data_1995-2005.csv\"\n",
    "df = csv2df(DIR, filename, source=\"investing\")\n",
    "df['Price'] = 1/df['Price']\n",
    "df['Open'] = 1/df['Open']\n",
    "df['High'] = 1/df['High']\n",
    "df['Low'] = 1/df['Low']\n",
    "df[df['Date'] == pd.to_datetime(\"2005-08-23\")]"
   ]
  },
  {
   "cell_type": "code",
   "execution_count": null,
   "metadata": {},
   "outputs": [],
   "source": []
  }
 ],
 "metadata": {
  "kernelspec": {
   "display_name": "Python 3",
   "language": "python",
   "name": "python3"
  },
  "language_info": {
   "codemirror_mode": {
    "name": "ipython",
    "version": 3
   },
   "file_extension": ".py",
   "mimetype": "text/x-python",
   "name": "python",
   "nbconvert_exporter": "python",
   "pygments_lexer": "ipython3",
   "version": "3.6.9"
  }
 },
 "nbformat": 4,
 "nbformat_minor": 2
}
