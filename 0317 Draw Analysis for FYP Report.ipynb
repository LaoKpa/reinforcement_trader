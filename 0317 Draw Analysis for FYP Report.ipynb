{
 "cells": [
  {
   "cell_type": "code",
   "execution_count": 1,
   "metadata": {},
   "outputs": [],
   "source": [
    "import numpy as np\n",
    "import pandas as pd\n",
    "import seaborn as sns\n",
    "import matplotlib.pyplot as plt"
   ]
  },
  {
   "cell_type": "code",
   "execution_count": 31,
   "metadata": {},
   "outputs": [],
   "source": [
    "data = [{\n",
    "    \"Training Epochs\": \"10k\",\n",
    "    \"Gain>BNH\": 0,\n",
    "    \"Gain-(33%,BNH)\": 0,\n",
    "    \"Gain<33%\": 0,\n",
    "    \"Loss\": 10,\n",
    "    \"Explosion\": 0\n",
    "},\n",
    "    {\n",
    "    \"Training Epochs\": \"50k\",\n",
    "    \"Gain>BNH\": 0,\n",
    "    \"Gain-(33%,BNH)\": 0,\n",
    "    \"Gain<33%\": 2,\n",
    "    \"Loss\": 8,\n",
    "    \"Explosion\": 0\n",
    "},\n",
    "    {\n",
    "    \"Training Epochs\": \"100k\",\n",
    "    \"Gain>BNH\": 0,\n",
    "    \"Gain-(33%,BNH)\": 4,\n",
    "    \"Gain<33%\": 3,\n",
    "    \"Loss\": 3,\n",
    "    \"Explosion\": 0\n",
    "},\n",
    "    {\n",
    "    \"Training Epochs\": \"500k\",\n",
    "    \"Gain>BNH\": 0,\n",
    "    \"Gain-(33%,BNH)\": 1,\n",
    "    \"Gain<33%\": 0,\n",
    "    \"Loss\": 0,\n",
    "    \"Explosion\": 9\n",
    "}\n",
    "]"
   ]
  },
  {
   "cell_type": "code",
   "execution_count": 35,
   "metadata": {},
   "outputs": [],
   "source": [
    "data = [\n",
    "    {\n",
    "    \"Training Epochs\": \"50k\",\n",
    "    \"Gain>BNH\": 0,\n",
    "    \"Gain-(33%,BNH)\": 6,\n",
    "    \"Gain<33%\": 4,\n",
    "    \"Loss\": 0,\n",
    "    \"Explosion\": 0\n",
    "},\n",
    "    {\n",
    "    \"Training Epochs\": \"100k\",\n",
    "    \"Gain>BNH\": 2,\n",
    "    \"Gain-(33%,BNH)\": 7,\n",
    "    \"Gain<33%\": 1,\n",
    "    \"Loss\": 0,\n",
    "    \"Explosion\": 0\n",
    "},\n",
    "    {\n",
    "    \"Training Epochs\": \"200k\",\n",
    "    \"Gain>BNH\": 1,\n",
    "    \"Gain-(33%,BNH)\": 2,\n",
    "    \"Gain<33%\": 1,\n",
    "    \"Loss\": 0,\n",
    "    \"Explosion\": 6\n",
    "}\n",
    "]"
   ]
  },
  {
   "cell_type": "code",
   "execution_count": 45,
   "metadata": {},
   "outputs": [],
   "source": [
    "data = [\n",
    "    {\n",
    "    \"Label\": \"BRZ-TW-S&P\",\n",
    "    \"Gain>BNH\": 2,\n",
    "    \"Gain-(33%,BNH)\": 7,\n",
    "    \"Gain<33%\": 1,\n",
    "    \"Loss\": 0,\n",
    "    \"Explosion\": 0\n",
    "},\n",
    "    {\n",
    "    \"Label\": \"S&P-BRZ-TW\",\n",
    "    \"Gain>BNH\": 3,\n",
    "    \"Gain-(33%,BNH)\": 6,\n",
    "    \"Gain<33%\": 1,\n",
    "    \"Loss\": 0,\n",
    "    \"Explosion\": 0\n",
    "},\n",
    "    {\n",
    "    \"Label\": \"TW-S&P-BRZ\",\n",
    "    \"Gain>BNH\": 1,\n",
    "    \"Gain-(33%,BNH)\": 5,\n",
    "    \"Gain<33%\": 3,\n",
    "    \"Loss\": 0,\n",
    "    \"Explosion\": 1\n",
    "}\n",
    "]"
   ]
  },
  {
   "cell_type": "code",
   "execution_count": 2,
   "metadata": {},
   "outputs": [],
   "source": [
    "data = [{\n",
    "    \"Training Epochs\": \"10k\",\n",
    "    \"Gain>BNH\": 4,\n",
    "    \"Gain-(33%,BNH)\": 6,\n",
    "    \"Gain<33%\": 0,\n",
    "    \"Loss\": 0,\n",
    "    \"Explosion\": 0\n",
    "},\n",
    "    {\n",
    "    \"Training Epochs\": \"50k\",\n",
    "    \"Gain>BNH\": 3,\n",
    "    \"Gain-(33%,BNH)\": 6,\n",
    "    \"Gain<33%\": 1,\n",
    "    \"Loss\": 0,\n",
    "    \"Explosion\": 0\n",
    "},\n",
    "    {\n",
    "    \"Training Epochs\": \"100k\",\n",
    "    \"Gain>BNH\": 4,\n",
    "    \"Gain-(33%,BNH)\": 6,\n",
    "    \"Gain<33%\": 0,\n",
    "    \"Loss\": 0,\n",
    "    \"Explosion\": 0\n",
    "},\n",
    "    {\n",
    "    \"Training Epochs\": \"200k\",\n",
    "    \"Gain>BNH\": 5,\n",
    "    \"Gain-(33%,BNH)\": 5,\n",
    "    \"Gain<33%\": 0,\n",
    "    \"Loss\": 0,\n",
    "    \"Explosion\": 0\n",
    "}\n",
    "]"
   ]
  },
  {
   "cell_type": "code",
   "execution_count": 3,
   "metadata": {},
   "outputs": [],
   "source": [
    "data_df = pd.DataFrame(data)\n",
    "# data_df.set_index('Label', inplace=True)\n",
    "data_df.set_index('Training Epochs', inplace=True)"
   ]
  },
  {
   "cell_type": "code",
   "execution_count": 4,
   "metadata": {},
   "outputs": [
    {
     "data": {
      "text/html": [
       "<div>\n",
       "<style scoped>\n",
       "    .dataframe tbody tr th:only-of-type {\n",
       "        vertical-align: middle;\n",
       "    }\n",
       "\n",
       "    .dataframe tbody tr th {\n",
       "        vertical-align: top;\n",
       "    }\n",
       "\n",
       "    .dataframe thead th {\n",
       "        text-align: right;\n",
       "    }\n",
       "</style>\n",
       "<table border=\"1\" class=\"dataframe\">\n",
       "  <thead>\n",
       "    <tr style=\"text-align: right;\">\n",
       "      <th></th>\n",
       "      <th>Gain&gt;BNH</th>\n",
       "      <th>Gain-(33%,BNH)</th>\n",
       "      <th>Gain&lt;33%</th>\n",
       "      <th>Loss</th>\n",
       "      <th>Explosion</th>\n",
       "    </tr>\n",
       "    <tr>\n",
       "      <th>Training Epochs</th>\n",
       "      <th></th>\n",
       "      <th></th>\n",
       "      <th></th>\n",
       "      <th></th>\n",
       "      <th></th>\n",
       "    </tr>\n",
       "  </thead>\n",
       "  <tbody>\n",
       "    <tr>\n",
       "      <th>10k</th>\n",
       "      <td>4</td>\n",
       "      <td>6</td>\n",
       "      <td>0</td>\n",
       "      <td>0</td>\n",
       "      <td>0</td>\n",
       "    </tr>\n",
       "    <tr>\n",
       "      <th>50k</th>\n",
       "      <td>3</td>\n",
       "      <td>6</td>\n",
       "      <td>1</td>\n",
       "      <td>0</td>\n",
       "      <td>0</td>\n",
       "    </tr>\n",
       "    <tr>\n",
       "      <th>100k</th>\n",
       "      <td>4</td>\n",
       "      <td>6</td>\n",
       "      <td>0</td>\n",
       "      <td>0</td>\n",
       "      <td>0</td>\n",
       "    </tr>\n",
       "    <tr>\n",
       "      <th>200k</th>\n",
       "      <td>5</td>\n",
       "      <td>5</td>\n",
       "      <td>0</td>\n",
       "      <td>0</td>\n",
       "      <td>0</td>\n",
       "    </tr>\n",
       "  </tbody>\n",
       "</table>\n",
       "</div>"
      ],
      "text/plain": [
       "                 Gain>BNH  Gain-(33%,BNH)  Gain<33%  Loss  Explosion\n",
       "Training Epochs                                                     \n",
       "10k                     4               6         0     0          0\n",
       "50k                     3               6         1     0          0\n",
       "100k                    4               6         0     0          0\n",
       "200k                    5               5         0     0          0"
      ]
     },
     "execution_count": 4,
     "metadata": {},
     "output_type": "execute_result"
    }
   ],
   "source": [
    "data_df"
   ]
  },
  {
   "cell_type": "code",
   "execution_count": 7,
   "metadata": {},
   "outputs": [
    {
     "data": {
      "text/plain": [
       "<matplotlib.axes._subplots.AxesSubplot at 0x1868323f518>"
      ]
     },
     "execution_count": 7,
     "metadata": {},
     "output_type": "execute_result"
    },
    {
     "data": {
      "image/png": "[encoded data removed]",
      "text/plain": [
       "<Figure size 720x504 with 1 Axes>"
      ]
     },
     "metadata": {},
     "output_type": "display_data"
    }
   ],
   "source": [
    "data_df.plot.bar(stacked=True, figsize=(10,7), cmap=\"Set3\", title=\"Performance of Monthly Action with Leakage\")"
   ]
  },
  {
   "cell_type": "code",
   "execution_count": null,
   "metadata": {},
   "outputs": [],
   "source": []
  },
  {
   "cell_type": "code",
   "execution_count": 51,
   "metadata": {},
   "outputs": [
    {
     "ename": "ModuleNotFoundError",
     "evalue": "No module named 'numpy.random._pickle'",
     "output_type": "error",
     "traceback": [
      "\u001b[0;31m---------------------------------------------------------------------------\u001b[0m",
      "\u001b[0;31mModuleNotFoundError\u001b[0m                       Traceback (most recent call last)",
      "\u001b[0;32m<ipython-input-51-67fa2d779046>\u001b[0m in \u001b[0;36m<module>\u001b[0;34m\u001b[0m\n\u001b[1;32m      1\u001b[0m \u001b[0;32mimport\u001b[0m \u001b[0mpickle\u001b[0m\u001b[0;34m\u001b[0m\u001b[0;34m\u001b[0m\u001b[0m\n\u001b[1;32m      2\u001b[0m \u001b[0;32mimport\u001b[0m \u001b[0mnumpy\u001b[0m\u001b[0;34m\u001b[0m\u001b[0;34m\u001b[0m\u001b[0m\n\u001b[0;32m----> 3\u001b[0;31m \u001b[0mpickle\u001b[0m\u001b[0;34m.\u001b[0m\u001b[0mload\u001b[0m\u001b[0;34m(\u001b[0m\u001b[0mopen\u001b[0m\u001b[0;34m(\u001b[0m\u001b[0;34m\"./from github/Stock-Trading-Environment/output/306/BRZ_TW_NASDAQ-Selected_Trans-withleakage+RSI-200000-3-model.model\"\u001b[0m\u001b[0;34m,\u001b[0m \u001b[0;34m\"rb\"\u001b[0m\u001b[0;34m)\u001b[0m\u001b[0;34m)\u001b[0m\u001b[0;34m\u001b[0m\u001b[0;34m\u001b[0m\u001b[0m\n\u001b[0m",
      "\u001b[0;31mModuleNotFoundError\u001b[0m: No module named 'numpy.random._pickle'"
     ]
    }
   ],
   "source": [
    "import pickle\n",
    "import numpy\n",
    "pickle.load(open(\"./from github/Stock-Trading-Environment/output/306/BRZ_TW_NASDAQ-Selected_Trans-withleakage+RSI-200000-3-model.model\", \"rb\"))"
   ]
  },
  {
   "cell_type": "code",
   "execution_count": null,
   "metadata": {},
   "outputs": [],
   "source": []
  }
 ],
 "metadata": {
  "kernelspec": {
   "display_name": "Python 3",
   "language": "python",
   "name": "python3"
  },
  "language_info": {
   "codemirror_mode": {
    "name": "ipython",
    "version": 3
   },
   "file_extension": ".py",
   "mimetype": "text/x-python",
   "name": "python",
   "nbconvert_exporter": "python",
   "pygments_lexer": "ipython3",
   "version": "3.6.5"
  }
 },
 "nbformat": 4,
 "nbformat_minor": 2
}
