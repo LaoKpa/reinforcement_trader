{
 "cells": [
  {
   "cell_type": "code",
   "execution_count": 316,
   "metadata": {},
   "outputs": [],
   "source": [
    "import pandas as pd\n",
    "import numpy as np\n",
    "from os import path\n",
    "from CSVUtils import *\n",
    "import ta\n",
    "import matplotlib.pyplot as plt\n",
    "import seaborn as sn\n",
    "\n",
    "# Import required libraries\n",
    "import sklearn\n",
    "from sklearn.neural_network import MLPClassifier\n",
    "from sklearn.neural_network import MLPRegressor\n",
    "\n",
    "# Import necessary modules\n",
    "from sklearn.model_selection import train_test_split\n",
    "from sklearn.metrics import mean_squared_error\n",
    "from math import sqrt\n",
    "from sklearn.metrics import r2_score"
   ]
  },
  {
   "cell_type": "code",
   "execution_count": 352,
   "metadata": {},
   "outputs": [],
   "source": [
    "DIR = \"./input/yahoo\"\n",
    "nameList = [\"^GSPC\", \"^GDAXI\", \"^HSI\"]\n",
    "trainStartDate = pd.to_datetime(\"2000-01-01\")\n",
    "trainEndDate = pd.to_datetime(\"2014-12-31\")\n",
    "testStartDate = pd.to_datetime(\"2015-01-01\")\n",
    "testEndDate = pd.to_datetime(\"2019-12-31\")\n",
    "\n",
    "# for name in nameList:\n",
    "df = csv2df(csv_path=DIR, csv_name=nameList[1]+\".csv\", source=\"yahoo\")"
   ]
  },
  {
   "cell_type": "code",
   "execution_count": 353,
   "metadata": {},
   "outputs": [],
   "source": [
    "df['Future_Price_7d'] = df.Price.shift(-7)\n",
    "df['Future_Price_30d'] = df.Price.shift(-30)\n",
    "df['Date'] = pd.to_datetime(df['Date'])\n",
    "df.dropna(inplace=True)\n",
    "\n",
    "df['Change_7d'] = (df['Future_Price_7d'] - df['Price'])/df['Price']\n",
    "df['Change_30d'] = (df['Future_Price_30d'] - df['Price'])/df['Price']\n",
    "df.fillna(0, inplace=True)\n",
    "\n",
    "bins = [-np.inf, -0.1, -0.01, 0.01, 0.1, np.inf]\n",
    "labels=['Strong Bear','Weak Bear','Horizontal','Weak Bull', 'Strong Bull']\n",
    "label_lookup = {\"Strong Bear\": 0,  \"Weak Bear\": 1, 'Horizontal':2, 'Weak Bull': 3, 'Strong Bull': 4}\n",
    "# label_lookup = {\"Strong Bear\": 0, 'Bear': 1, \"Weak Bear\": 2, 'Horizontal':3, 'Weak Bull': 4, 'Bull':5, 'Strong Bull': 6}\n",
    "\n",
    "df['Cat_7d'] = pd.cut(df['Change_7d'], bins=bins, labels=labels)\n",
    "df['Cat_30d'] = pd.cut(df['Change_30d'], bins=bins, labels=labels)\n",
    "df[\"Cat_Int_7d\"] = df[\"Cat_7d\"].map(label_lookup)\n",
    "df[\"Cat_Int_30d\"] = df[\"Cat_30d\"].map(label_lookup)"
   ]
  },
  {
   "cell_type": "code",
   "execution_count": 354,
   "metadata": {},
   "outputs": [
    {
     "name": "stderr",
     "output_type": "stream",
     "text": [
      "c:\\users\\lzcai\\anaconda3\\envs\\tensorflow2\\lib\\site-packages\\ta\\trend.py:543: RuntimeWarning: invalid value encountered in double_scalars\n",
      "  dip[i] = 100 * (self._dip[i]/self._trs[i])\n",
      "c:\\users\\lzcai\\anaconda3\\envs\\tensorflow2\\lib\\site-packages\\ta\\trend.py:547: RuntimeWarning: invalid value encountered in double_scalars\n",
      "  din[i] = 100 * (self._din[i]/self._trs[i])\n"
     ]
    }
   ],
   "source": [
    "df = ta.add_all_ta_features(\n",
    "    df, open=\"Open\", high=\"High\", low=\"Low\", close=\"Price\", volume=\"Vol\")"
   ]
  },
  {
   "cell_type": "code",
   "execution_count": 355,
   "metadata": {},
   "outputs": [],
   "source": [
    "future_cols = ['Future_Price_7d', 'Future_Price_30d', 'Cat_7d', 'Cat_30d', \"Cat_Int_7d\", \"Cat_Int_30d\", 'Change_7d', 'Change_30d']\n",
    "target_cols = [\"Cat_Int_7d\", \"Cat_Int_30d\", 'Future_Price_7d', 'Future_Price_30d']\n",
    "data_cols = [col for col in list(df.columns) if col not in future_cols]\n",
    "df[data_cols] = df[data_cols].fillna(0)\n",
    "data_cols.remove('Date')"
   ]
  },
  {
   "cell_type": "code",
   "execution_count": 356,
   "metadata": {},
   "outputs": [],
   "source": [
    "df_backup = df.copy()\n",
    "# df[data_cols] = df[data_cols]/df[data_cols].max()\n",
    "df[data_cols] = df[data_cols].replace([np.inf, -np.inf], np.nan)\n",
    "df[data_cols] = df[data_cols].fillna(0)"
   ]
  },
  {
   "cell_type": "code",
   "execution_count": null,
   "metadata": {},
   "outputs": [],
   "source": []
  },
  {
   "cell_type": "code",
   "execution_count": null,
   "metadata": {},
   "outputs": [],
   "source": []
  },
  {
   "cell_type": "code",
   "execution_count": 358,
   "metadata": {},
   "outputs": [],
   "source": [
    "train_df = df[(df['Date'] >= trainStartDate) & (df['Date'] <= trainEndDate)]\n",
    "test_df = df[(df['Date'] >= testStartDate) & (df['Date'] <= testEndDate)]"
   ]
  },
  {
   "cell_type": "code",
   "execution_count": 359,
   "metadata": {},
   "outputs": [
    {
     "name": "stdout",
     "output_type": "stream",
     "text": [
      "(3736, 73)\n",
      "(1252, 73)\n",
      "[[   0    0    0   63    0]\n",
      " [   0    4    0 1158    0]\n",
      " [   0    0    5  901    0]\n",
      " [   0    0    0 1581    0]\n",
      " [   0    0    0   24    0]]\n",
      "\n",
      "\n",
      "\n",
      "              precision    recall  f1-score   support\n",
      "\n",
      "           0       0.00      0.00      0.00        63\n",
      "           1       1.00      0.00      0.01      1162\n",
      "           2       1.00      0.01      0.01       906\n",
      "           3       0.42      1.00      0.60      1581\n",
      "           4       0.00      0.00      0.00        24\n",
      "\n",
      "    accuracy                           0.43      3736\n",
      "   macro avg       0.48      0.20      0.12      3736\n",
      "weighted avg       0.73      0.43      0.26      3736\n",
      "\n"
     ]
    },
    {
     "name": "stderr",
     "output_type": "stream",
     "text": [
      "c:\\users\\lzcai\\anaconda3\\envs\\tensorflow2\\lib\\site-packages\\sklearn\\metrics\\_classification.py:1272: UndefinedMetricWarning: Precision and F-score are ill-defined and being set to 0.0 in labels with no predicted samples. Use `zero_division` parameter to control this behavior.\n",
      "  _warn_prf(average, modifier, msg_start, len(result))\n"
     ]
    }
   ],
   "source": [
    "X_train = train_df[data_cols].values\n",
    "y_train = train_df[target_cols[0]].values\n",
    "\n",
    "X_test = test_df[data_cols].values\n",
    "y_test = test_df[target_cols[0]].values\n",
    "\n",
    "# X_train, X_test, y_train, y_test = train_test_split(X, y, test_size=0.30, random_state=40)\n",
    "print(X_train.shape); print(X_test.shape)\n",
    "\n",
    "mlp = MLPClassifier(hidden_layer_sizes=(32,32,16), activation='relu', solver='adam', max_iter=5000)\n",
    "# mlp = MLPRegressor(hidden_layer_sizes=(8,8,8), activation='relu', solver='adam', max_iter=500)\n",
    "\n",
    "mlp.fit(X_train,y_train)\n",
    "\n",
    "predict_train = mlp.predict(X_train)\n",
    "predict_test = mlp.predict(X_test)\n",
    "\n",
    "from sklearn.metrics import classification_report,confusion_matrix\n",
    "print(confusion_matrix(y_train,predict_train))\n",
    "print('\\n\\n')\n",
    "print(classification_report(y_train,predict_train))"
   ]
  },
  {
   "cell_type": "code",
   "execution_count": 336,
   "metadata": {},
   "outputs": [
    {
     "name": "stdout",
     "output_type": "stream",
     "text": [
      "(3773, 73)\n",
      "(1258, 73)\n",
      "382480.88415420114\n",
      "360550.01630469563\n"
     ]
    }
   ],
   "source": [
    "X_train = train_df[data_cols].values\n",
    "y_train = train_df[target_cols[2]].values\n",
    "\n",
    "X_test = test_df[data_cols].values\n",
    "y_test = test_df[target_cols[2]].values\n",
    "\n",
    "# X_train, X_test, y_train, y_test = train_test_split(X, y, test_size=0.30, random_state=40)\n",
    "print(X_train.shape); print(X_test.shape)\n",
    "\n",
    "# mlp = MLPClassifier(hidden_layer_sizes=(8,8,8), activation='relu', solver='adam', max_iter=500)\n",
    "mlp = MLPRegressor(hidden_layer_sizes=(32,32,16), activation='relu', solver='adam', max_iter=5000)\n",
    "\n",
    "mlp.fit(X_train,y_train)\n",
    "\n",
    "predict_train = mlp.predict(X_train)\n",
    "predict_test = mlp.predict(X_test)\n",
    "\n",
    "print(np.sqrt(mean_squared_error(y_train,predict_train)))\n",
    "print(np.sqrt(mean_squared_error(y_test,predict_test))) "
   ]
  },
  {
   "cell_type": "code",
   "execution_count": null,
   "metadata": {},
   "outputs": [],
   "source": []
  },
  {
   "cell_type": "code",
   "execution_count": null,
   "metadata": {},
   "outputs": [],
   "source": []
  },
  {
   "cell_type": "code",
   "execution_count": null,
   "metadata": {},
   "outputs": [],
   "source": []
  },
  {
   "cell_type": "code",
   "execution_count": 298,
   "metadata": {},
   "outputs": [
    {
     "name": "stdout",
     "output_type": "stream",
     "text": [
      "(3773, 73)\n",
      "(1258, 73)\n",
      "[[   4    0    0    0  179    0    0]\n",
      " [   0    0    0    0  721    0    0]\n",
      " [   0    0    0    0  339    0    0]\n",
      " [   0    0    0    0  590    0    0]\n",
      " [   0    0    0    0 1296    0    0]\n",
      " [   0    0    0    0  550    0    0]\n",
      " [   0    0    0    0   93    0    1]]\n",
      "\n",
      "\n",
      "\n",
      "              precision    recall  f1-score   support\n",
      "\n",
      "           0       1.00      0.02      0.04       183\n",
      "           1       0.00      0.00      0.00       721\n",
      "           2       0.00      0.00      0.00       339\n",
      "           3       0.00      0.00      0.00       590\n",
      "           4       0.34      1.00      0.51      1296\n",
      "           5       0.00      0.00      0.00       550\n",
      "           6       1.00      0.01      0.02        94\n",
      "\n",
      "    accuracy                           0.34      3773\n",
      "   macro avg       0.33      0.15      0.08      3773\n",
      "weighted avg       0.19      0.34      0.18      3773\n",
      "\n"
     ]
    },
    {
     "name": "stderr",
     "output_type": "stream",
     "text": [
      "c:\\users\\lzcai\\anaconda3\\envs\\tensorflow2\\lib\\site-packages\\sklearn\\metrics\\_classification.py:1272: UndefinedMetricWarning: Precision and F-score are ill-defined and being set to 0.0 in labels with no predicted samples. Use `zero_division` parameter to control this behavior.\n",
      "  _warn_prf(average, modifier, msg_start, len(result))\n"
     ]
    }
   ],
   "source": [
    "X_train = train_df[data_cols].values\n",
    "y_train = train_df[target_cols[1]].values\n",
    "\n",
    "X_test = test_df[data_cols].values\n",
    "y_test = test_df[target_cols[1]].values\n",
    "\n",
    "# X_train, X_test, y_train, y_test = train_test_split(X, y, test_size=0.30, random_state=40)\n",
    "print(X_train.shape); print(X_test.shape)\n",
    "\n",
    "mlp = MLPClassifier(hidden_layer_sizes=(8,8,8), activation='relu', solver='adam', max_iter=5000)\n",
    "# mlp = MLPRegressor(hidden_layer_sizes=(8,8,8), activation='relu', solver='adam', max_iter=500)\n",
    "\n",
    "mlp.fit(X_train,y_train)\n",
    "\n",
    "predict_train = mlp.predict(X_train)\n",
    "predict_test = mlp.predict(X_test)\n",
    "\n",
    "from sklearn.metrics import classification_report,confusion_matrix\n",
    "print(confusion_matrix(y_train,predict_train))\n",
    "print('\\n\\n')\n",
    "print(classification_report(y_train,predict_train))"
   ]
  },
  {
   "cell_type": "code",
   "execution_count": 299,
   "metadata": {},
   "outputs": [
    {
     "name": "stdout",
     "output_type": "stream",
     "text": [
      "(3773, 73)\n",
      "(1258, 73)\n",
      "16804708.14010736\n",
      "6584818.296316989\n"
     ]
    }
   ],
   "source": [
    "X_train = train_df[data_cols].values\n",
    "y_train = train_df[target_cols[2]].values\n",
    "\n",
    "X_test = test_df[data_cols].values\n",
    "y_test = test_df[target_cols[2]].values\n",
    "\n",
    "# X_train, X_test, y_train, y_test = train_test_split(X, y, test_size=0.30, random_state=40)\n",
    "print(X_train.shape); print(X_test.shape)\n",
    "\n",
    "# mlp = MLPClassifier(hidden_layer_sizes=(8,8,8), activation='relu', solver='adam', max_iter=500)\n",
    "mlp = MLPRegressor(hidden_layer_sizes=(8,8,8), activation='relu', solver='adam', max_iter=5000)\n",
    "\n",
    "mlp.fit(X_train,y_train)\n",
    "\n",
    "predict_train = mlp.predict(X_train)\n",
    "predict_test = mlp.predict(X_test)\n",
    "\n",
    "print(np.sqrt(mean_squared_error(y_train,predict_train)))\n",
    "print(np.sqrt(mean_squared_error(y_test,predict_test))) "
   ]
  },
  {
   "cell_type": "code",
   "execution_count": null,
   "metadata": {},
   "outputs": [],
   "source": []
  },
  {
   "cell_type": "code",
   "execution_count": null,
   "metadata": {},
   "outputs": [],
   "source": []
  },
  {
   "cell_type": "code",
   "execution_count": 300,
   "metadata": {},
   "outputs": [
    {
     "name": "stdout",
     "output_type": "stream",
     "text": [
      "(3773, 73)\n",
      "(1258, 73)\n",
      "32.7643007203198\n",
      "76.74459187331946\n"
     ]
    }
   ],
   "source": [
    "from sklearn.linear_model import LinearRegression\n",
    "\n",
    "X_train = train_df[data_cols].values\n",
    "y_train = train_df[target_cols[2]].values\n",
    "\n",
    "X_test = test_df[data_cols].values\n",
    "y_test = test_df[target_cols[2]].values\n",
    "\n",
    "# X_train, X_test, y_train, y_test = train_test_split(X, y, test_size=0.30, random_state=40)\n",
    "print(X_train.shape); print(X_test.shape)\n",
    "\n",
    "# mlp = MLPClassifier(hidden_layer_sizes=(8,8,8), activation='relu', solver='adam', max_iter=500)\n",
    "reg = LinearRegression()\n",
    "\n",
    "reg.fit(X_train,y_train)\n",
    "\n",
    "predict_train = reg.predict(X_train)\n",
    "predict_test = reg.predict(X_test)\n",
    "\n",
    "print(np.sqrt(mean_squared_error(y_train,predict_train)))\n",
    "print(np.sqrt(mean_squared_error(y_test,predict_test))) "
   ]
  },
  {
   "cell_type": "code",
   "execution_count": null,
   "metadata": {},
   "outputs": [],
   "source": []
  },
  {
   "cell_type": "code",
   "execution_count": null,
   "metadata": {},
   "outputs": [],
   "source": []
  },
  {
   "cell_type": "code",
   "execution_count": 301,
   "metadata": {},
   "outputs": [],
   "source": [
    "result_df = pd.DataFrame({'Name':train_df[data_cols].columns, 'Value': reg.coef_})"
   ]
  },
  {
   "cell_type": "code",
   "execution_count": 302,
   "metadata": {},
   "outputs": [],
   "source": [
    "result_df['Abs'] = np.absolute(result_df['Value'])"
   ]
  },
  {
   "cell_type": "code",
   "execution_count": 303,
   "metadata": {},
   "outputs": [
    {
     "data": {
      "text/plain": [
       "<matplotlib.axes._subplots.AxesSubplot at 0x22c2f208128>"
      ]
     },
     "execution_count": 303,
     "metadata": {},
     "output_type": "execute_result"
    },
    {
     "data": {
      "image/png": "[encoded data removed]",
      "text/plain": [
       "<Figure size 720x720 with 1 Axes>"
      ]
     },
     "metadata": {
      "needs_background": "light"
     },
     "output_type": "display_data"
    }
   ],
   "source": [
    "result_df.sort_values('Value', ascending=False).plot(figsize = (10,10), kind='bar',x='Name',y='Value')"
   ]
  },
  {
   "cell_type": "code",
   "execution_count": 304,
   "metadata": {},
   "outputs": [
    {
     "data": {
      "text/plain": [
       "<matplotlib.axes._subplots.AxesSubplot at 0x22c2f22dcc0>"
      ]
     },
     "execution_count": 304,
     "metadata": {},
     "output_type": "execute_result"
    },
    {
     "data": {
      "image/png": "[encoded data removed]",
      "text/plain": [
       "<Figure size 720x720 with 1 Axes>"
      ]
     },
     "metadata": {
      "needs_background": "light"
     },
     "output_type": "display_data"
    }
   ],
   "source": [
    "result_df.sort_values('Abs', ascending=False).plot(figsize = (10,10), kind='bar',x='Name',y='Abs')"
   ]
  },
  {
   "cell_type": "code",
   "execution_count": 307,
   "metadata": {},
   "outputs": [
    {
     "data": {
      "text/html": [
       "<div>\n",
       "<style scoped>\n",
       "    .dataframe tbody tr th:only-of-type {\n",
       "        vertical-align: middle;\n",
       "    }\n",
       "\n",
       "    .dataframe tbody tr th {\n",
       "        vertical-align: top;\n",
       "    }\n",
       "\n",
       "    .dataframe thead th {\n",
       "        text-align: right;\n",
       "    }\n",
       "</style>\n",
       "<table border=\"1\" class=\"dataframe\">\n",
       "  <thead>\n",
       "    <tr style=\"text-align: right;\">\n",
       "      <th></th>\n",
       "      <th>Name</th>\n",
       "      <th>Value</th>\n",
       "      <th>Abs</th>\n",
       "    </tr>\n",
       "  </thead>\n",
       "  <tbody>\n",
       "    <tr>\n",
       "      <td>71</td>\n",
       "      <td>others_dlr</td>\n",
       "      <td>61.708474</td>\n",
       "      <td>61.708474</td>\n",
       "    </tr>\n",
       "    <tr>\n",
       "      <td>8</td>\n",
       "      <td>volume_cmf</td>\n",
       "      <td>-19.548644</td>\n",
       "      <td>19.548644</td>\n",
       "    </tr>\n",
       "    <tr>\n",
       "      <td>70</td>\n",
       "      <td>others_dr</td>\n",
       "      <td>-64.179721</td>\n",
       "      <td>64.179721</td>\n",
       "    </tr>\n",
       "    <tr>\n",
       "      <td>41</td>\n",
       "      <td>trend_trix</td>\n",
       "      <td>-166.473355</td>\n",
       "      <td>166.473355</td>\n",
       "    </tr>\n",
       "  </tbody>\n",
       "</table>\n",
       "</div>"
      ],
      "text/plain": [
       "          Name       Value         Abs\n",
       "71  others_dlr   61.708474   61.708474\n",
       "8   volume_cmf  -19.548644   19.548644\n",
       "70   others_dr  -64.179721   64.179721\n",
       "41  trend_trix -166.473355  166.473355"
      ]
     },
     "execution_count": 307,
     "metadata": {},
     "output_type": "execute_result"
    }
   ],
   "source": [
    "result_df[result_df['Abs']>=10].sort_values('Value', ascending=False)"
   ]
  },
  {
   "cell_type": "code",
   "execution_count": 308,
   "metadata": {},
   "outputs": [
    {
     "data": {
      "text/plain": [
       "1       0.000000\n",
       "2       0.000000\n",
       "3       0.000000\n",
       "4       0.000000\n",
       "5       0.000000\n",
       "          ...   \n",
       "7600    0.154626\n",
       "7601    0.155834\n",
       "7602    0.156392\n",
       "7603    0.155611\n",
       "7604    0.154644\n",
       "Name: trend_trix, Length: 7604, dtype: float64"
      ]
     },
     "execution_count": 308,
     "metadata": {},
     "output_type": "execute_result"
    }
   ],
   "source": [
    "df_backup['trend_trix']"
   ]
  },
  {
   "cell_type": "code",
   "execution_count": 315,
   "metadata": {},
   "outputs": [
    {
     "data": {
      "text/plain": [
       "1       0.000000\n",
       "2       0.000000\n",
       "3       0.000000\n",
       "4       0.000000\n",
       "5       0.000000\n",
       "          ...   \n",
       "7600    0.154626\n",
       "7601    0.155834\n",
       "7602    0.156392\n",
       "7603    0.155611\n",
       "7604    0.154644\n",
       "Name: trend_trix, Length: 7604, dtype: float64"
      ]
     },
     "execution_count": 315,
     "metadata": {},
     "output_type": "execute_result"
    }
   ],
   "source": [
    "df['trend_trix']"
   ]
  },
  {
   "cell_type": "code",
   "execution_count": null,
   "metadata": {},
   "outputs": [],
   "source": []
  }
 ],
 "metadata": {
  "kernelspec": {
   "display_name": "Python 3",
   "language": "python",
   "name": "python3"
  },
  "language_info": {
   "codemirror_mode": {
    "name": "ipython",
    "version": 3
   },
   "file_extension": ".py",
   "mimetype": "text/x-python",
   "name": "python",
   "nbconvert_exporter": "python",
   "pygments_lexer": "ipython3",
   "version": "3.6.7"
  }
 },
 "nbformat": 4,
 "nbformat_minor": 2
}
