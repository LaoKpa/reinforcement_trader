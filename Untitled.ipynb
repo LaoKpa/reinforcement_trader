{
 "cells": [
  {
   "cell_type": "code",
   "execution_count": 9,
   "metadata": {},
   "outputs": [],
   "source": [
    "import random\n",
    "import pandas as pd\n",
    "\n",
    "first_date = pd.to_datetime(\"2019-02-03\")\n",
    "df1_dict_list = []\n",
    "df2_dict_list = []\n",
    "for i in range(50):\n",
    "    trading_date = first_date+pd.Timedelta(days=i*3+2)\n",
    "    delivery_date = trading_date+pd.Timedelta(days=int(random.random()*6))\n",
    "    df1_dict_list.append({\n",
    "        \"trading_date\": trading_date,\n",
    "        \"delivery_date\": delivery_date,\n",
    "        \"price\": random.random()*300+100\n",
    "    })\n",
    "\n",
    "for i in range(50):\n",
    "    trading_date = first_date+pd.Timedelta(days=i*4+1)\n",
    "    delivery_date = trading_date+pd.Timedelta(days=int(random.random()*5))\n",
    "    df2_dict_list.append({\n",
    "        \"trading_date\": trading_date,\n",
    "        \"delivery_date\": delivery_date,\n",
    "        \"price\": random.random()*200+150\n",
    "    })"
   ]
  },
  {
   "cell_type": "code",
   "execution_count": 18,
   "metadata": {},
   "outputs": [],
   "source": [
    "df1 = pd.DataFrame(df1_dict_list)\n",
    "df1['index'] = range(len(df1))"
   ]
  },
  {
   "cell_type": "code",
   "execution_count": 20,
   "metadata": {},
   "outputs": [],
   "source": [
    "df2 = pd.DataFrame(df2_dict_list)\n",
    "df2['index'] = range(len(df2))"
   ]
  },
  {
   "cell_type": "code",
   "execution_count": 21,
   "metadata": {},
   "outputs": [],
   "source": [
    "df3 = pd.merge(df1, df2, on=[\"delivery_date\", \"trading_date\"], how=\"inner\")"
   ]
  },
  {
   "cell_type": "code",
   "execution_count": 22,
   "metadata": {
    "scrolled": true
   },
   "outputs": [
    {
     "data": {
      "text/html": [
       "<div>\n",
       "<style scoped>\n",
       "    .dataframe tbody tr th:only-of-type {\n",
       "        vertical-align: middle;\n",
       "    }\n",
       "\n",
       "    .dataframe tbody tr th {\n",
       "        vertical-align: top;\n",
       "    }\n",
       "\n",
       "    .dataframe thead th {\n",
       "        text-align: right;\n",
       "    }\n",
       "</style>\n",
       "<table border=\"1\" class=\"dataframe\">\n",
       "  <thead>\n",
       "    <tr style=\"text-align: right;\">\n",
       "      <th></th>\n",
       "      <th>trading_date</th>\n",
       "      <th>delivery_date</th>\n",
       "      <th>price</th>\n",
       "      <th>index</th>\n",
       "    </tr>\n",
       "  </thead>\n",
       "  <tbody>\n",
       "    <tr>\n",
       "      <th>0</th>\n",
       "      <td>2019-02-05</td>\n",
       "      <td>2019-02-09</td>\n",
       "      <td>182.528861</td>\n",
       "      <td>0</td>\n",
       "    </tr>\n",
       "    <tr>\n",
       "      <th>1</th>\n",
       "      <td>2019-02-08</td>\n",
       "      <td>2019-02-13</td>\n",
       "      <td>150.960818</td>\n",
       "      <td>1</td>\n",
       "    </tr>\n",
       "    <tr>\n",
       "      <th>2</th>\n",
       "      <td>2019-02-11</td>\n",
       "      <td>2019-02-16</td>\n",
       "      <td>295.420911</td>\n",
       "      <td>2</td>\n",
       "    </tr>\n",
       "    <tr>\n",
       "      <th>3</th>\n",
       "      <td>2019-02-14</td>\n",
       "      <td>2019-02-18</td>\n",
       "      <td>245.488752</td>\n",
       "      <td>3</td>\n",
       "    </tr>\n",
       "    <tr>\n",
       "      <th>4</th>\n",
       "      <td>2019-02-17</td>\n",
       "      <td>2019-02-18</td>\n",
       "      <td>391.197442</td>\n",
       "      <td>4</td>\n",
       "    </tr>\n",
       "  </tbody>\n",
       "</table>\n",
       "</div>"
      ],
      "text/plain": [
       "  trading_date delivery_date       price  index\n",
       "0   2019-02-05    2019-02-09  182.528861      0\n",
       "1   2019-02-08    2019-02-13  150.960818      1\n",
       "2   2019-02-11    2019-02-16  295.420911      2\n",
       "3   2019-02-14    2019-02-18  245.488752      3\n",
       "4   2019-02-17    2019-02-18  391.197442      4"
      ]
     },
     "execution_count": 22,
     "metadata": {},
     "output_type": "execute_result"
    }
   ],
   "source": [
    "df1.head()"
   ]
  },
  {
   "cell_type": "code",
   "execution_count": 23,
   "metadata": {},
   "outputs": [
    {
     "data": {
      "text/html": [
       "<div>\n",
       "<style scoped>\n",
       "    .dataframe tbody tr th:only-of-type {\n",
       "        vertical-align: middle;\n",
       "    }\n",
       "\n",
       "    .dataframe tbody tr th {\n",
       "        vertical-align: top;\n",
       "    }\n",
       "\n",
       "    .dataframe thead th {\n",
       "        text-align: right;\n",
       "    }\n",
       "</style>\n",
       "<table border=\"1\" class=\"dataframe\">\n",
       "  <thead>\n",
       "    <tr style=\"text-align: right;\">\n",
       "      <th></th>\n",
       "      <th>trading_date</th>\n",
       "      <th>delivery_date</th>\n",
       "      <th>price</th>\n",
       "      <th>index</th>\n",
       "    </tr>\n",
       "  </thead>\n",
       "  <tbody>\n",
       "    <tr>\n",
       "      <th>0</th>\n",
       "      <td>2019-02-04</td>\n",
       "      <td>2019-02-07</td>\n",
       "      <td>222.076383</td>\n",
       "      <td>0</td>\n",
       "    </tr>\n",
       "    <tr>\n",
       "      <th>1</th>\n",
       "      <td>2019-02-08</td>\n",
       "      <td>2019-02-09</td>\n",
       "      <td>299.149106</td>\n",
       "      <td>1</td>\n",
       "    </tr>\n",
       "    <tr>\n",
       "      <th>2</th>\n",
       "      <td>2019-02-12</td>\n",
       "      <td>2019-02-15</td>\n",
       "      <td>164.953840</td>\n",
       "      <td>2</td>\n",
       "    </tr>\n",
       "    <tr>\n",
       "      <th>3</th>\n",
       "      <td>2019-02-16</td>\n",
       "      <td>2019-02-16</td>\n",
       "      <td>326.455188</td>\n",
       "      <td>3</td>\n",
       "    </tr>\n",
       "    <tr>\n",
       "      <th>4</th>\n",
       "      <td>2019-02-20</td>\n",
       "      <td>2019-02-24</td>\n",
       "      <td>186.952950</td>\n",
       "      <td>4</td>\n",
       "    </tr>\n",
       "  </tbody>\n",
       "</table>\n",
       "</div>"
      ],
      "text/plain": [
       "  trading_date delivery_date       price  index\n",
       "0   2019-02-04    2019-02-07  222.076383      0\n",
       "1   2019-02-08    2019-02-09  299.149106      1\n",
       "2   2019-02-12    2019-02-15  164.953840      2\n",
       "3   2019-02-16    2019-02-16  326.455188      3\n",
       "4   2019-02-20    2019-02-24  186.952950      4"
      ]
     },
     "execution_count": 23,
     "metadata": {},
     "output_type": "execute_result"
    }
   ],
   "source": [
    "df2.head()"
   ]
  },
  {
   "cell_type": "code",
   "execution_count": 24,
   "metadata": {},
   "outputs": [
    {
     "data": {
      "text/html": [
       "<div>\n",
       "<style scoped>\n",
       "    .dataframe tbody tr th:only-of-type {\n",
       "        vertical-align: middle;\n",
       "    }\n",
       "\n",
       "    .dataframe tbody tr th {\n",
       "        vertical-align: top;\n",
       "    }\n",
       "\n",
       "    .dataframe thead th {\n",
       "        text-align: right;\n",
       "    }\n",
       "</style>\n",
       "<table border=\"1\" class=\"dataframe\">\n",
       "  <thead>\n",
       "    <tr style=\"text-align: right;\">\n",
       "      <th></th>\n",
       "      <th>trading_date</th>\n",
       "      <th>delivery_date</th>\n",
       "      <th>price_x</th>\n",
       "      <th>index_x</th>\n",
       "      <th>price_y</th>\n",
       "      <th>index_y</th>\n",
       "    </tr>\n",
       "  </thead>\n",
       "  <tbody>\n",
       "    <tr>\n",
       "      <th>0</th>\n",
       "      <td>2019-04-21</td>\n",
       "      <td>2019-04-21</td>\n",
       "      <td>244.495757</td>\n",
       "      <td>25</td>\n",
       "      <td>315.023210</td>\n",
       "      <td>19</td>\n",
       "    </tr>\n",
       "    <tr>\n",
       "      <th>1</th>\n",
       "      <td>2019-05-15</td>\n",
       "      <td>2019-05-16</td>\n",
       "      <td>159.052280</td>\n",
       "      <td>33</td>\n",
       "      <td>207.692206</td>\n",
       "      <td>25</td>\n",
       "    </tr>\n",
       "  </tbody>\n",
       "</table>\n",
       "</div>"
      ],
      "text/plain": [
       "  trading_date delivery_date     price_x  index_x     price_y  index_y\n",
       "0   2019-04-21    2019-04-21  244.495757       25  315.023210       19\n",
       "1   2019-05-15    2019-05-16  159.052280       33  207.692206       25"
      ]
     },
     "execution_count": 24,
     "metadata": {},
     "output_type": "execute_result"
    }
   ],
   "source": [
    "df3"
   ]
  },
  {
   "cell_type": "code",
   "execution_count": null,
   "metadata": {},
   "outputs": [],
   "source": []
  }
 ],
 "metadata": {
  "kernelspec": {
   "display_name": "Python 3",
   "language": "python",
   "name": "python3"
  },
  "language_info": {
   "codemirror_mode": {
    "name": "ipython",
    "version": 3
   },
   "file_extension": ".py",
   "mimetype": "text/x-python",
   "name": "python",
   "nbconvert_exporter": "python",
   "pygments_lexer": "ipython3",
   "version": "3.6.9"
  }
 },
 "nbformat": 4,
 "nbformat_minor": 2
}
