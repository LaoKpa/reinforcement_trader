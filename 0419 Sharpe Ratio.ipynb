{
 "cells": [
  {
   "cell_type": "code",
   "execution_count": 1,
   "metadata": {},
   "outputs": [],
   "source": [
    "import numpy as np\n",
    "import pandas as pd\n",
    "from CSVUtils import *\n",
    "import pickle\n",
    "from os import path\n",
    "import matplotlib.pyplot as plt"
   ]
  },
  {
   "cell_type": "code",
   "execution_count": 2,
   "metadata": {},
   "outputs": [],
   "source": [
    "tBill_dir = \"./input/\"\n",
    "tbill_df = csv2df(tBill_dir, \"^IRX.csv\", source=\"yahoo\")\n",
    "tbill_df = tbill_df.dropna()\n",
    "tbill_df.reset_index(inplace=True, drop=True)"
   ]
  },
  {
   "cell_type": "code",
   "execution_count": null,
   "metadata": {},
   "outputs": [],
   "source": []
  },
  {
   "cell_type": "code",
   "execution_count": 3,
   "metadata": {},
   "outputs": [
    {
     "data": {
      "text/plain": [
       "0.01041641826923077"
      ]
     },
     "execution_count": 3,
     "metadata": {},
     "output_type": "execute_result"
    }
   ],
   "source": [
    "startDate = pd.to_datetime(\"2015-01-01\")\n",
    "endDate = pd.to_datetime(\"2019-12-31\")\n",
    "np.mean(tbill_df[(tbill_df[\"Date\"]>=startDate) & (tbill_df[\"Date\"]<=endDate)]['Price'])*0.01"
   ]
  },
  {
   "cell_type": "code",
   "execution_count": null,
   "metadata": {},
   "outputs": [],
   "source": []
  },
  {
   "cell_type": "code",
   "execution_count": null,
   "metadata": {},
   "outputs": [],
   "source": []
  },
  {
   "cell_type": "code",
   "execution_count": null,
   "metadata": {},
   "outputs": [],
   "source": []
  },
  {
   "cell_type": "code",
   "execution_count": 4,
   "metadata": {},
   "outputs": [],
   "source": [
    "startDate: pd.to_datetime(\"2001-01-01\")\n",
    "endDate: pd.to_datetime(\"2004-12-31\")\n",
    "price_dir = \"./from github/Stock-Trading-Environment/data\"\n",
    "file_names = [\"^BVSP_new\", \"^TWII_new\", \"^IXIC_new\"]\n",
    "from CSVUtils import csv2df\n",
    "df_list = []\n",
    "for name in file_names:\n",
    "    df = csv2df(price_dir, name+\".csv\", source=\"done\")\n",
    "    df = df[(df['Date']>=startDate)&(df['Date']<=endDate)].reset_index(drop = True)\n",
    "    init_value = 100000\n",
    "    start_price = df['Actual Price'][0]\n",
    "    inv_number = init_value/start_price\n",
    "    df['BuyNHold'] = df['Actual Price']*inv_number\n",
    "    df_list.append(df)\n",
    "buyNHold_totalValue = df_list[0]['BuyNHold'] +df_list[1]['BuyNHold']+df_list[2]['BuyNHold']\n"
   ]
  },
  {
   "cell_type": "code",
   "execution_count": 5,
   "metadata": {},
   "outputs": [],
   "source": [
    "def getBuyNHold(startDate, endDate):\n",
    "    price_dir = \"./from github/Stock-Trading-Environment/data\"\n",
    "    file_names = [\"^BVSP_new\", \"^TWII_new\", \"^IXIC_new\"]\n",
    "    from CSVUtils import csv2df\n",
    "    df_list = []\n",
    "    for name in file_names:\n",
    "        df = csv2df(price_dir, name+\".csv\", source=\"done\")\n",
    "        df = df[(df['Date']>=startDate)&(df['Date']<=endDate)].reset_index(drop = True)\n",
    "        init_value = 100000\n",
    "        start_price = df['Actual Price'][0]\n",
    "        inv_number = init_value/start_price\n",
    "        df['BuyNHold'] = df['Actual Price']*inv_number\n",
    "        df_list.append(df)\n",
    "    buyNHold_totalValue = df_list[0]['BuyNHold'] +df_list[1]['BuyNHold']+df_list[2]['BuyNHold']\n",
    "    return buyNHold_totalValue"
   ]
  },
  {
   "cell_type": "code",
   "execution_count": 6,
   "metadata": {},
   "outputs": [],
   "source": [
    "def getSharpeRatio(netValue, startDate, endDate, tbill_df):\n",
    "    RISKFREE = 0.035\n",
    "#     print(\"startValue:\", netValue.iloc[0],\" ,endValue: \", netValue.iloc[-1])\n",
    "    ratioSeries = netValue/netValue.iloc[0]\n",
    "    riskFree = np.mean(tbill_df[(tbill_df[\"Date\"]>=startDate) & (tbill_df[\"Date\"]<=endDate)]['Price'])*0.01\n",
    "    finalReturn = (ratioSeries.iloc[-1]-ratioSeries.iloc[0]-riskFree)/ratioSeries.iloc[0]\n",
    "    return finalReturn/np.std(ratioSeries)"
   ]
  },
  {
   "cell_type": "code",
   "execution_count": 7,
   "metadata": {},
   "outputs": [],
   "source": [
    "def getSharpeRatioByDate(startDate, endDate, tbill_df):\n",
    "    netValue = getBuyNHold(startDate, endDate)\n",
    "    return getSharpeRatio(netValue, startDate, endDate, tbill_df)"
   ]
  },
  {
   "cell_type": "code",
   "execution_count": null,
   "metadata": {},
   "outputs": [],
   "source": []
  },
  {
   "cell_type": "code",
   "execution_count": 8,
   "metadata": {},
   "outputs": [
    {
     "data": {
      "text/plain": [
       "3.0693999444726088"
      ]
     },
     "execution_count": 8,
     "metadata": {},
     "output_type": "execute_result"
    }
   ],
   "source": [
    "#Benchmark\n",
    "startDate = pd.to_datetime(\"2015-01-01\")\n",
    "endDate = pd.to_datetime(\"2019-12-31\")\n",
    "getSharpeRatioByDate(startDate, endDate, tbill_df)"
   ]
  },
  {
   "cell_type": "code",
   "execution_count": 9,
   "metadata": {},
   "outputs": [
    {
     "data": {
      "text/plain": [
       "1.8942480597911275"
      ]
     },
     "execution_count": 9,
     "metadata": {},
     "output_type": "execute_result"
    }
   ],
   "source": [
    "#Benchmark\n",
    "startDate = pd.to_datetime(\"2007-01-01\")\n",
    "endDate = pd.to_datetime(\"2010-12-31\")\n",
    "getSharpeRatioByDate(startDate, endDate, tbill_df)"
   ]
  },
  {
   "cell_type": "code",
   "execution_count": 10,
   "metadata": {},
   "outputs": [
    {
     "data": {
      "text/plain": [
       "1.0730432708521411"
      ]
     },
     "execution_count": 10,
     "metadata": {},
     "output_type": "execute_result"
    }
   ],
   "source": [
    "#Benchmark\n",
    "startDate = pd.to_datetime(\"2001-01-01\")\n",
    "endDate = pd.to_datetime(\"2004-12-31\")\n",
    "getSharpeRatioByDate(startDate, endDate, tbill_df)"
   ]
  },
  {
   "cell_type": "code",
   "execution_count": 11,
   "metadata": {},
   "outputs": [
    {
     "data": {
      "text/plain": [
       "0.7274570781961596"
      ]
     },
     "execution_count": 11,
     "metadata": {},
     "output_type": "execute_result"
    }
   ],
   "source": [
    "startDate = pd.to_datetime(\"2015-01-01\")\n",
    "endDate = pd.to_datetime(\"2019-12-31\")\n",
    "buyNhold = getBuyNHold(startDate, endDate)\n",
    "(buyNhold.iloc[-1]-buyNhold.iloc[0])/buyNhold.iloc[0]"
   ]
  },
  {
   "cell_type": "code",
   "execution_count": null,
   "metadata": {},
   "outputs": [],
   "source": []
  },
  {
   "cell_type": "code",
   "execution_count": null,
   "metadata": {},
   "outputs": [],
   "source": []
  },
  {
   "cell_type": "code",
   "execution_count": null,
   "metadata": {},
   "outputs": [],
   "source": []
  },
  {
   "cell_type": "code",
   "execution_count": 17,
   "metadata": {},
   "outputs": [],
   "source": [
    "ROOT_DIR = \"./from github/Stock-Trading-Environment/\"\n",
    "freq_list = [\n",
    "    {\n",
    "        \"freq\": \"daily\",\n",
    "        \"type\": \"w/o currency\",\n",
    "        \"DIR\": \"./output/1000\",\n",
    "        \"prefix\": \"0418-dailyFreq_noLeak_noCrisis--detailed-ModelNo_200000-\",\n",
    "        \"start_date\": pd.to_datetime(\"2015-01-01\"),\n",
    "        \"end_date\": pd.to_datetime(\"2019-12-31\"),\n",
    "    },\n",
    "    {\n",
    "        \"freq\": \"weekly\",\n",
    "        \"type\": \"w/o currency\",\n",
    "        \"DIR\": \"./output/1000\",\n",
    "        \"prefix\": \"0418-weeklyFreq_noLeak_noCrisis--detailed-ModelNo_200000-\",\n",
    "        \"start_date\": pd.to_datetime(\"2015-01-01\"),\n",
    "        \"end_date\": pd.to_datetime(\"2019-12-31\"),\n",
    "    },\n",
    "    {\n",
    "        \"freq\": \"monthly\",\n",
    "        \"type\": \"w/o currency\",\n",
    "        \"DIR\": \"./output/1000\",\n",
    "        \"prefix\": \"0418-monthlyFreq_noLeak_noCrisis--detailed-ModelNo_200000-\",\n",
    "        \"start_date\": pd.to_datetime(\"2015-01-01\"),\n",
    "        \"end_date\": pd.to_datetime(\"2019-12-31\"),\n",
    "    },\n",
    "    {\n",
    "        \"freq\": \"daily\",\n",
    "        \"type\": \"w/ currency\",\n",
    "        \"DIR\": \"./output/1001\",\n",
    "        \"prefix\": \"0418-dailyFreq_haveLeak_noCrisis--detailed-ModelNo_200000-\",\n",
    "        \"start_date\": pd.to_datetime(\"2015-01-01\"),\n",
    "        \"end_date\": pd.to_datetime(\"2019-12-31\"),\n",
    "    },\n",
    "    {\n",
    "        \"freq\": \"weekly\",\n",
    "        \"type\": \"w/ currency\",\n",
    "        \"DIR\": \"./output/1001\",\n",
    "        \"prefix\": \"0418-weeklyFreq_haveLeak_noCrisis--detailed-ModelNo_200000-\",\n",
    "        \"start_date\": pd.to_datetime(\"2015-01-01\"),\n",
    "        \"end_date\": pd.to_datetime(\"2019-12-31\"),\n",
    "    },\n",
    "    {\n",
    "        \"freq\": \"monthly\",\n",
    "        \"type\": \"w/ currency\",\n",
    "        \"DIR\": \"./output/1001\",\n",
    "        \"prefix\": \"0418-monthlyFreq_haveLeak_noCrisis--detailed-ModelNo_200000-\",\n",
    "        \"start_date\": pd.to_datetime(\"2015-01-01\"),\n",
    "        \"end_date\": pd.to_datetime(\"2019-12-31\"),\n",
    "    },\n",
    "]\n",
    "bnh_ratio={\n",
    "    \"2015-2019\": 3.0693999444726088,\n",
    "    \"2001-2004\": 1.0730432708521411,\n",
    "    \"2007-2010\": 1.8942480597911275,\n",
    "}"
   ]
  },
  {
   "cell_type": "code",
   "execution_count": 18,
   "metadata": {},
   "outputs": [
    {
     "ename": "FileNotFoundError",
     "evalue": "[Errno 2] No such file or directory: '/output/1000/0418-dailyFreq_noLeak_noCrisis--detailed-ModelNo_200000-0.out'",
     "output_type": "error",
     "traceback": [
      "\u001b[0;31m---------------------------------------------------------------------------\u001b[0m",
      "\u001b[0;31mFileNotFoundError\u001b[0m                         Traceback (most recent call last)",
      "\u001b[0;32m<ipython-input-18-c4b5b9192eba>\u001b[0m in \u001b[0;36m<module>\u001b[0;34m\u001b[0m\n\u001b[1;32m      9\u001b[0m     \u001b[0mnominal_profit_list\u001b[0m \u001b[0;34m=\u001b[0m \u001b[0;34m[\u001b[0m\u001b[0;34m]\u001b[0m\u001b[0;34m\u001b[0m\u001b[0;34m\u001b[0m\u001b[0m\n\u001b[1;32m     10\u001b[0m     \u001b[0;32mfor\u001b[0m \u001b[0mi\u001b[0m \u001b[0;32min\u001b[0m \u001b[0mrange\u001b[0m\u001b[0;34m(\u001b[0m\u001b[0;36m10\u001b[0m\u001b[0;34m)\u001b[0m\u001b[0;34m:\u001b[0m\u001b[0;34m\u001b[0m\u001b[0;34m\u001b[0m\u001b[0m\n\u001b[0;32m---> 11\u001b[0;31m         \u001b[0mrecord\u001b[0m \u001b[0;34m=\u001b[0m \u001b[0mpickle\u001b[0m\u001b[0;34m.\u001b[0m\u001b[0mload\u001b[0m\u001b[0;34m(\u001b[0m\u001b[0mopen\u001b[0m\u001b[0;34m(\u001b[0m\u001b[0mpath\u001b[0m\u001b[0;34m.\u001b[0m\u001b[0mjoin\u001b[0m\u001b[0;34m(\u001b[0m\u001b[0mDIR\u001b[0m\u001b[0;34m,\u001b[0m\u001b[0mexperiment\u001b[0m\u001b[0;34m[\u001b[0m\u001b[0;34m\"prefix\"\u001b[0m\u001b[0;34m]\u001b[0m\u001b[0;34m+\u001b[0m\u001b[0mstr\u001b[0m\u001b[0;34m(\u001b[0m\u001b[0mi\u001b[0m\u001b[0;34m)\u001b[0m\u001b[0;34m+\u001b[0m\u001b[0;34m\".out\"\u001b[0m\u001b[0;34m)\u001b[0m\u001b[0;34m,\u001b[0m \u001b[0;34m\"rb\"\u001b[0m\u001b[0;34m)\u001b[0m\u001b[0;34m)\u001b[0m\u001b[0;34m\u001b[0m\u001b[0;34m\u001b[0m\u001b[0m\n\u001b[0m\u001b[1;32m     12\u001b[0m         \u001b[0mdf\u001b[0m \u001b[0;34m=\u001b[0m \u001b[0mpd\u001b[0m\u001b[0;34m.\u001b[0m\u001b[0mDataFrame\u001b[0m\u001b[0;34m(\u001b[0m\u001b[0mrecord\u001b[0m\u001b[0;34m)\u001b[0m\u001b[0;34m\u001b[0m\u001b[0;34m\u001b[0m\u001b[0m\n\u001b[1;32m     13\u001b[0m         \u001b[0mstartDate\u001b[0m \u001b[0;34m=\u001b[0m \u001b[0mexperiment\u001b[0m\u001b[0;34m[\u001b[0m\u001b[0;34m\"start_date\"\u001b[0m\u001b[0;34m]\u001b[0m\u001b[0;34m\u001b[0m\u001b[0;34m\u001b[0m\u001b[0m\n",
      "\u001b[0;31mFileNotFoundError\u001b[0m: [Errno 2] No such file or directory: '/output/1000/0418-dailyFreq_noLeak_noCrisis--detailed-ModelNo_200000-0.out'"
     ]
    }
   ],
   "source": [
    "experiment_result = []\n",
    "actual_return_result = []\n",
    "types = [tmp['type'] for tmp in freq_list]\n",
    "a = True\n",
    "for j, experiment in enumerate(freq_list):\n",
    "    DIR = path.join(\"./from github/Stock-Trading-Environment\",experiment[\"DIR\"])\n",
    "    sharpe_list = []\n",
    "    actual_profit_list = []\n",
    "    nominal_profit_list = []\n",
    "    for i in range(10):\n",
    "        record = pickle.load(open(path.join(DIR,experiment[\"prefix\"]+str(i)+\".out\"), \"rb\"))\n",
    "        df = pd.DataFrame(record)\n",
    "        startDate = experiment[\"start_date\"]\n",
    "        endDate = experiment[\"end_date\"]\n",
    "        sharpe = getSharpeRatio(df[\"net_worth\"], startDate, endDate, tbill_df)\n",
    "        sharpe_list.append(sharpe)\n",
    "#         print(i, sharpe)\n",
    "        actual_profit_list.append(df[\"actual_profit\"].iloc[-1]/518237.12345884787)\n",
    "        nominal_profit_list.append((df[\"net_worth\"].iloc[-1]-300000)/300000)\n",
    "    \n",
    "    avg_sharpe = np.mean(sharpe_list)\n",
    "    experiment_result.append(np.array(sharpe_list))\n",
    "    actual_return_result.append(np.array(actual_profit_list))\n",
    "    print(experiment['type'])\n",
    "    print(\"AVG Sharpe: \", avg_sharpe)\n",
    "    print(\"AVG Act Profit: \", np.mean(actual_profit_list))\n",
    "    print(\"AVG Nom Profit: \", np.mean(nominal_profit_list))\n",
    "    print(\"===================\")\n",
    "    a = False\n",
    "    \n",
    "plt.boxplot(experiment_result, labels=types, showmeans=True)\n",
    "plt.axhline(y=bnh_ratio[\"2015-2019\"], color = \"grey\", linestyle='--')\n",
    "plt.ylabel(\"Sharpe Ratio\")\n",
    "plt.xlabel(\"Training Epochs\")\n",
    "plt.title(\"Sharpe Ratio of 20-day Frequency\")\n",
    "plt.show()\n",
    "\n",
    "plt.boxplot(actual_return_result, labels=types, showmeans=True)\n",
    "plt.axhline(y=0, color = \"grey\", linestyle='--')\n",
    "plt.ylabel(\"Actual Return Rate\")\n",
    "plt.xlabel(\"Training Epochs\")\n",
    "plt.title(\"Actual Return of 20-day Frequency\")\n",
    "plt.show()"
   ]
  },
  {
   "cell_type": "code",
   "execution_count": null,
   "metadata": {},
   "outputs": [],
   "source": []
  },
  {
   "cell_type": "code",
   "execution_count": null,
   "metadata": {},
   "outputs": [],
   "source": []
  },
  {
   "cell_type": "code",
   "execution_count": null,
   "metadata": {},
   "outputs": [],
   "source": []
  },
  {
   "cell_type": "code",
   "execution_count": null,
   "metadata": {},
   "outputs": [],
   "source": []
  },
  {
   "cell_type": "code",
   "execution_count": null,
   "metadata": {},
   "outputs": [],
   "source": []
  },
  {
   "cell_type": "code",
   "execution_count": null,
   "metadata": {},
   "outputs": [],
   "source": []
  },
  {
   "cell_type": "code",
   "execution_count": null,
   "metadata": {},
   "outputs": [],
   "source": []
  },
  {
   "cell_type": "code",
   "execution_count": null,
   "metadata": {},
   "outputs": [],
   "source": []
  },
  {
   "cell_type": "code",
   "execution_count": 78,
   "metadata": {},
   "outputs": [],
   "source": [
    "plot_input = {\n",
    "    \"w/o Cash-out\":\n",
    "        {\"2015-2019\":{\n",
    "            \"DIR\": \"./output/306\",\n",
    "            \"prefix\": \"BRZ_TW_NASDAQ-Selected_Trans-withleakage+RSI-_detailed-ModelNo-200000-\",\n",
    "            \"start_date\": pd.to_datetime(\"2015-01-01\"),\n",
    "            \"end_date\": pd.to_datetime(\"2019-12-31\"),\n",
    "        },\n",
    "        \"2001-2004\":{\n",
    "            \"DIR\": \"./output/307\",\n",
    "            \"prefix\": \"BRZ_TW_NASDAQ-Selected_Trans-withleakage+RSI-_detailed-ModelNo-200000-\",\n",
    "            \"start_date\": pd.to_datetime(\"2001-01-01\"),\n",
    "            \"end_date\": pd.to_datetime(\"2004-12-31\"),\n",
    "        },\n",
    "        \"2007-2010\":{\n",
    "            \"DIR\": \"./output/308\",\n",
    "            \"prefix\": \"BRZ_TW_NASDAQ-Selected_Trans-withleakage+RSI-_detailed-ModelNo-200000-\",\n",
    "            \"start_date\": pd.to_datetime(\"2007-01-01\"),\n",
    "            \"end_date\": pd.to_datetime(\"2010-12-31\"),\n",
    "        },\n",
    "    },\n",
    "    \"20% Cash-out\":{\n",
    "        \"2015-2019\":{\n",
    "            \"DIR\": \"./output/410\",\n",
    "            \"prefix\": \"Testing_cashout-20-_detailed-ModelNo-200000-\",\n",
    "            \"start_date\": pd.to_datetime(\"2015-01-01\"),\n",
    "            \"end_date\": pd.to_datetime(\"2019-12-31\"),\n",
    "        },\n",
    "        \"2001-2004\":{\n",
    "            \"DIR\": \"./output/411\",\n",
    "            \"prefix\": \"Testing_cashout-20-_detailed-ModelNo-200000-\",\n",
    "            \"start_date\": pd.to_datetime(\"2001-01-01\"),\n",
    "            \"end_date\": pd.to_datetime(\"2004-12-31\"),\n",
    "        },\n",
    "        \"2007-2010\":{\n",
    "            \"DIR\": \"./output/412\",\n",
    "            \"prefix\": \"Testing_cashout-20-_detailed-ModelNo-200000-\",\n",
    "            \"start_date\": pd.to_datetime(\"2007-01-01\"),\n",
    "            \"end_date\": pd.to_datetime(\"2010-12-31\"),\n",
    "        },\n",
    "    },\n",
    "    \"15% Cash-out\":{\n",
    "        \"2015-2019\":{\n",
    "            \"DIR\": \"./output/420\",\n",
    "            \"prefix\": \"Testing_cashout-20-_detailed-ModelNo-200000-\",\n",
    "            \"start_date\": pd.to_datetime(\"2015-01-01\"),\n",
    "            \"end_date\": pd.to_datetime(\"2019-12-31\"),\n",
    "        },\n",
    "        \"2001-2004\":{\n",
    "            \"DIR\": \"./output/421\",\n",
    "            \"prefix\": \"Testing_cashout-20-_detailed-ModelNo-200000-\",\n",
    "            \"start_date\": pd.to_datetime(\"2001-01-01\"),\n",
    "            \"end_date\": pd.to_datetime(\"2004-12-31\"),\n",
    "        },\n",
    "        \"2007-2010\":{\n",
    "            \"DIR\": \"./output/422\",\n",
    "            \"prefix\": \"Testing_cashout-20-_detailed-ModelNo-200000-\",\n",
    "            \"start_date\": pd.to_datetime(\"2007-01-01\"),\n",
    "            \"end_date\": pd.to_datetime(\"2010-12-31\"),\n",
    "        },\n",
    "    },\n",
    "    \"10% Cash-out\":{\n",
    "        \"2015-2019\":{\n",
    "            \"DIR\": \"./output/430\",\n",
    "            \"prefix\": \"Testing_cashout-20-_detailed-ModelNo-200000-\",\n",
    "            \"start_date\": pd.to_datetime(\"2015-01-01\"),\n",
    "            \"end_date\": pd.to_datetime(\"2019-12-31\"),\n",
    "        },\n",
    "        \"2001-2004\":{\n",
    "            \"DIR\": \"./output/431\",\n",
    "            \"prefix\": \"Testing_cashout-20-_detailed-ModelNo-200000-\",\n",
    "            \"start_date\": pd.to_datetime(\"2001-01-01\"),\n",
    "            \"end_date\": pd.to_datetime(\"2004-12-31\"),\n",
    "        },\n",
    "        \"2007-2010\":{\n",
    "            \"DIR\": \"./output/432\",\n",
    "            \"prefix\": \"Testing_cashout-20-_detailed-ModelNo-200000-\",\n",
    "            \"start_date\": pd.to_datetime(\"2007-01-01\"),\n",
    "            \"end_date\": pd.to_datetime(\"2010-12-31\"),\n",
    "        },\n",
    "    },\n",
    "}\n",
    "\n",
    "bnh_ratio={\n",
    "    \"2015-2019\": 3.0693999444726088,\n",
    "    \"2001-2004\": 1.0730432708521411,\n",
    "    \"2007-2010\": 1.8942480597911275,\n",
    "}\n",
    "\n",
    "bnh_value = {\n",
    "    \"2015-2019\": 518237.12345884787,\n",
    "    \"2001-2004\": 358863.9586947755,\n",
    "    \"2007-2010\": 417726.6062059703,\n",
    "}"
   ]
  },
  {
   "cell_type": "code",
   "execution_count": 79,
   "metadata": {
    "scrolled": false
   },
   "outputs": [
    {
     "name": "stdout",
     "output_type": "stream",
     "text": [
      "2015-2019 w/o Cash-out 0 2.907290846822229\n",
      "2015-2019 w/o Cash-out 1 3.067293271308935\n",
      "2015-2019 w/o Cash-out 2 3.3337547978331257\n",
      "2015-2019 w/o Cash-out 3 2.5552364416906204\n",
      "2015-2019 w/o Cash-out 4 2.796906750285803\n",
      "2015-2019 w/o Cash-out 5 3.260725684745218\n",
      "2015-2019 w/o Cash-out 6 3.2196967304026445\n",
      "2015-2019 w/o Cash-out 7 3.166416102373691\n",
      "2015-2019 w/o Cash-out 8 2.78958657374563\n",
      "2015-2019 w/o Cash-out 9 2.860132280475718\n",
      "2015-2019 w/o Cash-out\n",
      "AVG Sharpe:  2.9957039479683614\n",
      "AVG Act Profit:  0.0029373947521821415\n",
      "AVG Nom Profit:  0.7793938402924498\n",
      "===================\n",
      "2015-2019 20% Cash-out 0 2.621534696960391\n",
      "2015-2019 20% Cash-out 1 3.1188936160041916\n",
      "2015-2019 20% Cash-out 2 3.384933735945755\n",
      "2015-2019 20% Cash-out 3 3.073421979582756\n",
      "2015-2019 20% Cash-out 4 2.5889266417039436\n",
      "2015-2019 20% Cash-out 5 3.0260682519470357\n",
      "2015-2019 20% Cash-out 6 2.911513968749191\n",
      "2015-2019 20% Cash-out 7 2.9011436942107247\n",
      "2015-2019 20% Cash-out 8 3.1983842722886533\n",
      "2015-2019 20% Cash-out 9 3.131396589895106\n",
      "2015-2019 20% Cash-out\n",
      "AVG Sharpe:  2.995621744728775\n",
      "AVG Act Profit:  -0.020118109840084712\n",
      "AVG Nom Profit:  0.7447659895162169\n",
      "===================\n",
      "2015-2019 15% Cash-out 0 2.7597034887900356\n",
      "2015-2019 15% Cash-out 1 3.1201912741288336\n",
      "2015-2019 15% Cash-out 2 3.1088854804778743\n",
      "2015-2019 15% Cash-out 3 3.039996685777841\n",
      "2015-2019 15% Cash-out 4 2.8113492863664558\n",
      "2015-2019 15% Cash-out 5 3.230705111532768\n",
      "2015-2019 15% Cash-out 6 3.295906218857842\n",
      "2015-2019 15% Cash-out 7 3.1354549742857314\n",
      "2015-2019 15% Cash-out 8 3.002164115620564\n",
      "2015-2019 15% Cash-out 9 2.8690425407040365\n",
      "2015-2019 15% Cash-out\n",
      "AVG Sharpe:  3.037339917654198\n",
      "AVG Act Profit:  -1.7825026077676147e-05\n",
      "AVG Nom Profit:  0.7812215500662865\n",
      "===================\n",
      "2015-2019 10% Cash-out 0 1.5949614890454014\n",
      "2015-2019 10% Cash-out 1 2.9677717365203655\n",
      "2015-2019 10% Cash-out 2 2.471391034467487\n",
      "2015-2019 10% Cash-out 3 2.5315765263003187\n",
      "2015-2019 10% Cash-out 4 1.5197502135387801\n",
      "2015-2019 10% Cash-out 5 2.669997469104103\n",
      "2015-2019 10% Cash-out 6 2.662033649222316\n",
      "2015-2019 10% Cash-out 7 2.457319081139066\n",
      "2015-2019 10% Cash-out 8 3.133329177279286\n",
      "2015-2019 10% Cash-out 9 2.884182839337213\n",
      "2015-2019 10% Cash-out\n",
      "AVG Sharpe:  2.489231321595434\n",
      "AVG Act Profit:  -0.03714820936130324\n",
      "AVG Nom Profit:  0.7179469954674342\n",
      "===================\n"
     ]
    },
    {
     "data": {
      "image/png": "[encoded data removed]",
      "text/plain": [
       "<Figure size 432x288 with 1 Axes>"
      ]
     },
     "metadata": {
      "needs_background": "light"
     },
     "output_type": "display_data"
    },
    {
     "name": "stdout",
     "output_type": "stream",
     "text": [
      "2001-2004 w/o Cash-out 0 -1.4841586922128918\n",
      "2001-2004 w/o Cash-out 1 1.0275790708168624\n",
      "2001-2004 w/o Cash-out 2 -3.0877992566733052\n",
      "2001-2004 w/o Cash-out 3 0.8764402004309237\n",
      "2001-2004 w/o Cash-out 4 -0.7697531260245002\n",
      "2001-2004 w/o Cash-out 5 0.9588426519496356\n",
      "2001-2004 w/o Cash-out 6 -0.6902015585201732\n",
      "2001-2004 w/o Cash-out 7 1.658069022160744\n",
      "2001-2004 w/o Cash-out 8 -1.1817599428057977\n",
      "2001-2004 w/o Cash-out 9 -0.48138264897316785\n",
      "2001-2004 w/o Cash-out\n",
      "AVG Sharpe:  -0.317412427985167\n",
      "AVG Act Profit:  -0.10742753150642612\n",
      "AVG Nom Profit:  0.018229399514675195\n",
      "===================\n",
      "2001-2004 20% Cash-out 0 -3.0767601902379442\n",
      "2001-2004 20% Cash-out 1 -0.05112571169340456\n",
      "2001-2004 20% Cash-out 2 -1.8713874048597534\n",
      "2001-2004 20% Cash-out 3 -0.18562730917527842\n",
      "2001-2004 20% Cash-out 4 0.6933408589831062\n",
      "2001-2004 20% Cash-out 5 -1.1574716334977027\n",
      "2001-2004 20% Cash-out 6 -1.6778320989635584\n",
      "2001-2004 20% Cash-out 7 0.5536025591588792\n",
      "2001-2004 20% Cash-out 8 -1.6213920643484092\n",
      "2001-2004 20% Cash-out 9 0.3631592665271191\n",
      "2001-2004 20% Cash-out\n",
      "AVG Sharpe:  -0.8031493728106947\n",
      "AVG Act Profit:  -0.15341759869651744\n",
      "AVG Nom Profit:  -0.03678452572690775\n",
      "===================\n",
      "2001-2004 15% Cash-out 0 -1.896982087678505\n",
      "2001-2004 15% Cash-out 1 1.8566152497595714\n",
      "2001-2004 15% Cash-out 2 -1.0102312180749817\n",
      "2001-2004 15% Cash-out 3 -0.39780331306325767\n",
      "2001-2004 15% Cash-out 4 -0.8324127485323044\n",
      "2001-2004 15% Cash-out 5 -0.3547028050796904\n",
      "2001-2004 15% Cash-out 6 -0.20672180846409896\n",
      "2001-2004 15% Cash-out 7 1.8119009589852808\n",
      "2001-2004 15% Cash-out 8 -0.5002811566407336\n",
      "2001-2004 15% Cash-out 9 1.4613763909358897\n",
      "2001-2004 15% Cash-out\n",
      "AVG Sharpe:  -0.006924253785283008\n",
      "AVG Act Profit:  -0.12450234354998958\n",
      "AVG Nom Profit:  -0.002195715965066162\n",
      "===================\n",
      "2001-2004 10% Cash-out 0 -0.07561098887748031\n",
      "2001-2004 10% Cash-out 1 1.5127465317165205\n",
      "2001-2004 10% Cash-out 2 1.4481794400662198\n",
      "2001-2004 10% Cash-out 3 0.10518494548137125\n",
      "2001-2004 10% Cash-out 4 -2.0038917582133\n",
      "2001-2004 10% Cash-out 5 1.140369242982457\n",
      "2001-2004 10% Cash-out 6 -0.7442685041758603\n",
      "2001-2004 10% Cash-out 7 1.6488636017613332\n",
      "2001-2004 10% Cash-out 8 -0.40252837013073756\n",
      "2001-2004 10% Cash-out 9 1.3348530913853411\n",
      "2001-2004 10% Cash-out\n",
      "AVG Sharpe:  0.39638972319958654\n",
      "AVG Act Profit:  -0.09515274982813451\n",
      "AVG Nom Profit:  0.03291265533196127\n",
      "===================\n"
     ]
    },
    {
     "data": {
      "image/png": "[encoded data removed]",
      "text/plain": [
       "<Figure size 432x288 with 1 Axes>"
      ]
     },
     "metadata": {
      "needs_background": "light"
     },
     "output_type": "display_data"
    },
    {
     "name": "stdout",
     "output_type": "stream",
     "text": [
      "2007-2010 w/o Cash-out 0 0.9026864561907254\n",
      "2007-2010 w/o Cash-out 1 1.5941335724865209\n",
      "2007-2010 w/o Cash-out 2 0.7061786721187814\n",
      "2007-2010 w/o Cash-out 3 0.5436801753889465\n",
      "2007-2010 w/o Cash-out 4 2.9729663327358007\n",
      "2007-2010 w/o Cash-out 5 1.2399900447480932\n",
      "2007-2010 w/o Cash-out 6 0.8887726813284971\n",
      "2007-2010 w/o Cash-out 7 2.0517654232671907\n",
      "2007-2010 w/o Cash-out 8 1.9503179402354258\n",
      "2007-2010 w/o Cash-out 9 0.8008753810878401\n",
      "2007-2010 w/o Cash-out\n",
      "AVG Sharpe:  1.3651366679587822\n",
      "AVG Act Profit:  -0.010400756144339654\n",
      "AVG Nom Profit:  0.25548179955496625\n",
      "===================\n",
      "2007-2010 20% Cash-out 0 2.690748406036034\n",
      "2007-2010 20% Cash-out 1 3.00784112565666\n",
      "2007-2010 20% Cash-out 2 0.6162975182854433\n",
      "2007-2010 20% Cash-out 3 2.555787039455852\n",
      "2007-2010 20% Cash-out 4 2.8322569790563548\n",
      "2007-2010 20% Cash-out 5 1.826720821515299\n",
      "2007-2010 20% Cash-out 6 2.0532092495265197\n",
      "2007-2010 20% Cash-out 7 2.6520015333830496\n",
      "2007-2010 20% Cash-out 8 2.900254352212809\n",
      "2007-2010 20% Cash-out 9 2.359648768770915\n",
      "2007-2010 20% Cash-out\n",
      "AVG Sharpe:  2.3494765793898935\n",
      "AVG Act Profit:  0.042251564968736735\n",
      "AVG Nom Profit:  0.3287960509130742\n",
      "===================\n",
      "2007-2010 15% Cash-out 0 2.484637559826534\n",
      "2007-2010 15% Cash-out 1 2.580122337423235\n",
      "2007-2010 15% Cash-out 2 1.6561205053473653\n",
      "2007-2010 15% Cash-out 3 2.9789137373122556\n",
      "2007-2010 15% Cash-out 4 2.574960219936082\n",
      "2007-2010 15% Cash-out 5 2.7688081687993185\n",
      "2007-2010 15% Cash-out 6 3.020836629207322\n",
      "2007-2010 15% Cash-out 7 2.878875400979292\n",
      "2007-2010 15% Cash-out 8 2.2163359157688896\n",
      "2007-2010 15% Cash-out 9 2.8499726142263504\n",
      "2007-2010 15% Cash-out\n",
      "AVG Sharpe:  2.6009583088826647\n",
      "AVG Act Profit:  0.09809736651957839\n",
      "AVG Nom Profit:  0.4065569747553581\n",
      "===================\n",
      "2007-2010 10% Cash-out 0 2.774317097565714\n",
      "2007-2010 10% Cash-out 1 2.734516142492148\n",
      "2007-2010 10% Cash-out 2 2.635847175949839\n",
      "2007-2010 10% Cash-out 3 3.053668725676905\n",
      "2007-2010 10% Cash-out 4 2.8973853750729175\n",
      "2007-2010 10% Cash-out 5 2.431538002696513\n",
      "2007-2010 10% Cash-out 6 2.6954338344377056\n",
      "2007-2010 10% Cash-out 7 2.396538495428347\n",
      "2007-2010 10% Cash-out 8 2.6769236999834245\n",
      "2007-2010 10% Cash-out 9 2.8232800875139126\n",
      "2007-2010 10% Cash-out\n",
      "AVG Sharpe:  2.711944863681743\n",
      "AVG Act Profit:  0.1435377667246714\n",
      "AVG Nom Profit:  0.4698291886297401\n",
      "===================\n"
     ]
    },
    {
     "data": {
      "image/png": "[encoded data removed]",
      "text/plain": [
       "<Figure size 432x288 with 1 Axes>"
      ]
     },
     "metadata": {
      "needs_background": "light"
     },
     "output_type": "display_data"
    }
   ],
   "source": [
    "types = [\"w/o Cash-out\", \"20% Cash-out\", \"15% Cash-out\", \"10% Cash-out\"]\n",
    "periods = [\"2015-2019\", \"2001-2004\", \"2007-2010\"]\n",
    "# period = periods[0]\n",
    "for period in periods:\n",
    "    period_result = []\n",
    "    actual_profit_list = []\n",
    "    nominal_profit_list = []\n",
    "    for tmp_type in types:\n",
    "        DIR = path.join(\"./from github/Stock-Trading-Environment\",plot_input[tmp_type][period][\"DIR\"])\n",
    "        sharpe_list = []\n",
    "        for i in range(10):\n",
    "            record = pickle.load(open(path.join(DIR,plot_input[tmp_type][period][\"prefix\"]+str(i)+\".out\"), \"rb\"))\n",
    "            df = pd.DataFrame(record)\n",
    "            startDate = plot_input[tmp_type][period][\"start_date\"]\n",
    "            endDate = plot_input[tmp_type][period][\"end_date\"]\n",
    "            sharpe = getSharpeRatio(df[\"net_worth\"], startDate, endDate, tbill_df)\n",
    "            sharpe_list.append(sharpe)\n",
    "            print(period, tmp_type, i, sharpe)\n",
    "            \n",
    "            \n",
    "            actual_profit_list.append(df[\"actual_profit\"].iloc[-1]/bnh_value[period])\n",
    "            nominal_profit_list.append((df[\"net_worth\"].iloc[-1]-300000)/300000)\n",
    "\n",
    "        avg_sharpe = np.mean(sharpe_list)\n",
    "        period_result.append(np.array(sharpe_list))\n",
    "        actual_return_result.append(np.array(actual_profit_list))\n",
    "        print(period, tmp_type)\n",
    "        print(\"AVG Sharpe: \", avg_sharpe)\n",
    "        print(\"AVG Act Profit: \", np.mean(actual_profit_list))\n",
    "        print(\"AVG Nom Profit: \", np.mean(nominal_profit_list))\n",
    "        print(\"===================\")\n",
    "            \n",
    "            \n",
    "            \n",
    "#         avg_sharpe = np.mean(sharpe_list)\n",
    "#         period_result.append(np.array(sharpe_list))\n",
    "#         print(\"=========\\n\", period, tmp_type, avg_sharpe, \"\\n=========\\n\")\n",
    "\n",
    "    plt.boxplot(period_result, labels=types, showmeans=True)\n",
    "    plt.axhline(y=bnh_ratio[period], color = \"grey\", linestyle='--')\n",
    "    plt.ylabel(\"Sharpe Ratio\")\n",
    "    plt.xlabel(\"Type of Cash-out\")\n",
    "    plt.title(\"Sharpe Ratio of \"+period)\n",
    "    plt.show()"
   ]
  },
  {
   "cell_type": "code",
   "execution_count": null,
   "metadata": {},
   "outputs": [],
   "source": []
  },
  {
   "cell_type": "code",
   "execution_count": null,
   "metadata": {},
   "outputs": [],
   "source": [
    "types = [\"w/o Cash-out\", \"20% Cash-out\", \"15% Cash-out\", \"10% Cash-out\"]\n",
    "periods = [\"2015-2019\", \"2001-2004\", \"2007-2010\"]\n",
    "# period = periods[0]\n",
    "for period in periods:\n",
    "    period_result = []\n",
    "    for tmp_type in types:\n",
    "        DIR = plot_input[tmp_type][period][\"DIR\"]\n",
    "        batch_result = []\n",
    "        for i in range(10):\n",
    "            record = pickle.load(open(path.join(DIR,plot_input[tmp_type][period][\"prefix\"]+str(i)+\".out\"), \"rb\"))\n",
    "            df = pd.DataFrame(record)\n",
    "            result = dict(df['actual_profit'].describe())\n",
    "            result['act_perc'] = df['actual_profit'].values[-1]/df['buyNhold_balance'].values[-1]\n",
    "            batch_result.append(result)\n",
    "        batch_result = pd.DataFrame(batch_result)\n",
    "        period_result.append(np.array(batch_result['act_perc']))\n",
    "    plt.boxplot([tmp*100 for tmp in period_result], labels=types, showmeans=True)\n",
    "    plt.axhline(y=0, color = \"grey\", linestyle='--')\n",
    "    plt.ylabel(\"Percentage better than Benchmark, %\")\n",
    "    plt.xlabel(\"Type of Cash-out\")\n",
    "    plt.title(\"Performance of \"+period)\n",
    "    plt.show()"
   ]
  },
  {
   "cell_type": "code",
   "execution_count": 22,
   "metadata": {},
   "outputs": [],
   "source": [
    "ROOT_DIR = \"./from github/Stock-Trading-Environment/\"\n",
    "DIR = \"200\"\n",
    "prefix = \"BRZ+TW+NASDAQ-Training_detailed-ModelNo-10000-\""
   ]
  },
  {
   "cell_type": "code",
   "execution_count": 14,
   "metadata": {},
   "outputs": [
    {
     "name": "stdout",
     "output_type": "stream",
     "text": [
      "301653.01312368416 143800.75635877365\n",
      "-3.710355076715453\n"
     ]
    }
   ],
   "source": [
    "i=0\n",
    "startDate = pd.to_datetime(\"2015-01-01\")\n",
    "endDate = pd.to_datetime(\"2019-12-31\")\n",
    "record = pickle.load(open(path.join(ROOT_DIR+DIR, prefix+str(i)+\".out\"), \"rb\"))\n",
    "df = pd.DataFrame(record)\n",
    "sharpe = getSharpeRatio(df[\"net_worth\"], startDate, endDate, tbill_df)\n",
    "# sharpe_list.append(sharpe)\n",
    "# print(period, tmp_type, i, sharpe)\n",
    "print(sharpe)"
   ]
  },
  {
   "cell_type": "code",
   "execution_count": 22,
   "metadata": {},
   "outputs": [],
   "source": [
    "ROOT_DIR = \"./from github/Stock-Trading-Environment/\"\n",
    "freq_list = [\n",
    "    {\n",
    "        \"freq\": 1,\n",
    "        \"training\": \"10k\",\n",
    "        \"DIR\": \"./output/200\",\n",
    "        \"prefix\": \"BRZ+TW+NASDAQ-Training_detailed-ModelNo-10000-\",\n",
    "        \"start_date\": pd.to_datetime(\"2015-01-01\"),\n",
    "        \"end_date\": pd.to_datetime(\"2019-12-31\"),\n",
    "    },\n",
    "    {\n",
    "        \"freq\": 1,\n",
    "        \"training\": \"50k\",\n",
    "        \"DIR\": \"./output/201\",\n",
    "        \"prefix\": \"BRZ+TW+NASDAQ-Training_detailed-ModelNo-50000-\",\n",
    "        \"start_date\": pd.to_datetime(\"2015-01-01\"),\n",
    "        \"end_date\": pd.to_datetime(\"2019-12-31\"),\n",
    "    },\n",
    "    {\n",
    "        \"freq\": 1,\n",
    "        \"training\": \"100k\",\n",
    "        \"DIR\": \"./output/201\",\n",
    "        \"prefix\": \"BRZ+TW+NASDAQ-Training_detailed-ModelNo-100000-\",\n",
    "        \"start_date\": pd.to_datetime(\"2015-01-01\"),\n",
    "        \"end_date\": pd.to_datetime(\"2019-12-31\"),\n",
    "    },\n",
    "    {\n",
    "        \"freq\": 1,\n",
    "        \"training\": \"500k\",\n",
    "        \"DIR\": \"./output/202\",\n",
    "        \"prefix\": \"BRZ+TW+NASDAQ-Training_detailed-ModelNo-500000-\",\n",
    "        \"start_date\": pd.to_datetime(\"2015-01-01\"),\n",
    "        \"end_date\": pd.to_datetime(\"2019-12-31\"),\n",
    "    }\n",
    "]\n",
    "bnh_ratio={\n",
    "    \"2015-2019\": 3.0693999444726088,\n",
    "    \"2001-2004\": 1.0730432708521411,\n",
    "    \"2007-2010\": 1.8942480597911275,\n",
    "}"
   ]
  },
  {
   "cell_type": "code",
   "execution_count": 57,
   "metadata": {},
   "outputs": [
    {
     "name": "stdout",
     "output_type": "stream",
     "text": [
      "10k\n",
      "AVG Sharpe:  -3.5133479387425632\n",
      "AVG Act Profit:  -0.7339363997690557\n",
      "AVG Nom Profit:  -0.463987531344095\n",
      "===================\n",
      "50k\n",
      "AVG Sharpe:  -1.724428276882536\n",
      "AVG Act Profit:  -0.5551992998375306\n",
      "AVG Nom Profit:  -0.15522686293112767\n",
      "===================\n",
      "100k\n",
      "AVG Sharpe:  0.9848947011283787\n",
      "AVG Act Profit:  -0.3691442299557554\n",
      "AVG Nom Profit:  0.166175284470426\n",
      "===================\n",
      "500k\n",
      "AVG Sharpe:  2.2302187068519275\n",
      "AVG Act Profit:  -0.2935273121688536\n",
      "AVG Nom Profit:  0.2968002643327868\n",
      "===================\n"
     ]
    },
    {
     "data": {
      "image/png": "[encoded data removed]",
      "text/plain": [
       "<Figure size 432x288 with 1 Axes>"
      ]
     },
     "metadata": {
      "needs_background": "light"
     },
     "output_type": "display_data"
    },
    {
     "data": {
      "image/png": "[encoded data removed]",
      "text/plain": [
       "<Figure size 432x288 with 1 Axes>"
      ]
     },
     "metadata": {
      "needs_background": "light"
     },
     "output_type": "display_data"
    }
   ],
   "source": [
    "experiment_result = []\n",
    "actual_return_result = []\n",
    "types = [tmp['training'] for tmp in freq_list]\n",
    "\n",
    "for experiment in freq_list:\n",
    "    DIR = path.join(\"./from github/Stock-Trading-Environment\",experiment[\"DIR\"])\n",
    "    sharpe_list = []\n",
    "    actual_profit_list = []\n",
    "    nominal_profit_list = []\n",
    "    for i in range(10):\n",
    "        record = pickle.load(open(path.join(DIR,experiment[\"prefix\"]+str(i)+\".out\"), \"rb\"))\n",
    "        df = pd.DataFrame(record)\n",
    "        startDate = experiment[\"start_date\"]\n",
    "        endDate = experiment[\"end_date\"]\n",
    "        sharpe = getSharpeRatio(df[\"net_worth\"], startDate, endDate, tbill_df)\n",
    "        sharpe_list.append(sharpe)\n",
    "#         print(i, sharpe)\n",
    "        actual_profit_list.append(df[\"actual_profit\"].iloc[-1]/518237.12345884787)\n",
    "        nominal_profit_list.append((df[\"net_worth\"].iloc[-1]-300000)/300000)\n",
    "    \n",
    "    avg_sharpe = np.mean(sharpe_list)\n",
    "    experiment_result.append(np.array(sharpe_list))\n",
    "    actual_return_result.append(np.array(actual_profit_list))\n",
    "    print(experiment['training'])\n",
    "    print(\"AVG Sharpe: \", avg_sharpe)\n",
    "    print(\"AVG Act Profit: \", np.mean(actual_profit_list))\n",
    "    print(\"AVG Nom Profit: \", np.mean(nominal_profit_list))\n",
    "    print(\"===================\")\n",
    "\n",
    "    \n",
    "plt.boxplot(experiment_result, labels=types, showmeans=True)\n",
    "plt.axhline(y=bnh_ratio[\"2015-2019\"], color = \"grey\", linestyle='--')\n",
    "plt.ylabel(\"Sharpe Ratio\")\n",
    "plt.xlabel(\"Training Epochs\")\n",
    "plt.title(\"Sharpe Ratio of 1-day Frequency\")\n",
    "plt.show()\n",
    "\n",
    "plt.boxplot(actual_return_result, labels=types, showmeans=True)\n",
    "plt.axhline(y=0, color = \"grey\", linestyle='--')\n",
    "plt.ylabel(\"Actual Return Rate\")\n",
    "plt.xlabel(\"Training Epochs\")\n",
    "plt.title(\"Actual Return of 1-day Frequency\")\n",
    "plt.show()"
   ]
  },
  {
   "cell_type": "code",
   "execution_count": null,
   "metadata": {},
   "outputs": [],
   "source": []
  },
  {
   "cell_type": "code",
   "execution_count": null,
   "metadata": {},
   "outputs": [],
   "source": []
  },
  {
   "cell_type": "code",
   "execution_count": null,
   "metadata": {},
   "outputs": [],
   "source": []
  },
  {
   "cell_type": "code",
   "execution_count": 58,
   "metadata": {},
   "outputs": [],
   "source": [
    "ROOT_DIR = \"./from github/Stock-Trading-Environment/\"\n",
    "freq_list = [\n",
    "    {\n",
    "        \"freq\": 7,\n",
    "        \"training\": \"50k\",\n",
    "        \"DIR\": \"./output/204\",\n",
    "        \"prefix\": \"BRZ+TW+NASDAQ-Training-punish_detailed-ModelNo-50000-\",\n",
    "        \"start_date\": pd.to_datetime(\"2015-01-01\"),\n",
    "        \"end_date\": pd.to_datetime(\"2019-12-31\"),\n",
    "    },\n",
    "    {\n",
    "        \"freq\": 7,\n",
    "        \"training\": \"100k\",\n",
    "        \"DIR\": \"./output/205\",\n",
    "        \"prefix\": \"BRZ+TW+NASDAQ-Training-swap-nopunish-7d_detailed-ModelNo-100000-\",\n",
    "        \"start_date\": pd.to_datetime(\"2015-01-01\"),\n",
    "        \"end_date\": pd.to_datetime(\"2019-12-31\"),\n",
    "    },\n",
    "    {\n",
    "        \"freq\": 7,\n",
    "        \"training\": \"200k\",\n",
    "        \"DIR\": \"./output/204\",\n",
    "        \"prefix\": \"BRZ+TW+NASDAQ-Training-punish_detailed-ModelNo-200000-\",\n",
    "        \"start_date\": pd.to_datetime(\"2015-01-01\"),\n",
    "        \"end_date\": pd.to_datetime(\"2019-12-31\"),\n",
    "    },\n",
    "]\n",
    "bnh_ratio={\n",
    "    \"2015-2019\": 3.0693999444726088,\n",
    "    \"2001-2004\": 1.0730432708521411,\n",
    "    \"2007-2010\": 1.8942480597911275,\n",
    "}"
   ]
  },
  {
   "cell_type": "code",
   "execution_count": 66,
   "metadata": {},
   "outputs": [
    {
     "name": "stdout",
     "output_type": "stream",
     "text": [
      "50k\n",
      "AVG Sharpe:  2.4002320731600397\n",
      "AVG Act Profit:  -0.2025933778041949\n",
      "AVG Nom Profit:  0.4214797205802969\n",
      "===================\n",
      "100k\n",
      "AVG Sharpe:  2.9738398766293535\n",
      "AVG Act Profit:  -0.10714557756799478\n",
      "AVG Nom Profit:  0.5863616986965738\n",
      "===================\n",
      "200k\n",
      "AVG Sharpe:  3.011903591009802\n",
      "AVG Act Profit:  -0.08855476894879144\n",
      "AVG Nom Profit:  0.6184765226352068\n",
      "===================\n"
     ]
    },
    {
     "data": {
      "image/png": "[encoded data removed]",
      "text/plain": [
       "<Figure size 432x288 with 1 Axes>"
      ]
     },
     "metadata": {
      "needs_background": "light"
     },
     "output_type": "display_data"
    },
    {
     "data": {
      "image/png": "[encoded data removed]",
      "text/plain": [
       "<Figure size 432x288 with 1 Axes>"
      ]
     },
     "metadata": {
      "needs_background": "light"
     },
     "output_type": "display_data"
    }
   ],
   "source": [
    "experiment_result = []\n",
    "actual_return_result = []\n",
    "types = [tmp['training'] for tmp in freq_list]\n",
    "a = True\n",
    "for j, experiment in enumerate(freq_list):\n",
    "    DIR = path.join(\"./from github/Stock-Trading-Environment\",experiment[\"DIR\"])\n",
    "    sharpe_list = []\n",
    "    actual_profit_list = []\n",
    "    nominal_profit_list = []\n",
    "    if j != 2:\n",
    "        theRange = range(10)\n",
    "    else:\n",
    "        theRange = [4,5,8,9]\n",
    "    for i in theRange:\n",
    "        record = pickle.load(open(path.join(DIR,experiment[\"prefix\"]+str(i)+\".out\"), \"rb\"))\n",
    "        df = pd.DataFrame(record)\n",
    "        startDate = experiment[\"start_date\"]\n",
    "        endDate = experiment[\"end_date\"]\n",
    "        sharpe = getSharpeRatio(df[\"net_worth\"], startDate, endDate, tbill_df)\n",
    "        sharpe_list.append(sharpe)\n",
    "#         print(i, sharpe)\n",
    "        actual_profit_list.append(df[\"actual_profit\"].iloc[-1]/518237.12345884787)\n",
    "        nominal_profit_list.append((df[\"net_worth\"].iloc[-1]-300000)/300000)\n",
    "    \n",
    "    avg_sharpe = np.mean(sharpe_list)\n",
    "    experiment_result.append(np.array(sharpe_list))\n",
    "    actual_return_result.append(np.array(actual_profit_list))\n",
    "    print(experiment['training'])\n",
    "    print(\"AVG Sharpe: \", avg_sharpe)\n",
    "    print(\"AVG Act Profit: \", np.mean(actual_profit_list))\n",
    "    print(\"AVG Nom Profit: \", np.mean(nominal_profit_list))\n",
    "    print(\"===================\")\n",
    "    a = False\n",
    "    \n",
    "plt.boxplot(experiment_result, labels=types, showmeans=True)\n",
    "plt.axhline(y=bnh_ratio[\"2015-2019\"], color = \"grey\", linestyle='--')\n",
    "plt.ylabel(\"Sharpe Ratio\")\n",
    "plt.xlabel(\"Training Epochs\")\n",
    "plt.title(\"Sharpe Ratio of 7-day Frequency\")\n",
    "plt.show()\n",
    "\n",
    "plt.boxplot(actual_return_result, labels=types, showmeans=True)\n",
    "plt.axhline(y=0, color = \"grey\", linestyle='--')\n",
    "plt.ylabel(\"Actual Return Rate\")\n",
    "plt.xlabel(\"Training Epochs\")\n",
    "plt.title(\"Actual Return of 7-day Frequency\")\n",
    "plt.show()"
   ]
  },
  {
   "cell_type": "code",
   "execution_count": null,
   "metadata": {},
   "outputs": [],
   "source": []
  },
  {
   "cell_type": "code",
   "execution_count": null,
   "metadata": {},
   "outputs": [],
   "source": []
  },
  {
   "cell_type": "code",
   "execution_count": null,
   "metadata": {},
   "outputs": [],
   "source": []
  },
  {
   "cell_type": "code",
   "execution_count": 67,
   "metadata": {},
   "outputs": [],
   "source": [
    "ROOT_DIR = \"./from github/Stock-Trading-Environment/\"\n",
    "freq_list = [\n",
    "    {\n",
    "        \"freq\": 20,\n",
    "        \"training\": \"10k\",\n",
    "        \"DIR\": \"./output/306\",\n",
    "        \"prefix\": \"BRZ_TW_NASDAQ-Selected_Trans-withleakage+RSI-_detailed-ModelNo-10000-\",\n",
    "        \"start_date\": pd.to_datetime(\"2015-01-01\"),\n",
    "        \"end_date\": pd.to_datetime(\"2019-12-31\"),\n",
    "    },\n",
    "    {\n",
    "        \"freq\": 20,\n",
    "        \"training\": \"50k\",\n",
    "        \"DIR\": \"./output/306\",\n",
    "        \"prefix\": \"BRZ_TW_NASDAQ-Selected_Trans-withleakage+RSI-_detailed-ModelNo-50000-\",\n",
    "        \"start_date\": pd.to_datetime(\"2015-01-01\"),\n",
    "        \"end_date\": pd.to_datetime(\"2019-12-31\"),\n",
    "    },\n",
    "    {\n",
    "        \"freq\": 20,\n",
    "        \"training\": \"100k\",\n",
    "        \"DIR\": \"./output/306\",\n",
    "        \"prefix\": \"BRZ_TW_NASDAQ-Selected_Trans-withleakage+RSI-_detailed-ModelNo-100000-\",\n",
    "        \"start_date\": pd.to_datetime(\"2015-01-01\"),\n",
    "        \"end_date\": pd.to_datetime(\"2019-12-31\"),\n",
    "    },\n",
    "    {\n",
    "        \"freq\": 20,\n",
    "        \"training\": \"200k\",\n",
    "        \"DIR\": \"./output/306\",\n",
    "        \"prefix\": \"BRZ_TW_NASDAQ-Selected_Trans-withleakage+RSI-_detailed-ModelNo-200000-\",\n",
    "        \"start_date\": pd.to_datetime(\"2015-01-01\"),\n",
    "        \"end_date\": pd.to_datetime(\"2019-12-31\"),\n",
    "    },\n",
    "]\n",
    "bnh_ratio={\n",
    "    \"2015-2019\": 3.0693999444726088,\n",
    "    \"2001-2004\": 1.0730432708521411,\n",
    "    \"2007-2010\": 1.8942480597911275,\n",
    "}"
   ]
  },
  {
   "cell_type": "code",
   "execution_count": 69,
   "metadata": {
    "scrolled": false
   },
   "outputs": [
    {
     "name": "stdout",
     "output_type": "stream",
     "text": [
      "10k\n",
      "AVG Sharpe:  2.95652405468243\n",
      "AVG Act Profit:  -0.049049680531268555\n",
      "AVG Nom Profit:  0.6972375885232485\n",
      "===================\n",
      "50k\n",
      "AVG Sharpe:  3.002501802019494\n",
      "AVG Act Profit:  -0.06316608451104301\n",
      "AVG Nom Profit:  0.6684139437894628\n",
      "===================\n",
      "100k\n",
      "AVG Sharpe:  2.8961170935797065\n",
      "AVG Act Profit:  -0.024022738727940415\n",
      "AVG Nom Profit:  0.7344296178689562\n",
      "===================\n",
      "200k\n",
      "AVG Sharpe:  2.9957039479683614\n",
      "AVG Act Profit:  0.0029373947521821415\n",
      "AVG Nom Profit:  0.7793938402924498\n",
      "===================\n"
     ]
    },
    {
     "data": {
      "image/png": "[encoded data removed]",
      "text/plain": [
       "<Figure size 432x288 with 1 Axes>"
      ]
     },
     "metadata": {
      "needs_background": "light"
     },
     "output_type": "display_data"
    },
    {
     "data": {
      "image/png": "[encoded data removed]",
      "text/plain": [
       "<Figure size 432x288 with 1 Axes>"
      ]
     },
     "metadata": {
      "needs_background": "light"
     },
     "output_type": "display_data"
    }
   ],
   "source": [
    "experiment_result = []\n",
    "actual_return_result = []\n",
    "types = [tmp['training'] for tmp in freq_list]\n",
    "a = True\n",
    "for j, experiment in enumerate(freq_list):\n",
    "    DIR = path.join(\"./from github/Stock-Trading-Environment\",experiment[\"DIR\"])\n",
    "    sharpe_list = []\n",
    "    actual_profit_list = []\n",
    "    nominal_profit_list = []\n",
    "    for i in range(10):\n",
    "        record = pickle.load(open(path.join(DIR,experiment[\"prefix\"]+str(i)+\".out\"), \"rb\"))\n",
    "        df = pd.DataFrame(record)\n",
    "        startDate = experiment[\"start_date\"]\n",
    "        endDate = experiment[\"end_date\"]\n",
    "        sharpe = getSharpeRatio(df[\"net_worth\"], startDate, endDate, tbill_df)\n",
    "        sharpe_list.append(sharpe)\n",
    "#         print(i, sharpe)\n",
    "        actual_profit_list.append(df[\"actual_profit\"].iloc[-1]/518237.12345884787)\n",
    "        nominal_profit_list.append((df[\"net_worth\"].iloc[-1]-300000)/300000)\n",
    "    \n",
    "    avg_sharpe = np.mean(sharpe_list)\n",
    "    experiment_result.append(np.array(sharpe_list))\n",
    "    actual_return_result.append(np.array(actual_profit_list))\n",
    "    print(experiment['training'])\n",
    "    print(\"AVG Sharpe: \", avg_sharpe)\n",
    "    print(\"AVG Act Profit: \", np.mean(actual_profit_list))\n",
    "    print(\"AVG Nom Profit: \", np.mean(nominal_profit_list))\n",
    "    print(\"===================\")\n",
    "    a = False\n",
    "    \n",
    "plt.boxplot(experiment_result, labels=types, showmeans=True)\n",
    "plt.axhline(y=bnh_ratio[\"2015-2019\"], color = \"grey\", linestyle='--')\n",
    "plt.ylabel(\"Sharpe Ratio\")\n",
    "plt.xlabel(\"Training Epochs\")\n",
    "plt.title(\"Sharpe Ratio of 20-day Frequency\")\n",
    "plt.show()\n",
    "\n",
    "plt.boxplot(actual_return_result, labels=types, showmeans=True)\n",
    "plt.axhline(y=0, color = \"grey\", linestyle='--')\n",
    "plt.ylabel(\"Actual Return Rate\")\n",
    "plt.xlabel(\"Training Epochs\")\n",
    "plt.title(\"Actual Return of 20-day Frequency\")\n",
    "plt.show()"
   ]
  },
  {
   "cell_type": "code",
   "execution_count": null,
   "metadata": {},
   "outputs": [],
   "source": []
  },
  {
   "cell_type": "code",
   "execution_count": null,
   "metadata": {},
   "outputs": [],
   "source": []
  },
  {
   "cell_type": "code",
   "execution_count": null,
   "metadata": {},
   "outputs": [],
   "source": []
  },
  {
   "cell_type": "code",
   "execution_count": 67,
   "metadata": {},
   "outputs": [],
   "source": [
    "ROOT_DIR = \"./from github/Stock-Trading-Environment/\"\n",
    "freq_list = [\n",
    "    {\n",
    "        \"freq\": 20,\n",
    "        \"training\": \"2001-2004\",\n",
    "        \"DIR\": \"./output/307\",\n",
    "        \"prefix\": \"BRZ_TW_NASDAQ-Selected_Trans-withleakage+RSI-_detailed-ModelNo-200000-\",\n",
    "        \"start_date\": pd.to_datetime(\"2001-01-01\"),\n",
    "        \"end_date\": pd.to_datetime(\"2004-12-31\"),\n",
    "    },\n",
    "    {\n",
    "        \"freq\": 20,\n",
    "        \"training\": \"\",\n",
    "        \"DIR\": \"./output/308\",\n",
    "        \"prefix\": \"BRZ_TW_NASDAQ-Selected_Trans-withleakage+RSI-_detailed-ModelNo-50000-\",\n",
    "        \"start_date\": pd.to_datetime(\"2015-01-01\"),\n",
    "        \"end_date\": pd.to_datetime(\"2019-12-31\"),\n",
    "    },\n",
    "    {\n",
    "        \"freq\": 20,\n",
    "        \"training\": \"100k\",\n",
    "        \"DIR\": \"./output/306\",\n",
    "        \"prefix\": \"BRZ_TW_NASDAQ-Selected_Trans-withleakage+RSI-_detailed-ModelNo-100000-\",\n",
    "        \"start_date\": pd.to_datetime(\"2015-01-01\"),\n",
    "        \"end_date\": pd.to_datetime(\"2019-12-31\"),\n",
    "    },\n",
    "    {\n",
    "        \"freq\": 20,\n",
    "        \"training\": \"200k\",\n",
    "        \"DIR\": \"./output/306\",\n",
    "        \"prefix\": \"BRZ_TW_NASDAQ-Selected_Trans-withleakage+RSI-_detailed-ModelNo-200000-\",\n",
    "        \"start_date\": pd.to_datetime(\"2015-01-01\"),\n",
    "        \"end_date\": pd.to_datetime(\"2019-12-31\"),\n",
    "    },\n",
    "]\n",
    "bnh_ratio={\n",
    "    \"2015-2019\": 3.0693999444726088,\n",
    "    \"2001-2004\": 1.0730432708521411,\n",
    "    \"2007-2010\": 1.8942480597911275,\n",
    "}"
   ]
  },
  {
   "cell_type": "code",
   "execution_count": 69,
   "metadata": {},
   "outputs": [
    {
     "name": "stdout",
     "output_type": "stream",
     "text": [
      "10k\n",
      "AVG Sharpe:  2.95652405468243\n",
      "AVG Act Profit:  -0.049049680531268555\n",
      "AVG Nom Profit:  0.6972375885232485\n",
      "===================\n",
      "50k\n",
      "AVG Sharpe:  3.002501802019494\n",
      "AVG Act Profit:  -0.06316608451104301\n",
      "AVG Nom Profit:  0.6684139437894628\n",
      "===================\n",
      "100k\n",
      "AVG Sharpe:  2.8961170935797065\n",
      "AVG Act Profit:  -0.024022738727940415\n",
      "AVG Nom Profit:  0.7344296178689562\n",
      "===================\n",
      "200k\n",
      "AVG Sharpe:  2.9957039479683614\n",
      "AVG Act Profit:  0.0029373947521821415\n",
      "AVG Nom Profit:  0.7793938402924498\n",
      "===================\n"
     ]
    },
    {
     "data": {
      "image/png": "[encoded data removed]",
      "text/plain": [
       "<Figure size 432x288 with 1 Axes>"
      ]
     },
     "metadata": {
      "needs_background": "light"
     },
     "output_type": "display_data"
    },
    {
     "data": {
      "image/png": "[encoded data removed]",
      "text/plain": [
       "<Figure size 432x288 with 1 Axes>"
      ]
     },
     "metadata": {
      "needs_background": "light"
     },
     "output_type": "display_data"
    }
   ],
   "source": [
    "experiment_result = []\n",
    "actual_return_result = []\n",
    "types = [tmp['training'] for tmp in freq_list]\n",
    "a = True\n",
    "for j, experiment in enumerate(freq_list):\n",
    "    DIR = path.join(\"./from github/Stock-Trading-Environment\",experiment[\"DIR\"])\n",
    "    sharpe_list = []\n",
    "    actual_profit_list = []\n",
    "    nominal_profit_list = []\n",
    "    for i in range(10):\n",
    "        record = pickle.load(open(path.join(DIR,experiment[\"prefix\"]+str(i)+\".out\"), \"rb\"))\n",
    "        df = pd.DataFrame(record)\n",
    "        startDate = experiment[\"start_date\"]\n",
    "        endDate = experiment[\"end_date\"]\n",
    "        sharpe = getSharpeRatio(df[\"net_worth\"], startDate, endDate, tbill_df)\n",
    "        sharpe_list.append(sharpe)\n",
    "#         print(i, sharpe)\n",
    "        actual_profit_list.append(df[\"actual_profit\"].iloc[-1]/518237.12345884787)\n",
    "        nominal_profit_list.append((df[\"net_worth\"].iloc[-1]-300000)/300000)\n",
    "    \n",
    "    avg_sharpe = np.mean(sharpe_list)\n",
    "    experiment_result.append(np.array(sharpe_list))\n",
    "    actual_return_result.append(np.array(actual_profit_list))\n",
    "    print(experiment['training'])\n",
    "    print(\"AVG Sharpe: \", avg_sharpe)\n",
    "    print(\"AVG Act Profit: \", np.mean(actual_profit_list))\n",
    "    print(\"AVG Nom Profit: \", np.mean(nominal_profit_list))\n",
    "    print(\"===================\")\n",
    "    a = False\n",
    "    \n",
    "plt.boxplot(experiment_result, labels=types, showmeans=True)\n",
    "plt.axhline(y=bnh_ratio[\"2015-2019\"], color = \"grey\", linestyle='--')\n",
    "plt.ylabel(\"Sharpe Ratio\")\n",
    "plt.xlabel(\"Training Epochs\")\n",
    "plt.title(\"Sharpe Ratio of 20-day Frequency\")\n",
    "plt.show()\n",
    "\n",
    "plt.boxplot(actual_return_result, labels=types, showmeans=True)\n",
    "plt.axhline(y=0, color = \"grey\", linestyle='--')\n",
    "plt.ylabel(\"Actual Return Rate\")\n",
    "plt.xlabel(\"Training Epochs\")\n",
    "plt.title(\"Actual Return of 20-day Frequency\")\n",
    "plt.show()"
   ]
  },
  {
   "cell_type": "code",
   "execution_count": null,
   "metadata": {},
   "outputs": [],
   "source": []
  },
  {
   "cell_type": "code",
   "execution_count": null,
   "metadata": {},
   "outputs": [],
   "source": []
  },
  {
   "cell_type": "code",
   "execution_count": null,
   "metadata": {},
   "outputs": [],
   "source": []
  },
  {
   "cell_type": "code",
   "execution_count": null,
   "metadata": {},
   "outputs": [],
   "source": []
  }
 ],
 "metadata": {
  "kernelspec": {
   "display_name": "Python 3",
   "language": "python",
   "name": "python3"
  },
  "language_info": {
   "codemirror_mode": {
    "name": "ipython",
    "version": 3
   },
   "file_extension": ".py",
   "mimetype": "text/x-python",
   "name": "python",
   "nbconvert_exporter": "python",
   "pygments_lexer": "ipython3",
   "version": "3.6.9"
  }
 },
 "nbformat": 4,
 "nbformat_minor": 2
}
