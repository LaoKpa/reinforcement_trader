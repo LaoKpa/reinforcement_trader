{
 "cells": [
  {
   "cell_type": "code",
   "execution_count": 113,
   "metadata": {},
   "outputs": [],
   "source": [
    "import pandas as pd\n",
    "import numpy as np\n",
    "from os import path\n",
    "import random"
   ]
  },
  {
   "cell_type": "code",
   "execution_count": 57,
   "metadata": {},
   "outputs": [],
   "source": [
    "nameList = ['^GDAXI', '^GSPC', '^HSI']\n",
    "dirPath = \"./data\"\n",
    "df_list = []\n",
    "for csvName in nameList:\n",
    "    df = pd.read_csv(path.join(dirPath, csvName+\".csv\"))\n",
    "    df['Date'] = pd.to_datetime(df['Date'])\n",
    "    df.set_index('Date', inplace=True)\n",
    "    df_list.append(df)"
   ]
  },
  {
   "cell_type": "code",
   "execution_count": 76,
   "metadata": {},
   "outputs": [],
   "source": [
    "def getClosestDateAfter(df, date):\n",
    "    s = pd.to_datetime(df.index.to_series()) - pd.to_datetime(startDate)\n",
    "    return s[s >= pd.Timedelta(0)].idxmin()"
   ]
  },
  {
   "cell_type": "code",
   "execution_count": 111,
   "metadata": {},
   "outputs": [],
   "source": [
    "startDate = pd.to_datetime(\"2004-01-03\")"
   ]
  },
  {
   "cell_type": "code",
   "execution_count": 99,
   "metadata": {},
   "outputs": [],
   "source": [
    "closestDate = min([getClosestDateAfter(df, startDate) for df in df_list])"
   ]
  },
  {
   "cell_type": "code",
   "execution_count": 100,
   "metadata": {},
   "outputs": [
    {
     "data": {
      "text/plain": [
       "Timestamp('2004-01-05 00:00:00')"
      ]
     },
     "execution_count": 100,
     "metadata": {},
     "output_type": "execute_result"
    }
   ],
   "source": [
    "closestDate"
   ]
  },
  {
   "cell_type": "code",
   "execution_count": 86,
   "metadata": {},
   "outputs": [
    {
     "data": {
      "text/html": [
       "<div>\n",
       "<style scoped>\n",
       "    .dataframe tbody tr th:only-of-type {\n",
       "        vertical-align: middle;\n",
       "    }\n",
       "\n",
       "    .dataframe tbody tr th {\n",
       "        vertical-align: top;\n",
       "    }\n",
       "\n",
       "    .dataframe thead th {\n",
       "        text-align: right;\n",
       "    }\n",
       "</style>\n",
       "<table border=\"1\" class=\"dataframe\">\n",
       "  <thead>\n",
       "    <tr style=\"text-align: right;\">\n",
       "      <th></th>\n",
       "      <th>Open</th>\n",
       "      <th>High</th>\n",
       "      <th>Low</th>\n",
       "      <th>Close</th>\n",
       "      <th>Adj Close</th>\n",
       "      <th>Volume</th>\n",
       "    </tr>\n",
       "    <tr>\n",
       "      <th>Date</th>\n",
       "      <th></th>\n",
       "      <th></th>\n",
       "      <th></th>\n",
       "      <th></th>\n",
       "      <th></th>\n",
       "      <th></th>\n",
       "    </tr>\n",
       "  </thead>\n",
       "  <tbody>\n",
       "    <tr>\n",
       "      <th>2004-01-01</th>\n",
       "      <td>NaN</td>\n",
       "      <td>NaN</td>\n",
       "      <td>NaN</td>\n",
       "      <td>NaN</td>\n",
       "      <td>NaN</td>\n",
       "      <td>NaN</td>\n",
       "    </tr>\n",
       "    <tr>\n",
       "      <th>2004-01-02</th>\n",
       "      <td>12664.990234</td>\n",
       "      <td>12815.080078</td>\n",
       "      <td>12664.990234</td>\n",
       "      <td>12801.480469</td>\n",
       "      <td>12801.480469</td>\n",
       "      <td>305575000.0</td>\n",
       "    </tr>\n",
       "    <tr>\n",
       "      <th>2004-01-05</th>\n",
       "      <td>12844.589844</td>\n",
       "      <td>13009.400391</td>\n",
       "      <td>12763.099609</td>\n",
       "      <td>13005.330078</td>\n",
       "      <td>13005.330078</td>\n",
       "      <td>362998400.0</td>\n",
       "    </tr>\n",
       "    <tr>\n",
       "      <th>2004-01-06</th>\n",
       "      <td>13063.450195</td>\n",
       "      <td>13128.730469</td>\n",
       "      <td>12975.500000</td>\n",
       "      <td>13036.320313</td>\n",
       "      <td>13036.320313</td>\n",
       "      <td>440100800.0</td>\n",
       "    </tr>\n",
       "  </tbody>\n",
       "</table>\n",
       "</div>"
      ],
      "text/plain": [
       "                    Open          High           Low         Close  \\\n",
       "Date                                                                 \n",
       "2004-01-01           NaN           NaN           NaN           NaN   \n",
       "2004-01-02  12664.990234  12815.080078  12664.990234  12801.480469   \n",
       "2004-01-05  12844.589844  13009.400391  12763.099609  13005.330078   \n",
       "2004-01-06  13063.450195  13128.730469  12975.500000  13036.320313   \n",
       "\n",
       "               Adj Close       Volume  \n",
       "Date                                   \n",
       "2004-01-01           NaN          NaN  \n",
       "2004-01-02  12801.480469  305575000.0  \n",
       "2004-01-05  13005.330078  362998400.0  \n",
       "2004-01-06  13036.320313  440100800.0  "
      ]
     },
     "execution_count": 86,
     "metadata": {},
     "output_type": "execute_result"
    }
   ],
   "source": [
    "df.loc[pd.to_datetime(\"2004-01-01\"):pd.to_datetime(\"2004-01-01\")+pd.Timedelta(days=5)]"
   ]
  },
  {
   "cell_type": "code",
   "execution_count": 108,
   "metadata": {},
   "outputs": [
    {
     "name": "stdout",
     "output_type": "stream",
     "text": [
      "[4029.6138560390395, 1120.0978964958724, 12975.679302160917]\n"
     ]
    }
   ],
   "source": [
    "if startDate in df.index:\n",
    "    print([random.uniform(df.loc[startDate, \"Low\"], df.loc[startDate, \"High\"]) for df in df_list])"
   ]
  },
  {
   "cell_type": "code",
   "execution_count": 97,
   "metadata": {},
   "outputs": [
    {
     "name": "stderr",
     "output_type": "stream",
     "text": [
      "/Users/lzcai/anaconda3/lib/python3.6/site-packages/pandas/core/indexing.py:947: FutureWarning: \n",
      "Passing list-likes to .loc or [] with any missing label will raise\n",
      "KeyError in the future, you can use .reindex() as an alternative.\n",
      "\n",
      "See the documentation here:\n",
      "https://pandas.pydata.org/pandas-docs/stable/user_guide/indexing.html#deprecate-loc-reindex-listlike\n",
      "  return getattr(section, self.name)[new_key]\n"
     ]
    },
    {
     "data": {
      "text/plain": [
       "2004-01-01             NaN\n",
       "2004-01-02    12664.990234\n",
       "2004-01-03             NaN\n",
       "2004-01-04             NaN\n",
       "2004-01-05    12844.589844\n",
       "2004-01-06    13063.450195\n",
       "Freq: D, Name: Open, dtype: float64"
      ]
     },
     "execution_count": 97,
     "metadata": {},
     "output_type": "execute_result"
    }
   ],
   "source": [
    "df.loc[pd.date_range(pd.to_datetime(\"2004-01-01\"), pd.to_datetime(\"2004-01-01\")+pd.Timedelta(days=5))]"
   ]
  },
  {
   "cell_type": "code",
   "execution_count": 114,
   "metadata": {},
   "outputs": [
    {
     "data": {
      "text/plain": [
       "[nan, nan, nan]"
      ]
     },
     "execution_count": 114,
     "metadata": {},
     "output_type": "execute_result"
    }
   ],
   "source": [
    "\n",
    "[random.uniform(\n",
    "    df.loc[startDate, \"Low\"], \n",
    "    df.loc[startDate, \"High\"]) \n",
    "    if startDate in df.index\n",
    "    else np.nan \n",
    "    for df in df_list]"
   ]
  },
  {
   "cell_type": "code",
   "execution_count": 129,
   "metadata": {},
   "outputs": [
    {
     "data": {
      "text/plain": [
       "array([ True, False, False,  True, False, False])"
      ]
     },
     "execution_count": 129,
     "metadata": {},
     "output_type": "execute_result"
    }
   ],
   "source": [
    "a = np.array([np.nan, 3, 4, np.nan, 1, 2])\n",
    "np.isnan(a)"
   ]
  },
  {
   "cell_type": "code",
   "execution_count": 146,
   "metadata": {},
   "outputs": [
    {
     "data": {
      "text/plain": [
       "35.0"
      ]
     },
     "execution_count": 146,
     "metadata": {},
     "output_type": "execute_result"
    }
   ],
   "source": [
    "b = a*[1,2,3,4,5,6]\n",
    "np.nansum(b)"
   ]
  },
  {
   "cell_type": "code",
   "execution_count": 144,
   "metadata": {},
   "outputs": [],
   "source": [
    "c = (np.isnan(a)*-1+1)*[1,2,3,4,5,6]"
   ]
  },
  {
   "cell_type": "code",
   "execution_count": 148,
   "metadata": {},
   "outputs": [
    {
     "data": {
      "text/plain": [
       "array([       nan, 0.17142857, 0.34285714,        nan, 0.14285714,\n",
       "       0.34285714])"
      ]
     },
     "execution_count": 148,
     "metadata": {},
     "output_type": "execute_result"
    }
   ],
   "source": [
    "b/np.nansum(b)"
   ]
  },
  {
   "cell_type": "code",
   "execution_count": null,
   "metadata": {},
   "outputs": [],
   "source": []
  }
 ],
 "metadata": {
  "kernelspec": {
   "display_name": "Python 3",
   "language": "python",
   "name": "python3"
  },
  "language_info": {
   "codemirror_mode": {
    "name": "ipython",
    "version": 3
   },
   "file_extension": ".py",
   "mimetype": "text/x-python",
   "name": "python",
   "nbconvert_exporter": "python",
   "pygments_lexer": "ipython3",
   "version": "3.6.9"
  }
 },
 "nbformat": 4,
 "nbformat_minor": 2
}
