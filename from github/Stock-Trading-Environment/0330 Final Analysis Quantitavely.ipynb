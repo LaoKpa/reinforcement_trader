{
 "cells": [
  {
   "cell_type": "code",
   "execution_count": 3,
   "metadata": {},
   "outputs": [],
   "source": [
    "import pickle\n",
    "import numpy as np\n",
    "import pandas as pd\n",
    "from os import path"
   ]
  },
  {
   "cell_type": "code",
   "execution_count": 24,
   "metadata": {},
   "outputs": [],
   "source": [
    "plot_input = {\n",
    "    \"w/o Cash-out\":\n",
    "        {\"2015-2019\":{\n",
    "            \"DIR\": \"./output/306\"\n",
    "            \"prefix\": \"BRZ_TW_NASDAQ-Selected_Trans-withleakage+RSI-_detailed-ModelNo-200000-\"\n",
    "        },\n",
    "        \"2001-2004\":{\n",
    "            \"DIR\": \"./output/307\"\n",
    "            \"prefix\": \"BRZ_TW_NASDAQ-Selected_Trans-withleakage+RSI-_detailed-ModelNo-200000-\"\n",
    "        },\n",
    "        \"2007-2010\":{\n",
    "            \"DIR\": \"./output/308\"\n",
    "            \"prefix\": \"BRZ_TW_NASDAQ-Selected_Trans-withleakage+RSI-_detailed-ModelNo-200000-\"\n",
    "        }\n",
    "    },\n",
    "    \"20% Cash-out\":{\n",
    "        \"2015-2019\":{\n",
    "            \"DIR\": \"./output/403\"\n",
    "            \"prefix\": \"BRZ_TW_NASDAQ-Selected_Trans-withleakage+RSI-_detailed-ModelNo-200000-\"\n",
    "        },\n",
    "        \"2007-2010\":{\n",
    "            \"DIR\": \"./output/400\"\n",
    "            \"prefix\": \"BRZ_TW_NASDAQ-Selected_Trans-withleakage+RSI-_detailed-ModelNo-200000-\"\n",
    "        },\n",
    "        \"2001-2004\":{\n",
    "#             \"DIR\": \"./output/308\"\n",
    "#             \"prefix\": \"BRZ_TW_NASDAQ-Selected_Trans-withleakage+RSI-_detailed-ModelNo-200000-\"\n",
    "        },\n",
    "    },\n",
    "    \"15% Cash-out\":{}\n",
    "    \"10% Cash-out\":{}\n",
    "}\n",
    "\n",
    "DIR = \"./output/306\"\n",
    "result_list = []\n",
    "for i in range(10):\n",
    "# i=3\n",
    "    record = pickle.load(open(path.join(DIR,\"BRZ_TW_NASDAQ-Selected_Trans-withleakage+RSI-_detailed-ModelNo-200000-\"+str(i)+\".out\"), \"rb\"))\n",
    "    df = pd.DataFrame(record)\n",
    "    result = dict(df['actual_profit'].describe())\n",
    "    result['act_perc'] = df['actual_profit'].values[-1]/df['buyNhold_balance'].values[-1]\n",
    "    result_list.append(result)\n",
    "result_df = pd.DataFrame(result_list)\n",
    "result_df['act_perc']"
   ]
  },
  {
   "cell_type": "code",
   "execution_count": 31,
   "metadata": {},
   "outputs": [
    {
     "data": {
      "text/plain": [
       "0   -0.091345\n",
       "1    0.144297\n",
       "2    0.168074\n",
       "3   -0.092213\n",
       "4   -0.107859\n",
       "5    0.201124\n",
       "6    0.030802\n",
       "7    0.044073\n",
       "8   -0.168980\n",
       "9   -0.103428\n",
       "Name: act_perc, dtype: float64"
      ]
     },
     "execution_count": 31,
     "metadata": {},
     "output_type": "execute_result"
    }
   ],
   "source": []
  },
  {
   "cell_type": "code",
   "execution_count": null,
   "metadata": {},
   "outputs": [],
   "source": []
  },
  {
   "cell_type": "code",
   "execution_count": null,
   "metadata": {},
   "outputs": [],
   "source": []
  },
  {
   "cell_type": "code",
   "execution_count": null,
   "metadata": {},
   "outputs": [],
   "source": []
  },
  {
   "cell_type": "code",
   "execution_count": null,
   "metadata": {},
   "outputs": [],
   "source": []
  }
 ],
 "metadata": {
  "kernelspec": {
   "display_name": "Python 3",
   "language": "python",
   "name": "python3"
  },
  "language_info": {
   "codemirror_mode": {
    "name": "ipython",
    "version": 3
   },
   "file_extension": ".py",
   "mimetype": "text/x-python",
   "name": "python",
   "nbconvert_exporter": "python",
   "pygments_lexer": "ipython3",
   "version": "3.6.9"
  }
 },
 "nbformat": 4,
 "nbformat_minor": 2
}
