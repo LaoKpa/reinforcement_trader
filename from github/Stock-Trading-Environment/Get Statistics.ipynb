{
 "cells": [
  {
   "cell_type": "code",
   "execution_count": 1,
   "metadata": {},
   "outputs": [],
   "source": [
    "import numpy as np\n",
    "import pandas as pd\n",
    "import pickle\n",
    "import matplotlib.pyplot as plt\n",
    "import seaborn as sns\n",
    "from os import listdir\n",
    "from os import path"
   ]
  },
  {
   "cell_type": "code",
   "execution_count": 46,
   "metadata": {},
   "outputs": [],
   "source": [
    "def getResult(DIR):\n",
    "    filename = [f for f in listdir(DIR) if f[-7:]==\"ALL.out\"][0]\n",
    "    result = pickle.load(open(path.join(DIR, filename),\"rb\"))\n",
    "    return result"
   ]
  },
  {
   "cell_type": "code",
   "execution_count": 5,
   "metadata": {},
   "outputs": [],
   "source": [
    "def getStats(result, col):\n",
    "    finalList = [tmp[col] for tmp in result]\n",
    "    return{\n",
    "        \"len\": len(result),\n",
    "        \"gain\": (len([tmp for tmp in result if tmp[col]>=0])/len(result)),\n",
    "        \"loss\": (len([tmp for tmp in result if tmp[col]<0])/len(result)),\n",
    "        \"mean\": np.mean(finalList),\n",
    "        \"max\": np.max(finalList),\n",
    "        \"min\": np.min(finalList),\n",
    "        \"25percentile\": np.percentile(finalList, 25),\n",
    "        \"50percentile\": np.percentile(finalList, 50),\n",
    "        \"75percentile\": np.percentile(finalList, 75),\n",
    "    }"
   ]
  },
  {
   "cell_type": "code",
   "execution_count": null,
   "metadata": {},
   "outputs": [],
   "source": []
  },
  {
   "cell_type": "code",
   "execution_count": 53,
   "metadata": {},
   "outputs": [
    {
     "name": "stdout",
     "output_type": "stream",
     "text": [
      "list index out of range\n",
      "2\n",
      "3\n",
      "4\n",
      "list index out of range\n"
     ]
    }
   ],
   "source": [
    "PARENT = \"./output/\"\n",
    "resultList = []\n",
    "statsList = []\n",
    "for folder in listdir(PARENT):\n",
    "    try:\n",
    "        result = getResult(path.join(PARENT, folder))\n",
    "        resultList.append([tmp['final'] for tmp in result])\n",
    "        statsList.append(getStats(result))\n",
    "        print(folder)\n",
    "    except Exception as e:\n",
    "        print(e)"
   ]
  },
  {
   "cell_type": "code",
   "execution_count": 11,
   "metadata": {},
   "outputs": [],
   "source": [
    "result_list = []"
   ]
  },
  {
   "cell_type": "code",
   "execution_count": 13,
   "metadata": {},
   "outputs": [],
   "source": [
    "DIR = \"./output/8/\"\n",
    "fileName = \"sp500_actual_04FEB2020.out\"\n",
    "result = pickle.load(open(path.join(DIR, fileName), \"rb\"))\n",
    "result_list.append([tmp['act_final'] for tmp in result])"
   ]
  },
  {
   "cell_type": "code",
   "execution_count": 6,
   "metadata": {
    "scrolled": true
   },
   "outputs": [
    {
     "data": {
      "text/plain": [
       "{'len': 100,\n",
       " 'gain': 0.99,\n",
       " 'loss': 0.01,\n",
       " 'mean': 4177.2497294336445,\n",
       " 'max': 7248.493422181367,\n",
       " 'min': -415.6567747668996,\n",
       " '25percentile': 3397.3086615768775,\n",
       " '50percentile': 4420.708075576382,\n",
       " '75percentile': 4851.993683244028}"
      ]
     },
     "execution_count": 6,
     "metadata": {},
     "output_type": "execute_result"
    }
   ],
   "source": [
    "getStats(result, \"final\")"
   ]
  },
  {
   "cell_type": "code",
   "execution_count": 7,
   "metadata": {
    "scrolled": true
   },
   "outputs": [
    {
     "data": {
      "text/plain": [
       "{'len': 100,\n",
       " 'gain': 0.15,\n",
       " 'loss': 0.85,\n",
       " 'mean': -1443.853620221596,\n",
       " 'max': 1627.3900725261265,\n",
       " 'min': -6036.7601244221405,\n",
       " '25percentile': -2223.7946880783634,\n",
       " '50percentile': -1200.395274078859,\n",
       " '75percentile': -769.1096664112129}"
      ]
     },
     "execution_count": 7,
     "metadata": {},
     "output_type": "execute_result"
    }
   ],
   "source": [
    "getStats(result, \"act_final\")"
   ]
  },
  {
   "cell_type": "code",
   "execution_count": null,
   "metadata": {},
   "outputs": [],
   "source": []
  },
  {
   "cell_type": "code",
   "execution_count": null,
   "metadata": {},
   "outputs": [],
   "source": []
  },
  {
   "cell_type": "code",
   "execution_count": null,
   "metadata": {},
   "outputs": [],
   "source": []
  },
  {
   "cell_type": "code",
   "execution_count": null,
   "metadata": {},
   "outputs": [],
   "source": []
  },
  {
   "cell_type": "code",
   "execution_count": 14,
   "metadata": {},
   "outputs": [],
   "source": [
    "DIR = \"./output/9/\"\n",
    "fileName = \"sp500_actual_10k Training_04FEB2020.out\"\n",
    "result = pickle.load(open(path.join(DIR, fileName), \"rb\"))\n",
    "result_list.append([tmp['act_final'] for tmp in result])"
   ]
  },
  {
   "cell_type": "code",
   "execution_count": 9,
   "metadata": {
    "scrolled": true
   },
   "outputs": [
    {
     "data": {
      "text/plain": [
       "{'len': 100,\n",
       " 'gain': 1.0,\n",
       " 'loss': 0.0,\n",
       " 'mean': 3836.7289939544407,\n",
       " 'max': 7277.7736251901115,\n",
       " 'min': 0.0,\n",
       " '25percentile': 3089.4951271444197,\n",
       " '50percentile': 4135.47239940351,\n",
       " '75percentile': 4781.6249643936235}"
      ]
     },
     "execution_count": 9,
     "metadata": {},
     "output_type": "execute_result"
    }
   ],
   "source": [
    "getStats(result, \"final\")"
   ]
  },
  {
   "cell_type": "code",
   "execution_count": 10,
   "metadata": {
    "scrolled": true
   },
   "outputs": [
    {
     "data": {
      "text/plain": [
       "{'len': 100,\n",
       " 'gain': 0.09,\n",
       " 'loss': 0.91,\n",
       " 'mean': -1784.3743557008002,\n",
       " 'max': 1656.6702755348706,\n",
       " 'min': -5621.103349655241,\n",
       " '25percentile': -2531.608222510821,\n",
       " '50percentile': -1485.6309502517306,\n",
       " '75percentile': -839.4783852616174}"
      ]
     },
     "execution_count": 10,
     "metadata": {},
     "output_type": "execute_result"
    }
   ],
   "source": [
    "getStats(result, \"act_final\")"
   ]
  },
  {
   "cell_type": "code",
   "execution_count": null,
   "metadata": {},
   "outputs": [],
   "source": []
  },
  {
   "cell_type": "code",
   "execution_count": null,
   "metadata": {},
   "outputs": [],
   "source": []
  },
  {
   "cell_type": "code",
   "execution_count": null,
   "metadata": {},
   "outputs": [],
   "source": []
  },
  {
   "cell_type": "code",
   "execution_count": null,
   "metadata": {},
   "outputs": [],
   "source": []
  },
  {
   "cell_type": "code",
   "execution_count": 19,
   "metadata": {},
   "outputs": [
    {
     "data": {
      "text/plain": [
       "[Text(0, 0.5, 'Net Profit($)'),\n",
       " Text(0.5, 0, 'Training Time'),\n",
       " Text(0.5, 1.0, 'Net Profit of SP500 (50k vs 100k Training)\\nTraining: 2004-2014, Testing 2015-2019')]"
      ]
     },
     "execution_count": 19,
     "metadata": {},
     "output_type": "execute_result"
    },
    {
     "data": {
      "image/png": "[encoded data removed]",
      "text/plain": [
       "<Figure size 432x288 with 1 Axes>"
      ]
     },
     "metadata": {},
     "output_type": "display_data"
    }
   ],
   "source": [
    "df = pd.DataFrame(result_list).transpose()\n",
    "df.columns = [\"50k\", \"100k\"]\n",
    "ax = sns.boxplot(data=df)\n",
    "ax.set(xlabel='Training Time', ylabel='Net Profit($)', title = \"Net Profit of SP500 (50k vs 100k Training)\\nTraining: 2004-2014, Testing 2015-2019\")\n"
   ]
  },
  {
   "cell_type": "code",
   "execution_count": 64,
   "metadata": {},
   "outputs": [
    {
     "data": {
      "text/html": [
       "<div>\n",
       "<style scoped>\n",
       "    .dataframe tbody tr th:only-of-type {\n",
       "        vertical-align: middle;\n",
       "    }\n",
       "\n",
       "    .dataframe tbody tr th {\n",
       "        vertical-align: top;\n",
       "    }\n",
       "\n",
       "    .dataframe thead th {\n",
       "        text-align: right;\n",
       "    }\n",
       "</style>\n",
       "<table border=\"1\" class=\"dataframe\">\n",
       "  <thead>\n",
       "    <tr style=\"text-align: right;\">\n",
       "      <th></th>\n",
       "      <th>20k</th>\n",
       "      <th>50k</th>\n",
       "      <th>100k</th>\n",
       "    </tr>\n",
       "  </thead>\n",
       "  <tbody>\n",
       "    <tr>\n",
       "      <th>0</th>\n",
       "      <td>2075.615885</td>\n",
       "      <td>-1248.398855</td>\n",
       "      <td>245.521469</td>\n",
       "    </tr>\n",
       "    <tr>\n",
       "      <th>1</th>\n",
       "      <td>-171.669891</td>\n",
       "      <td>-2215.481184</td>\n",
       "      <td>-101.564494</td>\n",
       "    </tr>\n",
       "    <tr>\n",
       "      <th>2</th>\n",
       "      <td>-694.525057</td>\n",
       "      <td>0.000000</td>\n",
       "      <td>52.425577</td>\n",
       "    </tr>\n",
       "    <tr>\n",
       "      <th>3</th>\n",
       "      <td>870.029848</td>\n",
       "      <td>-127.824547</td>\n",
       "      <td>0.000000</td>\n",
       "    </tr>\n",
       "    <tr>\n",
       "      <th>4</th>\n",
       "      <td>473.828715</td>\n",
       "      <td>0.000000</td>\n",
       "      <td>2498.454278</td>\n",
       "    </tr>\n",
       "    <tr>\n",
       "      <th>...</th>\n",
       "      <td>...</td>\n",
       "      <td>...</td>\n",
       "      <td>...</td>\n",
       "    </tr>\n",
       "    <tr>\n",
       "      <th>95</th>\n",
       "      <td>586.734130</td>\n",
       "      <td>288.761938</td>\n",
       "      <td>0.000000</td>\n",
       "    </tr>\n",
       "    <tr>\n",
       "      <th>96</th>\n",
       "      <td>-1566.463416</td>\n",
       "      <td>-309.242769</td>\n",
       "      <td>0.000000</td>\n",
       "    </tr>\n",
       "    <tr>\n",
       "      <th>97</th>\n",
       "      <td>-1711.490926</td>\n",
       "      <td>-1430.729783</td>\n",
       "      <td>0.000000</td>\n",
       "    </tr>\n",
       "    <tr>\n",
       "      <th>98</th>\n",
       "      <td>370.868485</td>\n",
       "      <td>1078.673010</td>\n",
       "      <td>1977.533343</td>\n",
       "    </tr>\n",
       "    <tr>\n",
       "      <th>99</th>\n",
       "      <td>-180.944352</td>\n",
       "      <td>-819.413712</td>\n",
       "      <td>-2793.363645</td>\n",
       "    </tr>\n",
       "  </tbody>\n",
       "</table>\n",
       "<p>100 rows × 3 columns</p>\n",
       "</div>"
      ],
      "text/plain": [
       "            20k          50k         100k\n",
       "0   2075.615885 -1248.398855   245.521469\n",
       "1   -171.669891 -2215.481184  -101.564494\n",
       "2   -694.525057     0.000000    52.425577\n",
       "3    870.029848  -127.824547     0.000000\n",
       "4    473.828715     0.000000  2498.454278\n",
       "..          ...          ...          ...\n",
       "95   586.734130   288.761938     0.000000\n",
       "96 -1566.463416  -309.242769     0.000000\n",
       "97 -1711.490926 -1430.729783     0.000000\n",
       "98   370.868485  1078.673010  1977.533343\n",
       "99  -180.944352  -819.413712 -2793.363645\n",
       "\n",
       "[100 rows x 3 columns]"
      ]
     },
     "execution_count": 64,
     "metadata": {},
     "output_type": "execute_result"
    }
   ],
   "source": []
  },
  {
   "cell_type": "code",
   "execution_count": null,
   "metadata": {},
   "outputs": [],
   "source": []
  },
  {
   "cell_type": "code",
   "execution_count": null,
   "metadata": {},
   "outputs": [],
   "source": []
  },
  {
   "cell_type": "code",
   "execution_count": null,
   "metadata": {},
   "outputs": [],
   "source": []
  }
 ],
 "metadata": {
  "kernelspec": {
   "display_name": "Python 3",
   "language": "python",
   "name": "python3"
  },
  "language_info": {
   "codemirror_mode": {
    "name": "ipython",
    "version": 3
   },
   "file_extension": ".py",
   "mimetype": "text/x-python",
   "name": "python",
   "nbconvert_exporter": "python",
   "pygments_lexer": "ipython3",
   "version": "3.6.5"
  }
 },
 "nbformat": 4,
 "nbformat_minor": 2
}
