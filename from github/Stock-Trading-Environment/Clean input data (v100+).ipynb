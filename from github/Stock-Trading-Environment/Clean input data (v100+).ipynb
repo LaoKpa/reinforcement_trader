{
 "cells": [
  {
   "cell_type": "code",
   "execution_count": 20,
   "metadata": {},
   "outputs": [],
   "source": [
    "import numpy as np\n",
    "import pandas as pd\n",
    "from os import path\n",
    "from CSVUtils import *"
   ]
  },
  {
   "cell_type": "code",
   "execution_count": 25,
   "metadata": {},
   "outputs": [],
   "source": [
    "rootDir = \"./data\"\n",
    "df_namelist = [\"^GSPC.csv\", \"^GDAXI.csv\", \"^HSI.csv\"]\n",
    "train_df_list = []\n",
    "test_df_list = []\n",
    "trainStartDate = pd.to_datetime(\"2004-01-01\")\n",
    "trainEndDate = pd.to_datetime(\"2013-12-31\")\n",
    "\n",
    "testStartDate = pd.to_datetime(\"2015-01-01\")\n",
    "testEndDate = pd.to_datetime(\"2019-12-31\")\n",
    "for name in df_namelist:\n",
    "    df = csv2df(rootDir, name, source = \"yahoo\")\n",
    "    df = df.sort_values('Date').dropna()\n",
    "    df = df.reset_index(drop=True)\n",
    "\n",
    "    train_df = df[(df['Date'] >= trainStartDate) & (df['Date'] <= trainEndDate)]\n",
    "    test_df = df[(df['Date'] >= testStartDate) & (df['Date'] <= testEndDate)]\n",
    "\n",
    "    train_df_list.append(train_df)\n",
    "    test_df_list.append(test_df)"
   ]
  },
  {
   "cell_type": "code",
   "execution_count": 31,
   "metadata": {},
   "outputs": [
    {
     "data": {
      "text/html": [
       "<div>\n",
       "<style scoped>\n",
       "    .dataframe tbody tr th:only-of-type {\n",
       "        vertical-align: middle;\n",
       "    }\n",
       "\n",
       "    .dataframe tbody tr th {\n",
       "        vertical-align: top;\n",
       "    }\n",
       "\n",
       "    .dataframe thead th {\n",
       "        text-align: right;\n",
       "    }\n",
       "</style>\n",
       "<table border=\"1\" class=\"dataframe\">\n",
       "  <thead>\n",
       "    <tr style=\"text-align: right;\">\n",
       "      <th></th>\n",
       "      <th>Date</th>\n",
       "      <th>Open</th>\n",
       "      <th>High</th>\n",
       "      <th>Low</th>\n",
       "      <th>Price</th>\n",
       "      <th>Vol</th>\n",
       "      <th>Change</th>\n",
       "    </tr>\n",
       "  </thead>\n",
       "  <tbody>\n",
       "    <tr>\n",
       "      <th>4205</th>\n",
       "      <td>2004-01-02</td>\n",
       "      <td>12664.990234</td>\n",
       "      <td>12815.080078</td>\n",
       "      <td>12664.990234</td>\n",
       "      <td>12801.480469</td>\n",
       "      <td>3.055750e+08</td>\n",
       "      <td>0.017934</td>\n",
       "    </tr>\n",
       "    <tr>\n",
       "      <th>4206</th>\n",
       "      <td>2004-01-05</td>\n",
       "      <td>12844.589844</td>\n",
       "      <td>13009.400391</td>\n",
       "      <td>12763.099609</td>\n",
       "      <td>13005.330078</td>\n",
       "      <td>3.629984e+08</td>\n",
       "      <td>0.015924</td>\n",
       "    </tr>\n",
       "    <tr>\n",
       "      <th>4207</th>\n",
       "      <td>2004-01-06</td>\n",
       "      <td>13063.450195</td>\n",
       "      <td>13128.730469</td>\n",
       "      <td>12975.500000</td>\n",
       "      <td>13036.320313</td>\n",
       "      <td>4.401008e+08</td>\n",
       "      <td>0.002383</td>\n",
       "    </tr>\n",
       "    <tr>\n",
       "      <th>4208</th>\n",
       "      <td>2004-01-07</td>\n",
       "      <td>13122.990234</td>\n",
       "      <td>13216.360352</td>\n",
       "      <td>13095.589844</td>\n",
       "      <td>13157.679688</td>\n",
       "      <td>3.816566e+08</td>\n",
       "      <td>0.009309</td>\n",
       "    </tr>\n",
       "    <tr>\n",
       "      <th>4209</th>\n",
       "      <td>2004-01-08</td>\n",
       "      <td>13184.440430</td>\n",
       "      <td>13255.809570</td>\n",
       "      <td>13063.269531</td>\n",
       "      <td>13203.589844</td>\n",
       "      <td>4.860842e+08</td>\n",
       "      <td>0.003489</td>\n",
       "    </tr>\n",
       "    <tr>\n",
       "      <th>...</th>\n",
       "      <td>...</td>\n",
       "      <td>...</td>\n",
       "      <td>...</td>\n",
       "      <td>...</td>\n",
       "      <td>...</td>\n",
       "      <td>...</td>\n",
       "      <td>...</td>\n",
       "    </tr>\n",
       "    <tr>\n",
       "      <th>6662</th>\n",
       "      <td>2013-12-23</td>\n",
       "      <td>22946.550781</td>\n",
       "      <td>23005.919922</td>\n",
       "      <td>22862.890625</td>\n",
       "      <td>22921.560547</td>\n",
       "      <td>1.094500e+09</td>\n",
       "      <td>0.004795</td>\n",
       "    </tr>\n",
       "    <tr>\n",
       "      <th>6663</th>\n",
       "      <td>2013-12-24</td>\n",
       "      <td>23045.640625</td>\n",
       "      <td>23194.630859</td>\n",
       "      <td>23026.099609</td>\n",
       "      <td>23179.550781</td>\n",
       "      <td>8.014690e+08</td>\n",
       "      <td>0.011255</td>\n",
       "    </tr>\n",
       "    <tr>\n",
       "      <th>6664</th>\n",
       "      <td>2013-12-27</td>\n",
       "      <td>23138.910156</td>\n",
       "      <td>23283.310547</td>\n",
       "      <td>23130.859375</td>\n",
       "      <td>23243.240234</td>\n",
       "      <td>8.501512e+08</td>\n",
       "      <td>0.002748</td>\n",
       "    </tr>\n",
       "    <tr>\n",
       "      <th>6665</th>\n",
       "      <td>2013-12-30</td>\n",
       "      <td>23353.539063</td>\n",
       "      <td>23369.369141</td>\n",
       "      <td>23178.279297</td>\n",
       "      <td>23244.869141</td>\n",
       "      <td>1.000191e+09</td>\n",
       "      <td>0.000070</td>\n",
       "    </tr>\n",
       "    <tr>\n",
       "      <th>6666</th>\n",
       "      <td>2013-12-31</td>\n",
       "      <td>23328.439453</td>\n",
       "      <td>23361.339844</td>\n",
       "      <td>23271.800781</td>\n",
       "      <td>23306.390625</td>\n",
       "      <td>6.741771e+08</td>\n",
       "      <td>0.002647</td>\n",
       "    </tr>\n",
       "  </tbody>\n",
       "</table>\n",
       "<p>2462 rows × 7 columns</p>\n",
       "</div>"
      ],
      "text/plain": [
       "           Date          Open          High           Low         Price  \\\n",
       "4205 2004-01-02  12664.990234  12815.080078  12664.990234  12801.480469   \n",
       "4206 2004-01-05  12844.589844  13009.400391  12763.099609  13005.330078   \n",
       "4207 2004-01-06  13063.450195  13128.730469  12975.500000  13036.320313   \n",
       "4208 2004-01-07  13122.990234  13216.360352  13095.589844  13157.679688   \n",
       "4209 2004-01-08  13184.440430  13255.809570  13063.269531  13203.589844   \n",
       "...         ...           ...           ...           ...           ...   \n",
       "6662 2013-12-23  22946.550781  23005.919922  22862.890625  22921.560547   \n",
       "6663 2013-12-24  23045.640625  23194.630859  23026.099609  23179.550781   \n",
       "6664 2013-12-27  23138.910156  23283.310547  23130.859375  23243.240234   \n",
       "6665 2013-12-30  23353.539063  23369.369141  23178.279297  23244.869141   \n",
       "6666 2013-12-31  23328.439453  23361.339844  23271.800781  23306.390625   \n",
       "\n",
       "               Vol    Change  \n",
       "4205  3.055750e+08  0.017934  \n",
       "4206  3.629984e+08  0.015924  \n",
       "4207  4.401008e+08  0.002383  \n",
       "4208  3.816566e+08  0.009309  \n",
       "4209  4.860842e+08  0.003489  \n",
       "...            ...       ...  \n",
       "6662  1.094500e+09  0.004795  \n",
       "6663  8.014690e+08  0.011255  \n",
       "6664  8.501512e+08  0.002748  \n",
       "6665  1.000191e+09  0.000070  \n",
       "6666  6.741771e+08  0.002647  \n",
       "\n",
       "[2462 rows x 7 columns]"
      ]
     },
     "execution_count": 31,
     "metadata": {},
     "output_type": "execute_result"
    }
   ],
   "source": [
    "train_df_list[2]"
   ]
  },
  {
   "cell_type": "code",
   "execution_count": 74,
   "metadata": {},
   "outputs": [
    {
     "name": "stdout",
     "output_type": "stream",
     "text": [
      "0- Date Equals: True\n",
      "0- Has NaN: False\n",
      "1- Date Equals: True\n",
      "1- Has NaN: False\n",
      "2- Date Equals: True\n",
      "2- Has NaN: False\n"
     ]
    }
   ],
   "source": [
    "window_size = 6\n",
    "self_df_list = []\n",
    "\n",
    "df_list[0].dropna(inplace = True)\n",
    "intersect_dates = train_df_list[0]['Date']\n",
    "for df in train_df_list[1:]:\n",
    "    df.dropna(inplace = True)\n",
    "    intersect_dates = np.intersect1d(intersect_dates, df['Date'])\n",
    "# Remove all NAN in the df\n",
    "\n",
    "start_date = np.min(intersect_dates)\n",
    "end_date = np.max(intersect_dates)\n",
    "\n",
    "for i, df in enumerate(df_list):\n",
    "    self_df_list.append(df[df['Date'].isin(intersect_dates)].reset_index(drop=True))\n",
    "    print (str(i)+\"- Date Equals: \"+str(np.array_equal(intersect_dates, self_df_list[i]['Date'])))\n",
    "    print(str(i)+\"- Has NaN: \"+str(self_df_list[0].isna().values.any()))\n"
   ]
  },
  {
   "cell_type": "code",
   "execution_count": 75,
   "metadata": {},
   "outputs": [],
   "source": [
    "market_number = len(self_df_list)+1\n",
    "lower_bond = [[0.0]*market_number]*3\n",
    "lower_bond = np.array(lower_bond)\n",
    "lower_bond = np.reshape(lower_bond, (1,-1))\n",
    "\n",
    "upper_bond = [[1.0]*market_number]*3\n",
    "upper_bond = np.array(upper_bond)\n",
    "upper_bond = np.reshape(upper_bond, (1,-1))"
   ]
  },
  {
   "cell_type": "code",
   "execution_count": 76,
   "metadata": {},
   "outputs": [
    {
     "data": {
      "text/plain": [
       "array([[0., 0., 0., 0., 0., 0., 0., 0., 0., 0., 0., 0.]])"
      ]
     },
     "execution_count": 76,
     "metadata": {},
     "output_type": "execute_result"
    }
   ],
   "source": [
    "lower_bond"
   ]
  },
  {
   "cell_type": "code",
   "execution_count": 77,
   "metadata": {},
   "outputs": [
    {
     "data": {
      "text/plain": [
       "array([[1., 1., 1., 1., 1., 1., 1., 1., 1., 1., 1., 1.]])"
      ]
     },
     "execution_count": 77,
     "metadata": {},
     "output_type": "execute_result"
    }
   ],
   "source": [
    "upper_bond"
   ]
  },
  {
   "cell_type": "code",
   "execution_count": 58,
   "metadata": {},
   "outputs": [
    {
     "data": {
      "text/plain": [
       "0      2004-01-02\n",
       "1      2004-01-05\n",
       "2      2004-01-06\n",
       "3      2004-01-07\n",
       "4      2004-01-08\n",
       "          ...    \n",
       "2384   2013-12-19\n",
       "2385   2013-12-20\n",
       "2386   2013-12-23\n",
       "2387   2013-12-27\n",
       "2388   2013-12-30\n",
       "Name: Date, Length: 2389, dtype: datetime64[ns]"
      ]
     },
     "execution_count": 58,
     "metadata": {},
     "output_type": "execute_result"
    }
   ],
   "source": []
  },
  {
   "cell_type": "code",
   "execution_count": null,
   "metadata": {},
   "outputs": [],
   "source": []
  }
 ],
 "metadata": {
  "kernelspec": {
   "display_name": "Python 3",
   "language": "python",
   "name": "python3"
  },
  "language_info": {
   "codemirror_mode": {
    "name": "ipython",
    "version": 3
   },
   "file_extension": ".py",
   "mimetype": "text/x-python",
   "name": "python",
   "nbconvert_exporter": "python",
   "pygments_lexer": "ipython3",
   "version": "3.6.5"
  }
 },
 "nbformat": 4,
 "nbformat_minor": 2
}
