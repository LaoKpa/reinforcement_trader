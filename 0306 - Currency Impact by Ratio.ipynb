{
 "cells": [
  {
   "cell_type": "code",
   "execution_count": 1,
   "metadata": {},
   "outputs": [],
   "source": [
    "import pandas as pd\n",
    "import numpy as np\n",
    "from os import path\n",
    "from CSVUtils import *\n",
    "import ta\n",
    "import matplotlib.pyplot as plt\n",
    "import seaborn as sn\n",
    "import calendar\n",
    "from pprint import pprint"
   ]
  },
  {
   "cell_type": "code",
   "execution_count": 22,
   "metadata": {},
   "outputs": [],
   "source": [
    "DIR = \"./from github/Stock-Trading-Environment/data\"\n",
    "nameList = [\"^BVSP\", \"^TWII\", \"^IXIC\"]\n",
    "df_list = []\n",
    "startDate = pd.to_datetime(\"2015-01-01\")\n",
    "endDate = pd.to_datetime(\"2019-12-31\")\n",
    "\n",
    "for name in nameList:\n",
    "    df = csv2df(csv_path=DIR, csv_name=name+\".csv\", source=\"yahoo\")\n",
    "    df['Date'] = pd.to_datetime(df['Date'])\n",
    "    df = df.dropna()\n",
    "    df_list.append(df)"
   ]
  },
  {
   "cell_type": "code",
   "execution_count": 23,
   "metadata": {},
   "outputs": [],
   "source": [
    "twd_df = pd.read_csv(\"./input/currency/TWD_1995-2020.csv\")\n",
    "brl_df = pd.read_csv(\"./input/currency/BRL_1995-2020.csv\")\n",
    "\n",
    "twd_df['Date'] = pd.to_datetime(twd_df['Date'])\n",
    "brl_df['Date'] = pd.to_datetime(brl_df['Date'])"
   ]
  },
  {
   "cell_type": "code",
   "execution_count": 24,
   "metadata": {},
   "outputs": [],
   "source": [
    "twd_change = twd_df[['Date','Change']]\n",
    "brl_change = brl_df[['Date','Change']]"
   ]
  },
  {
   "cell_type": "code",
   "execution_count": 25,
   "metadata": {},
   "outputs": [],
   "source": [
    "def stem_df(df, intersect_dates, startDate, endDate):\n",
    "    df.dropna(inplace = True)\n",
    "    df = df[df['Date'].isin(intersect_dates)].reset_index(drop=True)\n",
    "    df = df[(df['Date'] >= startDate) & (df['Date'] <= endDate)]\n",
    "    df = df.reset_index(drop=True)\n",
    "    return df"
   ]
  },
  {
   "cell_type": "code",
   "execution_count": 26,
   "metadata": {},
   "outputs": [
    {
     "name": "stderr",
     "output_type": "stream",
     "text": [
      "/Users/lzcai/anaconda3/lib/python3.6/site-packages/ipykernel_launcher.py:3: SettingWithCopyWarning: \n",
      "A value is trying to be set on a copy of a slice from a DataFrame\n",
      "\n",
      "See the caveats in the documentation: http://pandas.pydata.org/pandas-docs/stable/user_guide/indexing.html#returning-a-view-versus-a-copy\n",
      "  This is separate from the ipykernel package so we can avoid doing imports until\n"
     ]
    }
   ],
   "source": [
    "intersect_dates = df_list[0]['Date']\n",
    "for df in df_list[1:]+[twd_change,brl_change]:\n",
    "    df.dropna(inplace = True)\n",
    "    intersect_dates = np.intersect1d(intersect_dates, df['Date'])"
   ]
  },
  {
   "cell_type": "code",
   "execution_count": 30,
   "metadata": {},
   "outputs": [],
   "source": [
    "for i, df in enumerate(df_list):\n",
    "    df_list[i] = stem_df(df, intersect_dates, startDate, endDate)\n",
    "twd_change = stem_df(twd_change, intersect_dates, startDate, endDate)\n",
    "brl_change = stem_df(brl_change, intersect_dates, startDate, endDate)"
   ]
  },
  {
   "cell_type": "code",
   "execution_count": 34,
   "metadata": {},
   "outputs": [],
   "source": [
    "df_list[0]['FX Change'] = brl_change['Change']\n",
    "df_list[1]['FX Change'] = twd_change['Change']\n",
    "df_list[2]['FX Change'] = 0"
   ]
  },
  {
   "cell_type": "code",
   "execution_count": 47,
   "metadata": {
    "scrolled": true
   },
   "outputs": [],
   "source": [
    "for i, df in enumerate(df_list):\n",
    "    df['Cum FX Change'] = (df['FX Change']+1).cumprod()\n",
    "    df['Actual Price'] = df['Price']*df['Cum FX Change']"
   ]
  },
  {
   "cell_type": "code",
   "execution_count": 52,
   "metadata": {},
   "outputs": [
    {
     "data": {
      "text/html": [
       "<div>\n",
       "<style scoped>\n",
       "    .dataframe tbody tr th:only-of-type {\n",
       "        vertical-align: middle;\n",
       "    }\n",
       "\n",
       "    .dataframe tbody tr th {\n",
       "        vertical-align: top;\n",
       "    }\n",
       "\n",
       "    .dataframe thead th {\n",
       "        text-align: right;\n",
       "    }\n",
       "</style>\n",
       "<table border=\"1\" class=\"dataframe\">\n",
       "  <thead>\n",
       "    <tr style=\"text-align: right;\">\n",
       "      <th></th>\n",
       "      <th>Date</th>\n",
       "      <th>Open</th>\n",
       "      <th>High</th>\n",
       "      <th>Low</th>\n",
       "      <th>Price</th>\n",
       "      <th>Vol</th>\n",
       "      <th>Change</th>\n",
       "      <th>FX Change</th>\n",
       "      <th>Cum FX Change</th>\n",
       "      <th>Actual Price</th>\n",
       "    </tr>\n",
       "  </thead>\n",
       "  <tbody>\n",
       "    <tr>\n",
       "      <th>0</th>\n",
       "      <td>2015-01-05</td>\n",
       "      <td>48512.0</td>\n",
       "      <td>48512.0</td>\n",
       "      <td>47264.0</td>\n",
       "      <td>47517.0</td>\n",
       "      <td>3866100.0</td>\n",
       "      <td>-0.020510</td>\n",
       "      <td>-0.0046</td>\n",
       "      <td>0.995400</td>\n",
       "      <td>47298.421800</td>\n",
       "    </tr>\n",
       "    <tr>\n",
       "      <th>1</th>\n",
       "      <td>2015-01-06</td>\n",
       "      <td>47517.0</td>\n",
       "      <td>48061.0</td>\n",
       "      <td>47338.0</td>\n",
       "      <td>48001.0</td>\n",
       "      <td>4559300.0</td>\n",
       "      <td>0.010186</td>\n",
       "      <td>0.0024</td>\n",
       "      <td>0.997789</td>\n",
       "      <td>47894.867869</td>\n",
       "    </tr>\n",
       "    <tr>\n",
       "      <th>2</th>\n",
       "      <td>2015-01-07</td>\n",
       "      <td>48006.0</td>\n",
       "      <td>49882.0</td>\n",
       "      <td>48006.0</td>\n",
       "      <td>49463.0</td>\n",
       "      <td>4408800.0</td>\n",
       "      <td>0.030458</td>\n",
       "      <td>0.0062</td>\n",
       "      <td>1.003975</td>\n",
       "      <td>49659.627868</td>\n",
       "    </tr>\n",
       "    <tr>\n",
       "      <th>3</th>\n",
       "      <td>2015-01-08</td>\n",
       "      <td>49463.0</td>\n",
       "      <td>50261.0</td>\n",
       "      <td>49017.0</td>\n",
       "      <td>49943.0</td>\n",
       "      <td>3621900.0</td>\n",
       "      <td>0.009704</td>\n",
       "      <td>0.0075</td>\n",
       "      <td>1.011505</td>\n",
       "      <td>50517.597508</td>\n",
       "    </tr>\n",
       "    <tr>\n",
       "      <th>4</th>\n",
       "      <td>2015-01-09</td>\n",
       "      <td>49955.0</td>\n",
       "      <td>49955.0</td>\n",
       "      <td>48501.0</td>\n",
       "      <td>48840.0</td>\n",
       "      <td>2999200.0</td>\n",
       "      <td>-0.022085</td>\n",
       "      <td>0.0125</td>\n",
       "      <td>1.024149</td>\n",
       "      <td>50019.431263</td>\n",
       "    </tr>\n",
       "  </tbody>\n",
       "</table>\n",
       "</div>"
      ],
      "text/plain": [
       "        Date     Open     High      Low    Price        Vol    Change  \\\n",
       "0 2015-01-05  48512.0  48512.0  47264.0  47517.0  3866100.0 -0.020510   \n",
       "1 2015-01-06  47517.0  48061.0  47338.0  48001.0  4559300.0  0.010186   \n",
       "2 2015-01-07  48006.0  49882.0  48006.0  49463.0  4408800.0  0.030458   \n",
       "3 2015-01-08  49463.0  50261.0  49017.0  49943.0  3621900.0  0.009704   \n",
       "4 2015-01-09  49955.0  49955.0  48501.0  48840.0  2999200.0 -0.022085   \n",
       "\n",
       "   FX Change  Cum FX Change  Actual Price  \n",
       "0    -0.0046       0.995400  47298.421800  \n",
       "1     0.0024       0.997789  47894.867869  \n",
       "2     0.0062       1.003975  49659.627868  \n",
       "3     0.0075       1.011505  50517.597508  \n",
       "4     0.0125       1.024149  50019.431263  "
      ]
     },
     "execution_count": 52,
     "metadata": {},
     "output_type": "execute_result"
    }
   ],
   "source": [
    "df_list[0].head()"
   ]
  },
  {
   "cell_type": "code",
   "execution_count": null,
   "metadata": {},
   "outputs": [],
   "source": []
  },
  {
   "cell_type": "code",
   "execution_count": null,
   "metadata": {},
   "outputs": [],
   "source": []
  },
  {
   "cell_type": "code",
   "execution_count": null,
   "metadata": {},
   "outputs": [],
   "source": []
  },
  {
   "cell_type": "code",
   "execution_count": null,
   "metadata": {},
   "outputs": [],
   "source": []
  },
  {
   "cell_type": "code",
   "execution_count": null,
   "metadata": {},
   "outputs": [],
   "source": []
  },
  {
   "cell_type": "code",
   "execution_count": null,
   "metadata": {},
   "outputs": [],
   "source": []
  },
  {
   "cell_type": "code",
   "execution_count": null,
   "metadata": {},
   "outputs": [],
   "source": []
  },
  {
   "cell_type": "code",
   "execution_count": null,
   "metadata": {},
   "outputs": [],
   "source": []
  },
  {
   "cell_type": "code",
   "execution_count": null,
   "metadata": {},
   "outputs": [],
   "source": []
  },
  {
   "cell_type": "code",
   "execution_count": null,
   "metadata": {},
   "outputs": [],
   "source": []
  }
 ],
 "metadata": {
  "kernelspec": {
   "display_name": "Python 3",
   "language": "python",
   "name": "python3"
  },
  "language_info": {
   "codemirror_mode": {
    "name": "ipython",
    "version": 3
   },
   "file_extension": ".py",
   "mimetype": "text/x-python",
   "name": "python",
   "nbconvert_exporter": "python",
   "pygments_lexer": "ipython3",
   "version": "3.6.9"
  }
 },
 "nbformat": 4,
 "nbformat_minor": 2
}
