{
 "cells": [
  {
   "cell_type": "code",
   "execution_count": 102,
   "metadata": {},
   "outputs": [],
   "source": [
    "import pandas as pd\n",
    "import numpy as np\n",
    "from os import path\n",
    "from CSVUtils import *\n",
    "import ta\n",
    "import matplotlib.pyplot as plt\n",
    "import seaborn as sn\n",
    "from scipy.stats import zscore"
   ]
  },
  {
   "cell_type": "code",
   "execution_count": 56,
   "metadata": {},
   "outputs": [],
   "source": [
    "def exponential_moving_avg(df: pd.DataFrame, price_col='Price', window_size=15, center=True):\n",
    "    if center == True:\n",
    "        ema_df = df[price_col].shift(int(window_size/2)).ewm(span=window_size).mean()\n",
    "        return _remove_trailing_data(ema_df, window_size)\n",
    "    else:\n",
    "        ema_df = pd.Series.ewm(df[price_col], span=window_size).mean()\n",
    "        return ema_df\n",
    "    \n",
    "def _remove_trailing_data(df: pd.DataFrame, window_size):\n",
    "    return df.shift(-int(window_size/2)*2).shift(int(window_size/2))"
   ]
  },
  {
   "cell_type": "code",
   "execution_count": 61,
   "metadata": {},
   "outputs": [],
   "source": [
    "DIR = \"./input/yahoo\"\n",
    "nameList = [\"RSX\", \"EWH\", \"IVV\"]\n",
    "trainStartDate = pd.to_datetime(\"2000-01-01\")\n",
    "trainEndDate = pd.to_datetime(\"2014-12-31\")\n",
    "testStartDate = pd.to_datetime(\"2015-01-01\")\n",
    "testEndDate = pd.to_datetime(\"2019-12-31\")\n",
    "df_list = []\n",
    "\n",
    "for name in nameList:\n",
    "#     df = csv2df(csv_path=DIR, csv_name=nameList[2]+\".csv\", source=\"yahoo\")\n",
    "    df = csv2df(csv_path=DIR, csv_name=name+\".csv\", source=\"yahoo\")\n",
    "    df_list.append(df)"
   ]
  },
  {
   "cell_type": "code",
   "execution_count": null,
   "metadata": {},
   "outputs": [],
   "source": []
  },
  {
   "cell_type": "code",
   "execution_count": 169,
   "metadata": {},
   "outputs": [],
   "source": [
    "# df = df_list[2]\n",
    "window_size = 15\n",
    "for df in df_list:\n",
    "    df['EMA'] = df['Price'].ewm(span=window_size).mean()\n",
    "    df['MACD_diff'] = ta.trend.macd_diff(df['Price'])\n",
    "    macd_direction = df['MACD_diff']/np.abs(df['MACD_diff'])\n",
    "    df['MACD_change'] = (-1*macd_direction*macd_direction.shift(1)+1)/2\n",
    "    \n",
    "    delta_time = []\n",
    "    for i in df['MACD_change']:\n",
    "        if len(delta_time) == 0:\n",
    "            result = 0\n",
    "        elif i==0:\n",
    "            result = delta_time[-1]+1\n",
    "        else: #Nan or 1\n",
    "            result = 0\n",
    "        delta_time.append(result)\n",
    "    df['delta_time'] = delta_time\n",
    "    df = df.drop(['Open','High','Low','Price','Vol'], axis=1)\n",
    "    df = df.dropna()\n",
    "    df = df.reset_index(drop=True)"
   ]
  },
  {
   "cell_type": "code",
   "execution_count": 158,
   "metadata": {},
   "outputs": [
    {
     "data": {
      "text/plain": [
       "array([[ 1.00000000e+00, -2.26594579e-02,  1.30000000e+01,\n",
       "         1.00000000e+00,  1.13222550e-02,  2.50000000e+01],\n",
       "       [ 1.00360157e+00,  3.33217408e-02,  0.00000000e+00,\n",
       "         1.00314158e+00,  9.84822307e-03,  2.60000000e+01],\n",
       "       [ 1.00695778e+00,  6.83277296e-02,  1.00000000e+00,\n",
       "         1.00424060e+00,  1.24558588e-03,  2.70000000e+01],\n",
       "       [ 1.01488797e+00,  1.72313420e-01,  2.00000000e+00,\n",
       "         1.00685210e+00,  5.39036706e-04,  2.80000000e+01],\n",
       "       [ 1.02221099e+00,  2.32722260e-01,  3.00000000e+00,\n",
       "         1.00858725e+00, -3.12648272e-03,  0.00000000e+00],\n",
       "       [ 1.02779919e+00,  2.40979053e-01,  4.00000000e+00,\n",
       "         1.00955548e+00, -8.44773181e-03,  1.00000000e+00],\n",
       "       [ 1.03706777e+00,  3.06879765e-01,  5.00000000e+00,\n",
       "         1.00820286e+00, -2.04663831e-02,  2.00000000e+00],\n",
       "       [ 1.04005625e+00,  2.37872930e-01,  6.00000000e+00,\n",
       "         1.00646932e+00, -3.00481984e-02,  3.00000000e+00],\n",
       "       [ 1.04553924e+00,  2.27728309e-01,  7.00000000e+00,\n",
       "         1.00660237e+00, -2.95875936e-02,  4.00000000e+00],\n",
       "       [ 1.04826264e+00,  1.67674444e-01,  8.00000000e+00,\n",
       "         1.00891865e+00, -2.08032344e-02,  5.00000000e+00],\n",
       "       [ 1.04782876e+00,  6.60591670e-02,  9.00000000e+00,\n",
       "         1.01094540e+00, -1.51589973e-02,  6.00000000e+00],\n",
       "       [ 1.04294217e+00, -8.61175696e-02,  0.00000000e+00,\n",
       "         1.01271880e+00, -1.17442578e-02,  7.00000000e+00],\n",
       "       [ 1.04253319e+00, -1.14719429e-01,  1.00000000e+00,\n",
       "         1.01482051e+00, -7.89302956e-03,  8.00000000e+00],\n",
       "       [ 1.04353251e+00, -1.08189708e-01,  2.00000000e+00,\n",
       "         1.01940932e+00,  3.99197004e-03,  0.00000000e+00],\n",
       "       [ 1.04689085e+00, -5.99432384e-02,  3.00000000e+00,\n",
       "         1.02232459e+00,  6.37789309e-03,  1.00000000e+00]])"
      ]
     },
     "execution_count": 158,
     "metadata": {},
     "output_type": "execute_result"
    }
   ],
   "source": [
    "a = df_list[0][['EMA', 'MACD_diff', 'delta_time']][150:165]\n",
    "b = df_list[1][['EMA', 'MACD_diff', 'delta_time']][150:165]\n",
    "result = pd.concat([a, b], axis=1, sort=False)\n",
    "result.columns = ['EMA_h', 'MACD_diff_h', 'delta_time_h', 'EMA_m', 'MACD_diff_m', 'delta_time_m']\n",
    "result.reset_index(inplace=True, drop=True)\n",
    "result[['EMA_h', 'EMA_m']] /= result[['EMA_h', 'EMA_m']].iloc[0]\n",
    "result.values"
   ]
  },
  {
   "cell_type": "code",
   "execution_count": 162,
   "metadata": {},
   "outputs": [
    {
     "data": {
      "text/plain": [
       "1"
      ]
     },
     "execution_count": 162,
     "metadata": {},
     "output_type": "execute_result"
    }
   ],
   "source": [
    "np.argmax([0,1,0])"
   ]
  },
  {
   "cell_type": "code",
   "execution_count": null,
   "metadata": {},
   "outputs": [],
   "source": [
    "\n"
   ]
  },
  {
   "cell_type": "code",
   "execution_count": 75,
   "metadata": {},
   "outputs": [
    {
     "data": {
      "text/plain": [
       "0       NaN\n",
       "1       NaN\n",
       "2       NaN\n",
       "3       NaN\n",
       "4       NaN\n",
       "       ... \n",
       "4967    0.0\n",
       "4968    0.0\n",
       "4969    1.0\n",
       "4970    0.0\n",
       "4971    0.0\n",
       "Name: MACD_diff, Length: 4972, dtype: float64"
      ]
     },
     "execution_count": 75,
     "metadata": {},
     "output_type": "execute_result"
    }
   ],
   "source": [
    "macd_change = (-1*macd_direction*macd_direction.shift(1)+1)/2\n",
    "macd_change"
   ]
  },
  {
   "cell_type": "code",
   "execution_count": 108,
   "metadata": {},
   "outputs": [
    {
     "name": "stdout",
     "output_type": "stream",
     "text": [
      "RSX\n",
      "EWH\n",
      "IVV\n"
     ]
    }
   ],
   "source": [
    "df_namelist = {\"high\": \"RSX\", \"mid\": \"EWH\", \"low\": \"IVV\"}\n",
    "for i in df_namelist:\n",
    "    print (df_namelist[i])"
   ]
  },
  {
   "cell_type": "code",
   "execution_count": 110,
   "metadata": {},
   "outputs": [
    {
     "data": {
      "text/plain": [
       "3"
      ]
     },
     "execution_count": 110,
     "metadata": {},
     "output_type": "execute_result"
    }
   ],
   "source": [
    "len(df_namelist)"
   ]
  },
  {
   "cell_type": "code",
   "execution_count": 173,
   "metadata": {},
   "outputs": [
    {
     "data": {
      "text/html": [
       "<div>\n",
       "<style scoped>\n",
       "    .dataframe tbody tr th:only-of-type {\n",
       "        vertical-align: middle;\n",
       "    }\n",
       "\n",
       "    .dataframe tbody tr th {\n",
       "        vertical-align: top;\n",
       "    }\n",
       "\n",
       "    .dataframe thead th {\n",
       "        text-align: right;\n",
       "    }\n",
       "</style>\n",
       "<table border=\"1\" class=\"dataframe\">\n",
       "  <thead>\n",
       "    <tr style=\"text-align: right;\">\n",
       "      <th></th>\n",
       "      <th>Date</th>\n",
       "      <th>Change</th>\n",
       "      <th>EMA</th>\n",
       "      <th>MACD_diff</th>\n",
       "      <th>MACD_change</th>\n",
       "      <th>delta_time</th>\n",
       "    </tr>\n",
       "  </thead>\n",
       "  <tbody>\n",
       "    <tr>\n",
       "      <td>94</td>\n",
       "      <td>2000-11-20</td>\n",
       "      <td>-0.015429</td>\n",
       "      <td>95.501575</td>\n",
       "      <td>-0.312889</td>\n",
       "      <td>0.0</td>\n",
       "      <td>5</td>\n",
       "    </tr>\n",
       "    <tr>\n",
       "      <td>95</td>\n",
       "      <td>2000-11-21</td>\n",
       "      <td>0.007197</td>\n",
       "      <td>95.244938</td>\n",
       "      <td>-0.316921</td>\n",
       "      <td>0.0</td>\n",
       "      <td>6</td>\n",
       "    </tr>\n",
       "    <tr>\n",
       "      <td>96</td>\n",
       "      <td>2000-11-22</td>\n",
       "      <td>-0.024548</td>\n",
       "      <td>94.733632</td>\n",
       "      <td>-0.443702</td>\n",
       "      <td>0.0</td>\n",
       "      <td>7</td>\n",
       "    </tr>\n",
       "    <tr>\n",
       "      <td>97</td>\n",
       "      <td>2000-11-24</td>\n",
       "      <td>0.017486</td>\n",
       "      <td>94.485485</td>\n",
       "      <td>-0.391643</td>\n",
       "      <td>0.0</td>\n",
       "      <td>8</td>\n",
       "    </tr>\n",
       "    <tr>\n",
       "      <td>98</td>\n",
       "      <td>2000-11-27</td>\n",
       "      <td>0.008244</td>\n",
       "      <td>94.363935</td>\n",
       "      <td>-0.282252</td>\n",
       "      <td>0.0</td>\n",
       "      <td>9</td>\n",
       "    </tr>\n",
       "    <tr>\n",
       "      <td>99</td>\n",
       "      <td>2000-11-28</td>\n",
       "      <td>-0.013014</td>\n",
       "      <td>94.105455</td>\n",
       "      <td>-0.268480</td>\n",
       "      <td>0.0</td>\n",
       "      <td>10</td>\n",
       "    </tr>\n",
       "  </tbody>\n",
       "</table>\n",
       "</div>"
      ],
      "text/plain": [
       "         Date    Change        EMA  MACD_diff  MACD_change  delta_time\n",
       "94 2000-11-20 -0.015429  95.501575  -0.312889          0.0           5\n",
       "95 2000-11-21  0.007197  95.244938  -0.316921          0.0           6\n",
       "96 2000-11-22 -0.024548  94.733632  -0.443702          0.0           7\n",
       "97 2000-11-24  0.017486  94.485485  -0.391643          0.0           8\n",
       "98 2000-11-27  0.008244  94.363935  -0.282252          0.0           9\n",
       "99 2000-11-28 -0.013014  94.105455  -0.268480          0.0          10"
      ]
     },
     "execution_count": 173,
     "metadata": {},
     "output_type": "execute_result"
    }
   ],
   "source": [
    "df.iloc[100-6:100]"
   ]
  },
  {
   "cell_type": "code",
   "execution_count": 174,
   "metadata": {},
   "outputs": [
    {
     "data": {
      "text/plain": [
       "Date           2000-11-29 00:00:00\n",
       "Change                 -0.00186684\n",
       "EMA                        93.8577\n",
       "MACD_diff                -0.248082\n",
       "MACD_change                      0\n",
       "delta_time                      11\n",
       "Name: 100, dtype: object"
      ]
     },
     "execution_count": 174,
     "metadata": {},
     "output_type": "execute_result"
    }
   ],
   "source": [
    "df.iloc[100]"
   ]
  },
  {
   "cell_type": "code",
   "execution_count": null,
   "metadata": {},
   "outputs": [],
   "source": []
  }
 ],
 "metadata": {
  "kernelspec": {
   "display_name": "Python 3",
   "language": "python",
   "name": "python3"
  },
  "language_info": {
   "codemirror_mode": {
    "name": "ipython",
    "version": 3
   },
   "file_extension": ".py",
   "mimetype": "text/x-python",
   "name": "python",
   "nbconvert_exporter": "python",
   "pygments_lexer": "ipython3",
   "version": "3.6.7"
  }
 },
 "nbformat": 4,
 "nbformat_minor": 2
}
