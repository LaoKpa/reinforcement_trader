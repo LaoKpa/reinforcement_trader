{
 "cells": [
  {
   "cell_type": "code",
   "execution_count": 102,
   "metadata": {},
   "outputs": [],
   "source": [
    "import pandas as pd\n",
    "import numpy as np\n",
    "from os import path\n",
    "from CSVUtils import *\n",
    "import ta\n",
    "import matplotlib.pyplot as plt\n",
    "import seaborn as sn\n",
    "from scipy.stats import zscore"
   ]
  },
  {
   "cell_type": "code",
   "execution_count": 56,
   "metadata": {},
   "outputs": [],
   "source": [
    "def exponential_moving_avg(df: pd.DataFrame, price_col='Price', window_size=15, center=True):\n",
    "    if center == True:\n",
    "        ema_df = df[price_col].shift(int(window_size/2)).ewm(span=window_size).mean()\n",
    "        return _remove_trailing_data(ema_df, window_size)\n",
    "    else:\n",
    "        ema_df = pd.Series.ewm(df[price_col], span=window_size).mean()\n",
    "        return ema_df\n",
    "    \n",
    "def _remove_trailing_data(df: pd.DataFrame, window_size):\n",
    "    return df.shift(-int(window_size/2)*2).shift(int(window_size/2))"
   ]
  },
  {
   "cell_type": "code",
   "execution_count": 61,
   "metadata": {},
   "outputs": [],
   "source": [
    "DIR = \"./input/yahoo\"\n",
    "nameList = [\"RSX\", \"EWH\", \"IVV\"]\n",
    "trainStartDate = pd.to_datetime(\"2000-01-01\")\n",
    "trainEndDate = pd.to_datetime(\"2014-12-31\")\n",
    "testStartDate = pd.to_datetime(\"2015-01-01\")\n",
    "testEndDate = pd.to_datetime(\"2019-12-31\")\n",
    "df_list = []\n",
    "\n",
    "for name in nameList:\n",
    "#     df = csv2df(csv_path=DIR, csv_name=nameList[2]+\".csv\", source=\"yahoo\")\n",
    "    df = csv2df(csv_path=DIR, csv_name=name+\".csv\", source=\"yahoo\")\n",
    "    df_list.append(df)"
   ]
  },
  {
   "cell_type": "code",
   "execution_count": null,
   "metadata": {},
   "outputs": [],
   "source": []
  },
  {
   "cell_type": "code",
   "execution_count": 105,
   "metadata": {},
   "outputs": [],
   "source": [
    "# df = df_list[2]\n",
    "window_size = 15\n",
    "for df in df_list:\n",
    "    df['EMA'] = df['Price'].ewm(span=window_size).mean()\n",
    "    df['MACD_diff'] = ta.trend.macd_diff(df['Price'])\n",
    "    macd_direction = df['MACD_diff']/np.abs(df['MACD_diff'])\n",
    "    df['MACD_change'] = (-1*macd_direction*macd_direction.shift(1)+1)/2\n",
    "    \n",
    "    delta_time = []\n",
    "    for i in df['MACD_change']:\n",
    "        if len(delta_time) == 0:\n",
    "            result = 0\n",
    "        elif i==0:\n",
    "            result = delta_time[-1]+1\n",
    "        else: #Nan or 1\n",
    "            result = 0\n",
    "        delta_time.append(result)\n",
    "    df['delta_time'] = delta_time\n",
    "    df = df.drop(['Open','High','Low','Price','Vol'], axis=1)\n",
    "    df = df.dropna()"
   ]
  },
  {
   "cell_type": "code",
   "execution_count": 106,
   "metadata": {},
   "outputs": [
    {
     "data": {
      "text/html": [
       "<div>\n",
       "<style scoped>\n",
       "    .dataframe tbody tr th:only-of-type {\n",
       "        vertical-align: middle;\n",
       "    }\n",
       "\n",
       "    .dataframe tbody tr th {\n",
       "        vertical-align: top;\n",
       "    }\n",
       "\n",
       "    .dataframe thead th {\n",
       "        text-align: right;\n",
       "    }\n",
       "</style>\n",
       "<table border=\"1\" class=\"dataframe\">\n",
       "  <thead>\n",
       "    <tr style=\"text-align: right;\">\n",
       "      <th></th>\n",
       "      <th>Date</th>\n",
       "      <th>Change</th>\n",
       "      <th>EMA</th>\n",
       "      <th>MACD_diff</th>\n",
       "      <th>MACD_change</th>\n",
       "      <th>delta_time</th>\n",
       "    </tr>\n",
       "  </thead>\n",
       "  <tbody>\n",
       "    <tr>\n",
       "      <td>34</td>\n",
       "      <td>2000-07-10</td>\n",
       "      <td>-0.001690</td>\n",
       "      <td>100.633190</td>\n",
       "      <td>0.002982</td>\n",
       "      <td>1.0</td>\n",
       "      <td>0</td>\n",
       "    </tr>\n",
       "    <tr>\n",
       "      <td>35</td>\n",
       "      <td>2000-07-11</td>\n",
       "      <td>0.003808</td>\n",
       "      <td>100.806802</td>\n",
       "      <td>0.055649</td>\n",
       "      <td>0.0</td>\n",
       "      <td>1</td>\n",
       "    </tr>\n",
       "    <tr>\n",
       "      <td>36</td>\n",
       "      <td>2000-07-12</td>\n",
       "      <td>0.005480</td>\n",
       "      <td>101.028754</td>\n",
       "      <td>0.116560</td>\n",
       "      <td>0.0</td>\n",
       "      <td>2</td>\n",
       "    </tr>\n",
       "    <tr>\n",
       "      <td>37</td>\n",
       "      <td>2000-07-13</td>\n",
       "      <td>0.003354</td>\n",
       "      <td>101.265859</td>\n",
       "      <td>0.165460</td>\n",
       "      <td>0.0</td>\n",
       "      <td>3</td>\n",
       "    </tr>\n",
       "    <tr>\n",
       "      <td>38</td>\n",
       "      <td>2000-07-14</td>\n",
       "      <td>0.009296</td>\n",
       "      <td>101.593215</td>\n",
       "      <td>0.242989</td>\n",
       "      <td>0.0</td>\n",
       "      <td>4</td>\n",
       "    </tr>\n",
       "    <tr>\n",
       "      <td>...</td>\n",
       "      <td>...</td>\n",
       "      <td>...</td>\n",
       "      <td>...</td>\n",
       "      <td>...</td>\n",
       "      <td>...</td>\n",
       "      <td>...</td>\n",
       "    </tr>\n",
       "    <tr>\n",
       "      <td>4967</td>\n",
       "      <td>2020-02-19</td>\n",
       "      <td>0.004789</td>\n",
       "      <td>335.249885</td>\n",
       "      <td>0.464364</td>\n",
       "      <td>0.0</td>\n",
       "      <td>7</td>\n",
       "    </tr>\n",
       "    <tr>\n",
       "      <td>4968</td>\n",
       "      <td>2020-02-20</td>\n",
       "      <td>-0.004090</td>\n",
       "      <td>335.654898</td>\n",
       "      <td>0.308837</td>\n",
       "      <td>0.0</td>\n",
       "      <td>8</td>\n",
       "    </tr>\n",
       "    <tr>\n",
       "      <td>4969</td>\n",
       "      <td>2020-02-21</td>\n",
       "      <td>-0.010281</td>\n",
       "      <td>335.574287</td>\n",
       "      <td>-0.056281</td>\n",
       "      <td>1.0</td>\n",
       "      <td>0</td>\n",
       "    </tr>\n",
       "    <tr>\n",
       "      <td>4970</td>\n",
       "      <td>2020-02-24</td>\n",
       "      <td>-0.033372</td>\n",
       "      <td>334.106249</td>\n",
       "      <td>-1.024897</td>\n",
       "      <td>0.0</td>\n",
       "      <td>1</td>\n",
       "    </tr>\n",
       "    <tr>\n",
       "      <td>4971</td>\n",
       "      <td>2020-02-25</td>\n",
       "      <td>-0.029985</td>\n",
       "      <td>331.607968</td>\n",
       "      <td>-2.224848</td>\n",
       "      <td>0.0</td>\n",
       "      <td>2</td>\n",
       "    </tr>\n",
       "  </tbody>\n",
       "</table>\n",
       "<p>4938 rows × 6 columns</p>\n",
       "</div>"
      ],
      "text/plain": [
       "           Date    Change         EMA  MACD_diff  MACD_change  delta_time\n",
       "34   2000-07-10 -0.001690  100.633190   0.002982          1.0           0\n",
       "35   2000-07-11  0.003808  100.806802   0.055649          0.0           1\n",
       "36   2000-07-12  0.005480  101.028754   0.116560          0.0           2\n",
       "37   2000-07-13  0.003354  101.265859   0.165460          0.0           3\n",
       "38   2000-07-14  0.009296  101.593215   0.242989          0.0           4\n",
       "...         ...       ...         ...        ...          ...         ...\n",
       "4967 2020-02-19  0.004789  335.249885   0.464364          0.0           7\n",
       "4968 2020-02-20 -0.004090  335.654898   0.308837          0.0           8\n",
       "4969 2020-02-21 -0.010281  335.574287  -0.056281          1.0           0\n",
       "4970 2020-02-24 -0.033372  334.106249  -1.024897          0.0           1\n",
       "4971 2020-02-25 -0.029985  331.607968  -2.224848          0.0           2\n",
       "\n",
       "[4938 rows x 6 columns]"
      ]
     },
     "execution_count": 106,
     "metadata": {},
     "output_type": "execute_result"
    }
   ],
   "source": [
    "df"
   ]
  },
  {
   "cell_type": "code",
   "execution_count": null,
   "metadata": {},
   "outputs": [],
   "source": []
  },
  {
   "cell_type": "code",
   "execution_count": 79,
   "metadata": {},
   "outputs": [
    {
     "data": {
      "text/plain": [
       "0       0\n",
       "1       0\n",
       "2       0\n",
       "3       0\n",
       "4       0\n",
       "       ..\n",
       "4967    1\n",
       "4968    1\n",
       "4969    0\n",
       "4970    1\n",
       "4971    1\n",
       "Name: MACD_change, Length: 4972, dtype: int32"
      ]
     },
     "execution_count": 79,
     "metadata": {},
     "output_type": "execute_result"
    }
   ],
   "source": [
    "(df['MACD_change']==0).astype(int)\n"
   ]
  },
  {
   "cell_type": "code",
   "execution_count": 75,
   "metadata": {},
   "outputs": [
    {
     "data": {
      "text/plain": [
       "0       NaN\n",
       "1       NaN\n",
       "2       NaN\n",
       "3       NaN\n",
       "4       NaN\n",
       "       ... \n",
       "4967    0.0\n",
       "4968    0.0\n",
       "4969    1.0\n",
       "4970    0.0\n",
       "4971    0.0\n",
       "Name: MACD_diff, Length: 4972, dtype: float64"
      ]
     },
     "execution_count": 75,
     "metadata": {},
     "output_type": "execute_result"
    }
   ],
   "source": [
    "macd_change = (-1*macd_direction*macd_direction.shift(1)+1)/2\n",
    "macd_change"
   ]
  },
  {
   "cell_type": "code",
   "execution_count": 89,
   "metadata": {},
   "outputs": [
    {
     "ename": "SyntaxError",
     "evalue": "invalid syntax (<ipython-input-89-1bef20162f5b>, line 1)",
     "output_type": "error",
     "traceback": [
      "\u001b[1;36m  File \u001b[1;32m\"<ipython-input-89-1bef20162f5b>\"\u001b[1;36m, line \u001b[1;32m1\u001b[0m\n\u001b[1;33m    (if [])\u001b[0m\n\u001b[1;37m      ^\u001b[0m\n\u001b[1;31mSyntaxError\u001b[0m\u001b[1;31m:\u001b[0m invalid syntax\n"
     ]
    }
   ],
   "source": []
  },
  {
   "cell_type": "code",
   "execution_count": null,
   "metadata": {},
   "outputs": [],
   "source": []
  }
 ],
 "metadata": {
  "kernelspec": {
   "display_name": "Python 3",
   "language": "python",
   "name": "python3"
  },
  "language_info": {
   "codemirror_mode": {
    "name": "ipython",
    "version": 3
   },
   "file_extension": ".py",
   "mimetype": "text/x-python",
   "name": "python",
   "nbconvert_exporter": "python",
   "pygments_lexer": "ipython3",
   "version": "3.6.7"
  }
 },
 "nbformat": 4,
 "nbformat_minor": 2
}
